{
 "cells": [
  {
   "cell_type": "code",
   "execution_count": 2,
   "metadata": {},
   "outputs": [],
   "source": [
    "import sys\n",
    "sys.path.append(\"../../../\")"
   ]
  },
  {
   "cell_type": "code",
   "execution_count": 3,
   "metadata": {},
   "outputs": [],
   "source": [
    "import torch \n",
    "from gbiz_torch.model import ESMMModel"
   ]
  },
  {
   "cell_type": "code",
   "execution_count": 5,
   "metadata": {},
   "outputs": [
    {
     "name": "stdout",
     "output_type": "stream",
     "text": [
      "test_output is [tensor([[-0.3148],\n",
      "        [ 1.1638],\n",
      "        [-0.2132],\n",
      "        [ 0.3055],\n",
      "        [-0.2816],\n",
      "        [-0.1043],\n",
      "        [ 0.0905],\n",
      "        [-0.6721]], grad_fn=<AddmmBackward0>), tensor([[-0.1040],\n",
      "        [-0.9946],\n",
      "        [-0.3865],\n",
      "        [-0.1157],\n",
      "        [-0.1459],\n",
      "        [ 0.0288],\n",
      "        [-0.1918],\n",
      "        [-0.4099]], grad_fn=<AddmmBackward0>)]\n"
     ]
    }
   ],
   "source": [
    "test_input = torch.randn((8, 5))\n",
    "(bz, dim) = test_input.shape\n",
    "ESMM_Model = ESMMModel(in_shape=dim, task_hidden_units=[[10, 1], [4, 1]])\n",
    "\n",
    "test_output = ESMM_Model(inputs=test_input)\n",
    "\n",
    "# print(test_output.shape)\n",
    "print(f\"test_output is {test_output}\")"
   ]
  },
  {
   "cell_type": "code",
   "execution_count": 6,
   "metadata": {},
   "outputs": [
    {
     "data": {
      "text/plain": [
       "ESMMModel(\n",
       "  (task_layers): ModuleList(\n",
       "    (0): DNNLayer(\n",
       "      (linear_layers): ModuleList(\n",
       "        (0): Linear(in_features=5, out_features=10, bias=True)\n",
       "        (1): Linear(in_features=10, out_features=1, bias=True)\n",
       "      )\n",
       "      (act_layers): ModuleList(\n",
       "        (0): ReLU()\n",
       "        (1): ReLU()\n",
       "      )\n",
       "    )\n",
       "    (1): DNNLayer(\n",
       "      (linear_layers): ModuleList(\n",
       "        (0): Linear(in_features=5, out_features=4, bias=True)\n",
       "        (1): Linear(in_features=4, out_features=1, bias=True)\n",
       "      )\n",
       "      (act_layers): ModuleList(\n",
       "        (0): ReLU()\n",
       "        (1): ReLU()\n",
       "      )\n",
       "    )\n",
       "  )\n",
       ")"
      ]
     },
     "execution_count": 6,
     "metadata": {},
     "output_type": "execute_result"
    }
   ],
   "source": [
    "ESMM_Model"
   ]
  },
  {
   "cell_type": "code",
   "execution_count": null,
   "metadata": {},
   "outputs": [],
   "source": []
  }
 ],
 "metadata": {
  "kernelspec": {
   "display_name": "Python 3",
   "language": "python",
   "name": "python3"
  },
  "language_info": {
   "codemirror_mode": {
    "name": "ipython",
    "version": 3
   },
   "file_extension": ".py",
   "mimetype": "text/x-python",
   "name": "python",
   "nbconvert_exporter": "python",
   "pygments_lexer": "ipython3",
   "version": "3.10.4"
  }
 },
 "nbformat": 4,
 "nbformat_minor": 2
}
