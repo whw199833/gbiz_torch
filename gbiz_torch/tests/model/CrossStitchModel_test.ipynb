{
 "cells": [
  {
   "cell_type": "code",
   "execution_count": 1,
   "metadata": {},
   "outputs": [],
   "source": [
    "import sys\n",
    "sys.path.append(\"../../../\")"
   ]
  },
  {
   "cell_type": "code",
   "execution_count": 2,
   "metadata": {},
   "outputs": [],
   "source": [
    "import torch \n",
    "import torch.nn as nn\n",
    "from gbiz_torch.model import CrossStitchModel"
   ]
  },
  {
   "cell_type": "code",
   "execution_count": 3,
   "metadata": {},
   "outputs": [
    {
     "name": "stdout",
     "output_type": "stream",
     "text": [
      "test_input is tensor([[ 2.7332,  0.4788, -0.3708,  0.7126,  0.7964],\n",
      "        [-0.7025,  0.3241, -0.2794,  0.9699, -1.4355],\n",
      "        [-0.8306,  0.9969,  0.0731, -0.4165,  0.3604],\n",
      "        [ 0.3890, -0.1771, -0.4424,  0.0293,  0.3252],\n",
      "        [ 0.5469, -2.0280,  0.7742,  0.4574, -0.3801],\n",
      "        [ 0.9914, -1.1107, -0.8772, -0.0369,  0.4400],\n",
      "        [-0.1934, -0.1215, -0.7286, -0.6676,  0.0417],\n",
      "        [-0.7634,  0.4562, -0.5385,  0.2212,  0.9080]])\n"
     ]
    }
   ],
   "source": [
    "test_input = torch.randn(8, 5)\n",
    "\n",
    "print(f\"test_input is {test_input}\")"
   ]
  },
  {
   "cell_type": "code",
   "execution_count": 4,
   "metadata": {},
   "outputs": [
    {
     "name": "stdout",
     "output_type": "stream",
     "text": [
      "cross_in_shape_list  [[1, 1]]\n",
      "sharing_output  torch.Size([8, 16])\n",
      "task_outputs  torch.Size([8, 1])\n",
      "task_outputs  torch.Size([8, 1])\n",
      "cross_stitch_output  torch.Size([8, 2])\n",
      "test_output is [tensor([[ 0.7199],\n",
      "        [-0.1314],\n",
      "        [-0.2579],\n",
      "        [ 0.0433],\n",
      "        [-0.1750],\n",
      "        [-0.0839],\n",
      "        [-0.1307],\n",
      "        [-0.2808]], grad_fn=<ReshapeAliasBackward0>), tensor([[-0.3841],\n",
      "        [-0.0381],\n",
      "        [ 0.0079],\n",
      "        [-0.0891],\n",
      "        [-0.1974],\n",
      "        [ 0.0507],\n",
      "        [-0.0304],\n",
      "        [ 0.1701]], grad_fn=<ReshapeAliasBackward0>)]\n"
     ]
    }
   ],
   "source": [
    "(bz, dim) = test_input.shape\n",
    "\n",
    "CrossStitch_Model = CrossStitchModel(in_shape=dim)\n",
    "\n",
    "test_output = CrossStitch_Model(test_input)\n",
    "\n",
    "# print(f\"test_output.shape is {test_output.shape}\")\n",
    "print(f\"test_output is {test_output}\")"
   ]
  },
  {
   "cell_type": "code",
   "execution_count": 5,
   "metadata": {},
   "outputs": [
    {
     "data": {
      "text/plain": [
       "CrossStitchModel(\n",
       "  (sharing_layer): DNNLayer(\n",
       "    (linear_layers): ModuleList(\n",
       "      (0): Linear(in_features=5, out_features=16, bias=True)\n",
       "    )\n",
       "    (act_layers): ModuleList(\n",
       "      (0): ReLU()\n",
       "    )\n",
       "  )\n",
       "  (cross_stitch_layers): ModuleList(\n",
       "    (0): CrossStitchLayer()\n",
       "  )\n",
       "  (task_layers): ModuleList(\n",
       "    (0): ModuleList(\n",
       "      (0): Linear(in_features=16, out_features=1, bias=True)\n",
       "    )\n",
       "    (1): ModuleList(\n",
       "      (0): Linear(in_features=16, out_features=1, bias=True)\n",
       "    )\n",
       "  )\n",
       ")"
      ]
     },
     "execution_count": 5,
     "metadata": {},
     "output_type": "execute_result"
    }
   ],
   "source": [
    "CrossStitch_Model"
   ]
  },
  {
   "cell_type": "code",
   "execution_count": null,
   "metadata": {},
   "outputs": [],
   "source": []
  }
 ],
 "metadata": {
  "kernelspec": {
   "display_name": "Python 3",
   "language": "python",
   "name": "python3"
  },
  "language_info": {
   "codemirror_mode": {
    "name": "ipython",
    "version": 3
   },
   "file_extension": ".py",
   "mimetype": "text/x-python",
   "name": "python",
   "nbconvert_exporter": "python",
   "pygments_lexer": "ipython3",
   "version": "3.10.4"
  }
 },
 "nbformat": 4,
 "nbformat_minor": 2
}
