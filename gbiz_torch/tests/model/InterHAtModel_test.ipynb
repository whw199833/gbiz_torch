{
 "cells": [
  {
   "cell_type": "code",
   "execution_count": 3,
   "metadata": {},
   "outputs": [],
   "source": [
    "import sys\n",
    "sys.path.append(\"../../../\")"
   ]
  },
  {
   "cell_type": "code",
   "execution_count": 4,
   "metadata": {},
   "outputs": [],
   "source": [
    "import torch\n",
    "from gbiz_torch.model import InterHAtModel"
   ]
  },
  {
   "cell_type": "code",
   "execution_count": 5,
   "metadata": {},
   "outputs": [],
   "source": [
    "test_input = torch.randn(8, 3, 10)"
   ]
  },
  {
   "cell_type": "code",
   "execution_count": 6,
   "metadata": {},
   "outputs": [
    {
     "name": "stdout",
     "output_type": "stream",
     "text": [
      "torch.Size([8, 1])\n",
      "test_output is tensor([[ 0.1353],\n",
      "        [-0.5407],\n",
      "        [-0.3762],\n",
      "        [-0.1580],\n",
      "        [ 0.1853],\n",
      "        [-0.3762],\n",
      "        [ 1.0688],\n",
      "        [-0.3762]], grad_fn=<AddmmBackward0>)\n"
     ]
    }
   ],
   "source": [
    "(bz, fields, dim) = test_input.shape\n",
    "\n",
    "in_shape = dim\n",
    "hidden_units = dim\n",
    "projection_in_shape = dim\n",
    "\n",
    "InterHAt_Model = InterHAtModel(in_shape=in_shape, hidden_units=hidden_units, projection_in_shape=projection_in_shape, heads=5)\n",
    "\n",
    "test_output = InterHAt_Model(test_input)\n",
    "\n",
    "print(test_output.shape)\n",
    "print(f\"test_output is {test_output}\")"
   ]
  },
  {
   "cell_type": "code",
   "execution_count": 7,
   "metadata": {},
   "outputs": [
    {
     "data": {
      "text/plain": [
       "InterHAtModel(\n",
       "  (bert_layer): TransformerEncoder(\n",
       "    (layers): ModuleList(\n",
       "      (0): TransformerEncoderLayer(\n",
       "        (pre_ln): LayerNorm((10,), eps=1e-05, elementwise_affine=True)\n",
       "        (pre_dropout): Dropout(p=0, inplace=False)\n",
       "        (multiheadattention): MultiHeadAttentionLayer(\n",
       "          (linear_layers): ModuleList(\n",
       "            (0): Linear(in_features=10, out_features=10, bias=True)\n",
       "            (1): Linear(in_features=10, out_features=10, bias=True)\n",
       "            (2): Linear(in_features=10, out_features=10, bias=True)\n",
       "            (3): Linear(in_features=10, out_features=10, bias=True)\n",
       "          )\n",
       "          (attnlayer): SelfAttentionLayer(\n",
       "            (dropout): Dropout(p=0, inplace=False)\n",
       "          )\n",
       "        )\n",
       "        (last_ln): LayerNorm((10,), eps=1e-05, elementwise_affine=True)\n",
       "        (last_dropout): Dropout(p=0, inplace=False)\n",
       "        (ffw_layer): PositionWiseFeedForwardLayer(\n",
       "          (linear_layers): ModuleList(\n",
       "            (0): Linear(in_features=10, out_features=64, bias=True)\n",
       "            (1): Linear(in_features=64, out_features=10, bias=True)\n",
       "          )\n",
       "        )\n",
       "      )\n",
       "    )\n",
       "  )\n",
       "  (hierarchicalattn_layer): HierarchicalAttnAggLayer(\n",
       "    (kernels): ModuleList(\n",
       "      (0): Linear(in_features=10, out_features=16, bias=False)\n",
       "      (1): Linear(in_features=10, out_features=16, bias=False)\n",
       "      (2): Linear(in_features=10, out_features=16, bias=False)\n",
       "      (3): Linear(in_features=10, out_features=16, bias=False)\n",
       "    )\n",
       "    (contexts): ModuleList(\n",
       "      (0): Linear(in_features=16, out_features=1, bias=False)\n",
       "      (1): Linear(in_features=16, out_features=1, bias=False)\n",
       "      (2): Linear(in_features=16, out_features=1, bias=False)\n",
       "      (3): Linear(in_features=16, out_features=1, bias=False)\n",
       "    )\n",
       "    (attn_kernel): Linear(in_features=10, out_features=16, bias=False)\n",
       "    (attn_context): Linear(in_features=16, out_features=1, bias=False)\n",
       "  )\n",
       "  (dnn_layer): DNNLayer(\n",
       "    (linear_layers): ModuleList(\n",
       "      (0): Linear(in_features=10, out_features=4, bias=True)\n",
       "      (1): Linear(in_features=4, out_features=1, bias=True)\n",
       "    )\n",
       "    (act_layers): ModuleList(\n",
       "      (0): ReLU()\n",
       "      (1): ReLU()\n",
       "    )\n",
       "  )\n",
       ")"
      ]
     },
     "execution_count": 7,
     "metadata": {},
     "output_type": "execute_result"
    }
   ],
   "source": [
    "InterHAt_Model"
   ]
  },
  {
   "cell_type": "code",
   "execution_count": null,
   "metadata": {},
   "outputs": [],
   "source": []
  }
 ],
 "metadata": {
  "kernelspec": {
   "display_name": "Python 3",
   "language": "python",
   "name": "python3"
  },
  "language_info": {
   "codemirror_mode": {
    "name": "ipython",
    "version": 3
   },
   "file_extension": ".py",
   "mimetype": "text/x-python",
   "name": "python",
   "nbconvert_exporter": "python",
   "pygments_lexer": "ipython3",
   "version": "3.10.4"
  }
 },
 "nbformat": 4,
 "nbformat_minor": 2
}
