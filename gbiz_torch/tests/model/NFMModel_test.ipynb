{
 "cells": [
  {
   "cell_type": "code",
   "execution_count": 1,
   "metadata": {},
   "outputs": [],
   "source": [
    "import sys\n",
    "sys.path.append(\"../../../\")"
   ]
  },
  {
   "cell_type": "code",
   "execution_count": 2,
   "metadata": {},
   "outputs": [],
   "source": [
    "import torch \n",
    "import torch.nn as nn\n",
    "from gbiz_torch.model import NFMModel"
   ]
  },
  {
   "cell_type": "code",
   "execution_count": 3,
   "metadata": {},
   "outputs": [
    {
     "data": {
      "text/plain": [
       "torch.Size([8, 3, 5])"
      ]
     },
     "execution_count": 3,
     "metadata": {},
     "output_type": "execute_result"
    }
   ],
   "source": [
    "test_1 = torch.randn(8, 1, 5)\n",
    "test_2 = torch.randn(8, 1, 5)\n",
    "test_3 = torch.randn(8, 1, 5)\n",
    "\n",
    "test_input = torch.cat([test_1, test_2, test_3], dim=1)\n",
    "test_input.shape"
   ]
  },
  {
   "cell_type": "markdown",
   "metadata": {},
   "source": [
    "### keep_fm_dim"
   ]
  },
  {
   "cell_type": "code",
   "execution_count": 7,
   "metadata": {},
   "outputs": [
    {
     "name": "stdout",
     "output_type": "stream",
     "text": [
      "test_input.shape is torch.Size([8, 3, 5])\n",
      "test_output.shape is torch.Size([8, 2])\n",
      "test_output is tensor([[ 1.5547, -1.5234],\n",
      "        [ 2.7460,  1.2269],\n",
      "        [ 2.3595,  0.4360],\n",
      "        [-2.7688,  2.2722],\n",
      "        [ 0.6486, -1.0158],\n",
      "        [-0.0284, -0.2358],\n",
      "        [-1.9976, -0.9623],\n",
      "        [ 0.9238,  1.5606]], grad_fn=<AddmmBackward0>)\n"
     ]
    }
   ],
   "source": [
    "print(f\"test_input.shape is {test_input.shape}\")\n",
    "NFM_Model = NFMModel(keep_fm_dim=True, in_shape=test_input.shape[-1], hidden_units=[10, 2])\n",
    "\n",
    "test_output = NFM_Model(test_input)\n",
    "\n",
    "print(f\"test_output.shape is {test_output.shape}\")\n",
    "print(f\"test_output is {test_output}\")"
   ]
  },
  {
   "cell_type": "markdown",
   "metadata": {},
   "source": [
    "### do not keep fm dim"
   ]
  },
  {
   "cell_type": "code",
   "execution_count": 8,
   "metadata": {},
   "outputs": [
    {
     "name": "stdout",
     "output_type": "stream",
     "text": [
      "test_input.shape is torch.Size([8, 3, 5])\n",
      "test_output.shape is torch.Size([8, 2])\n",
      "test_output is tensor([[ 0.4255,  5.1316],\n",
      "        [ 2.7380, 12.0113],\n",
      "        [ 1.2593,  2.4317],\n",
      "        [ 0.4361,  5.0028],\n",
      "        [ 0.3623,  5.9011],\n",
      "        [ 0.8204,  1.8529],\n",
      "        [ 0.5425,  3.7063],\n",
      "        [ 2.1935,  8.4840]], grad_fn=<AddmmBackward0>)\n"
     ]
    }
   ],
   "source": [
    "print(f\"test_input.shape is {test_input.shape}\")\n",
    "NFM_Model = NFMModel(keep_fm_dim=False, in_shape=test_input.shape[-1], hidden_units=[10, 2])\n",
    "\n",
    "test_output = NFM_Model(test_input)\n",
    "\n",
    "print(f\"test_output.shape is {test_output.shape}\")\n",
    "print(f\"test_output is {test_output}\")"
   ]
  },
  {
   "cell_type": "code",
   "execution_count": 9,
   "metadata": {},
   "outputs": [
    {
     "data": {
      "text/plain": [
       "NFMModel(\n",
       "  (fm_layer): FMLayer()\n",
       "  (dnn_layer): DNNLayer(\n",
       "    (linear_layers): ModuleList(\n",
       "      (0): Linear(in_features=1, out_features=10, bias=True)\n",
       "      (1): Linear(in_features=10, out_features=2, bias=True)\n",
       "    )\n",
       "    (act_layers): ModuleList(\n",
       "      (0): ReLU()\n",
       "      (1): ReLU()\n",
       "    )\n",
       "  )\n",
       ")"
      ]
     },
     "execution_count": 9,
     "metadata": {},
     "output_type": "execute_result"
    }
   ],
   "source": [
    "NFM_Model"
   ]
  },
  {
   "cell_type": "code",
   "execution_count": null,
   "metadata": {},
   "outputs": [],
   "source": []
  }
 ],
 "metadata": {
  "kernelspec": {
   "display_name": "Python 3",
   "language": "python",
   "name": "python3"
  },
  "language_info": {
   "codemirror_mode": {
    "name": "ipython",
    "version": 3
   },
   "file_extension": ".py",
   "mimetype": "text/x-python",
   "name": "python",
   "nbconvert_exporter": "python",
   "pygments_lexer": "ipython3",
   "version": "3.10.4"
  }
 },
 "nbformat": 4,
 "nbformat_minor": 2
}
