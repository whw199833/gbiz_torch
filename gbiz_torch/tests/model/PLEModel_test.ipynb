{
 "cells": [
  {
   "cell_type": "code",
   "execution_count": 3,
   "metadata": {},
   "outputs": [],
   "source": [
    "import sys\n",
    "sys.path.append(\"../../../\")"
   ]
  },
  {
   "cell_type": "code",
   "execution_count": 4,
   "metadata": {},
   "outputs": [],
   "source": [
    "import torch \n",
    "from gbiz_torch.model import PLEModel"
   ]
  },
  {
   "cell_type": "code",
   "execution_count": 6,
   "metadata": {},
   "outputs": [
    {
     "name": "stdout",
     "output_type": "stream",
     "text": [
      "test_output is [tensor([[0.0856],\n",
      "        [0.0784],\n",
      "        [0.0815],\n",
      "        [0.0859],\n",
      "        [0.0844],\n",
      "        [0.0775],\n",
      "        [0.0663],\n",
      "        [0.0832]], grad_fn=<ReluBackward0>), tensor([[0.1735],\n",
      "        [0.2040],\n",
      "        [0.2138],\n",
      "        [0.2030],\n",
      "        [0.2113],\n",
      "        [0.1742],\n",
      "        [0.2364],\n",
      "        [0.1773]], grad_fn=<ReluBackward0>)]\n"
     ]
    }
   ],
   "source": [
    "test_input = torch.randn((8, 5))\n",
    "\n",
    "in_shape = test_input.shape[-1]\n",
    "expert_units = [20, 15, 10]\n",
    "n_task_experts = [[1, 1], [1, 1], [1, 1]]\n",
    "n_shared_experts = [2, 2, 2]\n",
    "task_hidden_units = [[10, 4, 1], [10, 1]]\n",
    "\n",
    "\n",
    "PLE_Model = PLEModel(in_shape=in_shape, expert_units=expert_units, n_task_experts=n_task_experts, \\\n",
    "                            n_shared_experts=n_shared_experts, task_hidden_units=task_hidden_units)\n",
    "\n",
    "test_output = PLE_Model(test_input)\n",
    "\n",
    "# print(test_output.shape)\n",
    "print(f\"test_output is {test_output}\")"
   ]
  },
  {
   "cell_type": "code",
   "execution_count": 7,
   "metadata": {},
   "outputs": [
    {
     "data": {
      "text/plain": [
       "PLEModel(\n",
       "  (cgc_gating_layers): ModuleList(\n",
       "    (0): ModuleList(\n",
       "      (0): CGCGatingNetworkLayer()\n",
       "      (1): CGCGatingNetworkLayer()\n",
       "      (2): CGCGatingNetworkLayer()\n",
       "    )\n",
       "    (1): ModuleList(\n",
       "      (0): CGCGatingNetworkLayer()\n",
       "      (1): CGCGatingNetworkLayer()\n",
       "      (2): CGCGatingNetworkLayer()\n",
       "    )\n",
       "    (2): ModuleList(\n",
       "      (0): CGCGatingNetworkLayer()\n",
       "      (1): CGCGatingNetworkLayer()\n",
       "    )\n",
       "  )\n",
       "  (cgc_shared_expert_layers): ModuleList(\n",
       "    (0): ParallelDNNLayer()\n",
       "    (1): ParallelDNNLayer()\n",
       "    (2): ParallelDNNLayer()\n",
       "  )\n",
       "  (cgc_task_expert_layers): ModuleList(\n",
       "    (0): ModuleList(\n",
       "      (0): ParallelDNNLayer()\n",
       "      (1): ParallelDNNLayer()\n",
       "    )\n",
       "    (1): ModuleList(\n",
       "      (0): ParallelDNNLayer()\n",
       "      (1): ParallelDNNLayer()\n",
       "    )\n",
       "    (2): ModuleList(\n",
       "      (0): ParallelDNNLayer()\n",
       "      (1): ParallelDNNLayer()\n",
       "    )\n",
       "  )\n",
       "  (task_layers): ModuleList(\n",
       "    (0): DNNLayer(\n",
       "      (linear_layers): ModuleList(\n",
       "        (0): Linear(in_features=10, out_features=10, bias=True)\n",
       "        (1): Linear(in_features=10, out_features=4, bias=True)\n",
       "        (2): Linear(in_features=4, out_features=1, bias=True)\n",
       "      )\n",
       "      (act_layers): ModuleList(\n",
       "        (0): ReLU()\n",
       "        (1): ReLU()\n",
       "        (2): ReLU()\n",
       "      )\n",
       "    )\n",
       "    (1): DNNLayer(\n",
       "      (linear_layers): ModuleList(\n",
       "        (0): Linear(in_features=10, out_features=10, bias=True)\n",
       "        (1): Linear(in_features=10, out_features=1, bias=True)\n",
       "      )\n",
       "      (act_layers): ModuleList(\n",
       "        (0): ReLU()\n",
       "        (1): ReLU()\n",
       "      )\n",
       "    )\n",
       "  )\n",
       ")"
      ]
     },
     "execution_count": 7,
     "metadata": {},
     "output_type": "execute_result"
    }
   ],
   "source": [
    "PLE_Model"
   ]
  },
  {
   "cell_type": "code",
   "execution_count": null,
   "metadata": {},
   "outputs": [],
   "source": []
  }
 ],
 "metadata": {
  "kernelspec": {
   "display_name": "Python 3",
   "language": "python",
   "name": "python3"
  },
  "language_info": {
   "codemirror_mode": {
    "name": "ipython",
    "version": 3
   },
   "file_extension": ".py",
   "mimetype": "text/x-python",
   "name": "python",
   "nbconvert_exporter": "python",
   "pygments_lexer": "ipython3",
   "version": "3.10.4"
  }
 },
 "nbformat": 4,
 "nbformat_minor": 2
}
