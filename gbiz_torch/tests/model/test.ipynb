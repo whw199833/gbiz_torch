{
 "cells": [
  {
   "cell_type": "code",
   "execution_count": 8,
   "metadata": {},
   "outputs": [
    {
     "data": {
      "text/plain": [
       "tensor([[[ 0.0000,  0.0000,  0.0000,  ...,  1.0000,  1.0000,  1.0000],\n",
       "         [ 0.8415,  0.8284,  0.8152,  ...,  1.0000,  1.0000,  1.0000],\n",
       "         [ 0.9093,  0.9280,  0.9443,  ...,  1.0000,  1.0000,  1.0000],\n",
       "         ...,\n",
       "         [-0.6160,  0.4726, -0.2476,  ...,  0.9999,  0.9999,  0.9999],\n",
       "         [ 0.3300, -0.4653,  0.6464,  ...,  0.9999,  0.9999,  0.9999],\n",
       "         [ 0.9726, -0.9939,  0.9964,  ...,  0.9999,  0.9999,  0.9999]]])"
      ]
     },
     "execution_count": 8,
     "metadata": {},
     "output_type": "execute_result"
    }
   ],
   "source": [
    "import torch\n",
    "import torch.nn as nn\n",
    "import torch.nn.functional as F\n",
    "\n",
    "def positional_signal(hidden_size,\n",
    "                      length,\n",
    "                      min_timescale=1.0,\n",
    "                      max_timescale=1e4):\n",
    "    \"\"\"\n",
    "      Helper function, constructing basic positional encoding.\n",
    "      The code is partially based on implementation from Tensor2Tensor library\n",
    "      https://github.com/tensorflow/tensor2tensor/blob/master/tensor2tensor/layers/common_attention.py\n",
    "      \"\"\"\n",
    "\n",
    "    import numpy as np\n",
    "\n",
    "    if hidden_size % 2 != 0:\n",
    "        raise ValueError(\n",
    "            f\"The hidden dimension of the model must be divisible by 2. Currently it is {hidden_size}\"\n",
    "        )\n",
    "\n",
    "    position = torch.tensor(np.arange(0, length), dtype=torch.float)\n",
    "    num_timescales = int(hidden_size // 2)\n",
    "    log_timescale_increment = (\n",
    "        np.log(float(max_timescale) / float(min_timescale)) /\n",
    "        (num_timescales - 1))\n",
    "\n",
    "    # inv_timescales = (min_timescale * tf.keras.backend.exp(\n",
    "    #     tf.keras.backend.arange(num_timescales, dtype=tf.keras.backend.floatx())\n",
    "    #     * -log_timescale_increment))\n",
    "\n",
    "    rangess = np.arange(0, num_timescales) * (-log_timescale_increment)\n",
    "    inv_timescales = torch.tensor(min_timescale * np.exp(rangess),\n",
    "                                  dtype=torch.float)\n",
    "\n",
    "    # inv_timescales = torch.tensor((min_timescale * torch.exp(\n",
    "    #     torch.mul(\n",
    "    #         torch.tensor(np.arange(0, num_timescales) * (-log_timescale_increment)))\n",
    "    scaled_time = torch.mul(torch.unsqueeze(position, dim=1),\n",
    "                            torch.unsqueeze(inv_timescales, dim=0))\n",
    "    signal = torch.cat([torch.sin(scaled_time), torch.cos(scaled_time)], dim=1)\n",
    "    signal = torch.unsqueeze(signal, dim=0)\n",
    "\n",
    "    return signal\n",
    "\n",
    "signal = positional_signal(hidden_size=768, length=128)\n",
    "signal"
   ]
  },
  {
   "cell_type": "code",
   "execution_count": 13,
   "metadata": {},
   "outputs": [
    {
     "data": {
      "text/plain": [
       "tensor([[1, 2],\n",
       "        [1, 2]])"
      ]
     },
     "execution_count": 13,
     "metadata": {},
     "output_type": "execute_result"
    }
   ],
   "source": [
    "t = torch.tensor([[1, 2], [3, 4]])\n",
    "torch.gather(t, 0, torch.tensor([[0, 0], [0, 0]]))"
   ]
  },
  {
   "cell_type": "code",
   "execution_count": null,
   "metadata": {},
   "outputs": [],
   "source": []
  }
 ],
 "metadata": {
  "kernelspec": {
   "display_name": "Python 3",
   "language": "python",
   "name": "python3"
  },
  "language_info": {
   "codemirror_mode": {
    "name": "ipython",
    "version": 3
   },
   "file_extension": ".py",
   "mimetype": "text/x-python",
   "name": "python",
   "nbconvert_exporter": "python",
   "pygments_lexer": "ipython3",
   "version": "3.10.4"
  }
 },
 "nbformat": 4,
 "nbformat_minor": 2
}
