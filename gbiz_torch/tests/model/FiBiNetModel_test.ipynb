{
 "cells": [
  {
   "cell_type": "code",
   "execution_count": 1,
   "metadata": {},
   "outputs": [],
   "source": [
    "import sys\n",
    "sys.path.append(\"../../../\")"
   ]
  },
  {
   "cell_type": "code",
   "execution_count": 2,
   "metadata": {},
   "outputs": [],
   "source": [
    "import torch \n",
    "import torch.nn as nn\n",
    "import torch.nn.functional as F\n",
    "from gbiz_torch.model import FiBiNetModel"
   ]
  },
  {
   "cell_type": "code",
   "execution_count": 3,
   "metadata": {},
   "outputs": [
    {
     "data": {
      "text/plain": [
       "torch.Size([8, 3, 5])"
      ]
     },
     "execution_count": 3,
     "metadata": {},
     "output_type": "execute_result"
    }
   ],
   "source": [
    "test_input1 = torch.randn(8, 1, 5)\n",
    "test_input2 = torch.randn(8, 1, 5)\n",
    "test_input3 = torch.randn(8, 1, 5)\n",
    "\n",
    "test_input = torch.cat([test_input1, test_input2, test_input3], dim=1)\n",
    "test_input.shape"
   ]
  },
  {
   "cell_type": "markdown",
   "metadata": {},
   "source": [
    "### without extra input"
   ]
  },
  {
   "cell_type": "code",
   "execution_count": 4,
   "metadata": {},
   "outputs": [
    {
     "name": "stdout",
     "output_type": "stream",
     "text": [
      "combined_input.shape is torch.Size([8, 6])\n",
      "test_output.shape is torch.Size([8, 1])\n",
      "test_output is tensor([[ 0.1923],\n",
      "        [-0.2960],\n",
      "        [-0.3230],\n",
      "        [-0.3058],\n",
      "        [-0.3005],\n",
      "        [-0.2176],\n",
      "        [-0.3101],\n",
      "        [-0.3075]], grad_fn=<AddmmBackward0>)\n"
     ]
    }
   ],
   "source": [
    "# print(f\"test_input.shape is {test_input.shape}\")\n",
    "## n_inputs: n_fields\n",
    "## in_shape: emb_dim\n",
    "(bz, fields_num, dim) = test_input.shape\n",
    "\n",
    "projection_in_shape = dim+1\n",
    "\n",
    "FiBiNet_Model = FiBiNetModel(fields=fields_num, in_shape=dim, reduction_ratio=2, projection_in_shape=projection_in_shape)\n",
    "test_output = FiBiNet_Model(test_input)\n",
    "\n",
    "print(f\"test_output.shape is {test_output.shape}\")\n",
    "print(f\"test_output is {test_output}\")"
   ]
  },
  {
   "cell_type": "markdown",
   "metadata": {},
   "source": [
    "### plus context input"
   ]
  },
  {
   "cell_type": "code",
   "execution_count": 5,
   "metadata": {},
   "outputs": [
    {
     "name": "stdout",
     "output_type": "stream",
     "text": [
      "combined_input.shape is torch.Size([8, 9])\n",
      "test_output.shape is torch.Size([8, 1])\n",
      "test_output is tensor([[ 0.3045],\n",
      "        [ 0.7211],\n",
      "        [ 0.0308],\n",
      "        [ 0.2620],\n",
      "        [-0.2881],\n",
      "        [ 0.4306],\n",
      "        [ 0.0740],\n",
      "        [ 0.3434]], grad_fn=<AddmmBackward0>)\n"
     ]
    }
   ],
   "source": [
    "# print(f\"test_input.shape is {test_input.shape}\")\n",
    "## n_inputs: n_fields\n",
    "## in_shape: emb_dim\n",
    "context_input = torch.randn(8, 3)\n",
    "(bz, ex_dim) = context_input.shape\n",
    "(bz, fields_num, dim) = test_input.shape\n",
    "\n",
    "projection_in_shape = dim+1+ex_dim\n",
    "\n",
    "FiBiNet_Model = FiBiNetModel(fields=fields_num, in_shape=dim, reduction_ratio=2, projection_in_shape=projection_in_shape)\n",
    "test_output = FiBiNet_Model(inputs=test_input, extra_input=context_input)\n",
    "\n",
    "print(f\"test_output.shape is {test_output.shape}\")\n",
    "print(f\"test_output is {test_output}\")"
   ]
  },
  {
   "cell_type": "code",
   "execution_count": 6,
   "metadata": {},
   "outputs": [
    {
     "data": {
      "text/plain": [
       "FiBiNetModel(\n",
       "  (senet_layer): SENETLayer()\n",
       "  (emb_bilinar_layer): BiLinearInteractionLayer()\n",
       "  (hidden_bilinar_layer): BiLinearInteractionLayer()\n",
       "  (dnn_layer): DNNLayer(\n",
       "    (linear_layers): ModuleList(\n",
       "      (0): Linear(in_features=9, out_features=4, bias=True)\n",
       "      (1): Linear(in_features=4, out_features=1, bias=True)\n",
       "    )\n",
       "    (act_layers): ModuleList(\n",
       "      (0): ReLU()\n",
       "      (1): ReLU()\n",
       "    )\n",
       "  )\n",
       ")"
      ]
     },
     "execution_count": 6,
     "metadata": {},
     "output_type": "execute_result"
    }
   ],
   "source": [
    "FiBiNet_Model"
   ]
  },
  {
   "cell_type": "code",
   "execution_count": null,
   "metadata": {},
   "outputs": [],
   "source": []
  }
 ],
 "metadata": {
  "kernelspec": {
   "display_name": "Python 3",
   "language": "python",
   "name": "python3"
  },
  "language_info": {
   "codemirror_mode": {
    "name": "ipython",
    "version": 3
   },
   "file_extension": ".py",
   "mimetype": "text/x-python",
   "name": "python",
   "nbconvert_exporter": "python",
   "pygments_lexer": "ipython3",
   "version": "3.10.4"
  }
 },
 "nbformat": 4,
 "nbformat_minor": 2
}
