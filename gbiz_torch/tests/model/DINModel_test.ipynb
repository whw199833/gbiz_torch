{
 "cells": [
  {
   "cell_type": "code",
   "execution_count": 1,
   "metadata": {},
   "outputs": [],
   "source": [
    "import sys\n",
    "sys.path.append(\"../../../\")"
   ]
  },
  {
   "cell_type": "code",
   "execution_count": 2,
   "metadata": {},
   "outputs": [],
   "source": [
    "import torch \n",
    "import torch.nn as nn\n",
    "import torch.nn.functional as F\n",
    "from gbiz_torch.model import DINModel"
   ]
  },
  {
   "cell_type": "code",
   "execution_count": 3,
   "metadata": {},
   "outputs": [
    {
     "data": {
      "text/plain": [
       "torch.Size([8, 3, 6])"
      ]
     },
     "execution_count": 3,
     "metadata": {},
     "output_type": "execute_result"
    }
   ],
   "source": [
    "test_input1 = torch.randint(0, 2, (8, 3))\n",
    "# padding_idx = 0\n",
    "embedding = nn.Embedding(2, 6)\n",
    "test_input1 = embedding(test_input1)\n",
    "test_input1.shape"
   ]
  },
  {
   "cell_type": "code",
   "execution_count": 4,
   "metadata": {},
   "outputs": [
    {
     "data": {
      "text/plain": [
       "torch.Size([8, 6])"
      ]
     },
     "execution_count": 4,
     "metadata": {},
     "output_type": "execute_result"
    }
   ],
   "source": [
    "test_input2 = torch.randint(0, 2, (8, 1))\n",
    "# padding_idx = 0\n",
    "embedding = nn.Embedding(2, 6)\n",
    "test_input2 = torch.squeeze(embedding(test_input2), dim=1)\n",
    "# test_input2 = torch.squeeze(test_input2, dim=1)\n",
    "test_input2.shape"
   ]
  },
  {
   "cell_type": "markdown",
   "metadata": {},
   "source": [
    "### seq input + item input"
   ]
  },
  {
   "cell_type": "code",
   "execution_count": 5,
   "metadata": {},
   "outputs": [
    {
     "name": "stdout",
     "output_type": "stream",
     "text": [
      "test_output.shape is torch.Size([8, 1])\n",
      "test_output is tensor([[-0.0166],\n",
      "        [-0.0150],\n",
      "        [-0.0111],\n",
      "        [-0.0150],\n",
      "        [-0.0175],\n",
      "        [-0.0167],\n",
      "        [-0.0111],\n",
      "        [-0.0111]], grad_fn=<AddBackward0>)\n"
     ]
    }
   ],
   "source": [
    "# print(f\"test_input.shape is {test_input.shape}\")\n",
    "## n_inputs: n_fields\n",
    "## in_shape: emb_dim\n",
    "\n",
    "test_input = [test_input1, test_input2]\n",
    "\n",
    "DIN_Model = DINModel(in_shape=test_input[0].shape[-1], input_length=test_input[0].shape[1], projection_in_shape=test_input[1].shape[-1])\n",
    "test_output = DIN_Model(test_input)\n",
    "\n",
    "print(f\"test_output.shape is {test_output.shape}\")\n",
    "print(f\"test_output is {test_output}\")"
   ]
  },
  {
   "cell_type": "markdown",
   "metadata": {},
   "source": [
    "### plus context input"
   ]
  },
  {
   "cell_type": "code",
   "execution_count": 6,
   "metadata": {},
   "outputs": [
    {
     "name": "stdout",
     "output_type": "stream",
     "text": [
      "test_output.shape is torch.Size([8, 1])\n",
      "test_output is tensor([[ 0.1167],\n",
      "        [ 0.1124],\n",
      "        [ 0.1759],\n",
      "        [ 0.1129],\n",
      "        [-0.0056],\n",
      "        [ 0.2147],\n",
      "        [ 0.0588],\n",
      "        [ 0.1038]], grad_fn=<AddBackward0>)\n"
     ]
    }
   ],
   "source": [
    "# print(f\"test_input.shape is {test_input.shape}\")\n",
    "## n_inputs: n_fields\n",
    "## in_shape: emb_dim\n",
    "\n",
    "test_input = [test_input1, test_input2]\n",
    "context_input = torch.randn(8, 3)\n",
    "\n",
    "DIN_Model = DINModel(in_shape=test_input[0].shape[-1], input_length=test_input[0].shape[1], projection_in_shape=test_input[1].shape[-1]+context_input.shape[-1])\n",
    "test_output = DIN_Model(inputs=test_input, extra_input=context_input)\n",
    "\n",
    "print(f\"test_output.shape is {test_output.shape}\")\n",
    "print(f\"test_output is {test_output}\")"
   ]
  },
  {
   "cell_type": "code",
   "execution_count": 7,
   "metadata": {},
   "outputs": [
    {
     "data": {
      "text/plain": [
       "DINModel(\n",
       "  (din_layer): FuseLayer(\n",
       "    (local_act_fn): Dice(\n",
       "      (bn): BatchNorm1d(3, eps=1e-09, momentum=0.1, affine=True, track_running_stats=True)\n",
       "    )\n",
       "    (linear_layer): ModuleList(\n",
       "      (0): Linear(in_features=24, out_features=4, bias=True)\n",
       "      (1): Linear(in_features=4, out_features=1, bias=True)\n",
       "    )\n",
       "  )\n",
       "  (dnn_layer): ModuleList(\n",
       "    (0): Linear(in_features=9, out_features=4, bias=True)\n",
       "    (1): Linear(in_features=4, out_features=1, bias=True)\n",
       "  )\n",
       "  (act_fn_layer): ModuleList(\n",
       "    (0): Dice(\n",
       "      (bn): BatchNorm1d(4, eps=1e-09, momentum=0.1, affine=True, track_running_stats=True)\n",
       "    )\n",
       "    (1): Dice(\n",
       "      (bn): BatchNorm1d(1, eps=1e-09, momentum=0.1, affine=True, track_running_stats=True)\n",
       "    )\n",
       "  )\n",
       ")"
      ]
     },
     "execution_count": 7,
     "metadata": {},
     "output_type": "execute_result"
    }
   ],
   "source": [
    "DIN_Model"
   ]
  }
 ],
 "metadata": {
  "kernelspec": {
   "display_name": "Python 3",
   "language": "python",
   "name": "python3"
  },
  "language_info": {
   "codemirror_mode": {
    "name": "ipython",
    "version": 3
   },
   "file_extension": ".py",
   "mimetype": "text/x-python",
   "name": "python",
   "nbconvert_exporter": "python",
   "pygments_lexer": "ipython3",
   "version": "3.10.4"
  }
 },
 "nbformat": 4,
 "nbformat_minor": 2
}
