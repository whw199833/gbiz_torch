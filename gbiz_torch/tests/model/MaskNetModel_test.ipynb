{
 "cells": [
  {
   "cell_type": "code",
   "execution_count": 1,
   "metadata": {},
   "outputs": [],
   "source": [
    "import sys\n",
    "sys.path.append(\"../../../\")"
   ]
  },
  {
   "cell_type": "code",
   "execution_count": 2,
   "metadata": {},
   "outputs": [],
   "source": [
    "import torch \n",
    "import torch.nn as nn\n",
    "from gbiz_torch.model import MaskNetModel"
   ]
  },
  {
   "cell_type": "code",
   "execution_count": 3,
   "metadata": {},
   "outputs": [],
   "source": [
    "input_a = torch.randint(0, 3, (8, 10))\n",
    "get_emb = nn.Embedding(3, 5)\n",
    "input_seq = get_emb(input_a)\n",
    "input_item = torch.randn(8, 6)\n",
    "# avg_past_item = torch.randn(8, 8)"
   ]
  },
  {
   "cell_type": "code",
   "execution_count": 4,
   "metadata": {},
   "outputs": [
    {
     "name": "stdout",
     "output_type": "stream",
     "text": [
      "torch.Size([8, 3])\n"
     ]
    }
   ],
   "source": [
    "test_input = torch.randn(8, 3)\n",
    "\n",
    "print(test_input.shape)\n",
    "# print(f\"test_output is {test_output}\")"
   ]
  },
  {
   "cell_type": "markdown",
   "metadata": {},
   "source": [
    "### without extra input"
   ]
  },
  {
   "cell_type": "code",
   "execution_count": 6,
   "metadata": {},
   "outputs": [
    {
     "name": "stdout",
     "output_type": "stream",
     "text": [
      "torch.Size([8, 2])\n"
     ]
    }
   ],
   "source": [
    "(bz, dim) = test_input.shape\n",
    "projection_in_shape=dim\n",
    "projection_hidden_units=[4, 2]\n",
    "\n",
    "MaskNet_Model = MaskNetModel(in_shape=dim, projection_in_shape=projection_in_shape, projection_hidden_units=projection_hidden_units)\n",
    "test_output = MaskNet_Model(test_input)\n",
    "\n",
    "print(test_output.shape)"
   ]
  },
  {
   "cell_type": "markdown",
   "metadata": {},
   "source": [
    "### with extra input"
   ]
  },
  {
   "cell_type": "code",
   "execution_count": 9,
   "metadata": {},
   "outputs": [
    {
     "name": "stdout",
     "output_type": "stream",
     "text": [
      "torch.Size([8, 2])\n"
     ]
    }
   ],
   "source": [
    "extra_input = torch.randn(8, 2)\n",
    "\n",
    "(bz, ex_dim) = extra_input.shape\n",
    "(bz, dim) = test_input.shape\n",
    "\n",
    "projection_in_shape=dim+ex_dim\n",
    "projection_hidden_units=[4, 2]\n",
    "\n",
    "\n",
    "MaskNet_Model = MaskNetModel(in_shape=dim, projection_in_shape=projection_in_shape, projection_hidden_units=projection_hidden_units)\n",
    "test_output = MaskNet_Model(test_input, extra_input=extra_input)\n",
    "\n",
    "print(test_output.shape)"
   ]
  },
  {
   "cell_type": "code",
   "execution_count": 10,
   "metadata": {},
   "outputs": [
    {
     "data": {
      "text/plain": [
       "MaskNetModel(\n",
       "  (mask_block_layer): ModuleList(\n",
       "    (0): MaskBlockLayer(\n",
       "      (se_layer): ModuleList(\n",
       "        (0): Linear(in_features=3, out_features=32, bias=True)\n",
       "        (1): Linear(in_features=32, out_features=3, bias=True)\n",
       "      )\n",
       "      (ln_emb_layer): LayerNorm((3,), eps=1e-05, elementwise_affine=True)\n",
       "      (ln_hid_layer): LayerNorm((3,), eps=1e-05, elementwise_affine=True)\n",
       "    )\n",
       "  )\n",
       "  (dnn_layer): DNNLayer(\n",
       "    (linear_layers): ModuleList(\n",
       "      (0): Linear(in_features=5, out_features=4, bias=True)\n",
       "      (1): Linear(in_features=4, out_features=2, bias=True)\n",
       "    )\n",
       "    (act_layers): ModuleList(\n",
       "      (0): ReLU()\n",
       "      (1): ReLU()\n",
       "    )\n",
       "  )\n",
       ")"
      ]
     },
     "execution_count": 10,
     "metadata": {},
     "output_type": "execute_result"
    }
   ],
   "source": [
    "MaskNet_Model"
   ]
  },
  {
   "cell_type": "code",
   "execution_count": null,
   "metadata": {},
   "outputs": [],
   "source": []
  }
 ],
 "metadata": {
  "kernelspec": {
   "display_name": "Python 3",
   "language": "python",
   "name": "python3"
  },
  "language_info": {
   "codemirror_mode": {
    "name": "ipython",
    "version": 3
   },
   "file_extension": ".py",
   "mimetype": "text/x-python",
   "name": "python",
   "nbconvert_exporter": "python",
   "pygments_lexer": "ipython3",
   "version": "3.10.4"
  }
 },
 "nbformat": 4,
 "nbformat_minor": 2
}
