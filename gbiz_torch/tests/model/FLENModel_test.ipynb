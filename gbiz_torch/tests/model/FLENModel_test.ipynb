{
 "cells": [
  {
   "cell_type": "code",
   "execution_count": 1,
   "metadata": {},
   "outputs": [],
   "source": [
    "import sys\n",
    "sys.path.append(\"../../../\")"
   ]
  },
  {
   "cell_type": "code",
   "execution_count": 2,
   "metadata": {},
   "outputs": [],
   "source": [
    "import torch \n",
    "import torch.nn as nn\n",
    "from gbiz_torch.model import FLENModel"
   ]
  },
  {
   "cell_type": "code",
   "execution_count": 3,
   "metadata": {},
   "outputs": [],
   "source": [
    "test_input_1 = torch.randint(0, 2, (8, 3))\n",
    "test_input_2 = torch.randint(0, 3, (8, 4))\n",
    "test_input_3 = torch.randint(0, 5, (8, 5))\n",
    "# padding_idx = 0\n",
    "embedding = nn.Embedding(10, 6)\n",
    "emb_input1 = embedding(test_input_1)\n",
    "emb_input2 = embedding(test_input_2)\n",
    "emb_input3 = embedding(test_input_3)\n",
    "test_input = [emb_input1, emb_input2, emb_input3]"
   ]
  },
  {
   "cell_type": "markdown",
   "metadata": {},
   "source": [
    "### without context input"
   ]
  },
  {
   "cell_type": "code",
   "execution_count": 4,
   "metadata": {},
   "outputs": [
    {
     "name": "stdout",
     "output_type": "stream",
     "text": [
      "test_output.shape is torch.Size([8, 1])\n",
      "test_output is tensor([[  5.7218],\n",
      "        [ -4.1464],\n",
      "        [ -1.4243],\n",
      "        [ -5.2190],\n",
      "        [-15.0629],\n",
      "        [-15.4531],\n",
      "        [  0.0266],\n",
      "        [ -8.5178]], grad_fn=<AddmmBackward0>)\n"
     ]
    }
   ],
   "source": [
    "#  = len(test_input)\n",
    "field_num = len(test_input)\n",
    "bz, _, dim = test_input[0].shape\n",
    "hidden_units_list=[16]\n",
    "\n",
    "dnn_in_shape = torch.cat(test_input, dim=1).reshape(bz, -1).shape[-1]\n",
    "\n",
    "projection_in_shape = hidden_units_list[-1]+dim\n",
    "\n",
    "# print(f\"field_num is {field_num}, bz is {bz}, dim is {dim}\")\n",
    "\n",
    "FLEN_Model = FLENModel(fields=field_num, in_shape=dim, dnn_in_shape=dnn_in_shape, hidden_units=hidden_units_list, projection_in_shape=projection_in_shape)\n",
    "test_output = FLEN_Model(test_input)\n",
    "\n",
    "print(f\"test_output.shape is {test_output.shape}\")\n",
    "print(f\"test_output is {test_output}\")"
   ]
  },
  {
   "cell_type": "code",
   "execution_count": 5,
   "metadata": {},
   "outputs": [
    {
     "data": {
      "text/plain": [
       "FLENModel(\n",
       "  (flen_layer): FieldWiseBiInterationLayer()\n",
       "  (dnn_layer): DNNLayer(\n",
       "    (linear_layers): ModuleList(\n",
       "      (0): Linear(in_features=72, out_features=16, bias=True)\n",
       "    )\n",
       "    (act_layers): ModuleList(\n",
       "      (0): ReLU()\n",
       "    )\n",
       "  )\n",
       "  (projection_layer): DNNLayer(\n",
       "    (linear_layers): ModuleList(\n",
       "      (0): Linear(in_features=22, out_features=1, bias=True)\n",
       "    )\n",
       "    (act_layers): ModuleList(\n",
       "      (0): ReLU()\n",
       "    )\n",
       "  )\n",
       ")"
      ]
     },
     "execution_count": 5,
     "metadata": {},
     "output_type": "execute_result"
    }
   ],
   "source": [
    "FLEN_Model"
   ]
  }
 ],
 "metadata": {
  "kernelspec": {
   "display_name": "Python 3",
   "language": "python",
   "name": "python3"
  },
  "language_info": {
   "codemirror_mode": {
    "name": "ipython",
    "version": 3
   },
   "file_extension": ".py",
   "mimetype": "text/x-python",
   "name": "python",
   "nbconvert_exporter": "python",
   "pygments_lexer": "ipython3",
   "version": "3.10.4"
  }
 },
 "nbformat": 4,
 "nbformat_minor": 2
}
