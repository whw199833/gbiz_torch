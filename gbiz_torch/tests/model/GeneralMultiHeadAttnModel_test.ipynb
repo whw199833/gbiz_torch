{
 "cells": [
  {
   "cell_type": "code",
   "execution_count": 1,
   "metadata": {},
   "outputs": [],
   "source": [
    "import sys\n",
    "sys.path.append(\"../../../\")"
   ]
  },
  {
   "cell_type": "code",
   "execution_count": 2,
   "metadata": {},
   "outputs": [],
   "source": [
    "import torch \n",
    "import torch.nn as nn\n",
    "import torch.nn.functional as F\n",
    "from gbiz_torch.model import GeneralMultiHeadAttnModel"
   ]
  },
  {
   "cell_type": "code",
   "execution_count": 3,
   "metadata": {},
   "outputs": [
    {
     "data": {
      "text/plain": [
       "torch.Size([8, 3, 6])"
      ]
     },
     "execution_count": 3,
     "metadata": {},
     "output_type": "execute_result"
    }
   ],
   "source": [
    "test_input = torch.randint(0, 2, (8, 3))\n",
    "# padding_idx = 0\n",
    "embedding = nn.Embedding(2, 6)\n",
    "test_input = embedding(test_input)\n",
    "test_input.shape"
   ]
  },
  {
   "cell_type": "markdown",
   "metadata": {},
   "source": [
    "### without extra input"
   ]
  },
  {
   "cell_type": "code",
   "execution_count": 4,
   "metadata": {},
   "outputs": [
    {
     "name": "stdout",
     "output_type": "stream",
     "text": [
      "test_output.shape is torch.Size([8, 1])\n",
      "test_output is tensor([[-0.0345],\n",
      "        [-0.1377],\n",
      "        [ 0.1251],\n",
      "        [ 0.2273],\n",
      "        [ 0.1251],\n",
      "        [ 0.0990],\n",
      "        [ 0.0990],\n",
      "        [-0.1377]], grad_fn=<AddmmBackward0>)\n"
     ]
    }
   ],
   "source": [
    "# print(f\"test_input.shape is {test_input.shape}\")\n",
    "## n_inputs: n_fields\n",
    "## in_shape: emb_dim\n",
    "(bz, seq_length, dim) = test_input.shape\n",
    "hidden_units = 10\n",
    "\n",
    "GMHA_Model = GeneralMultiHeadAttnModel(in_shape=dim, hidden_units=hidden_units, projection_in_shape=seq_length*hidden_units, heads=5, projection_hidden_units=[8, 1])\n",
    "test_output = GMHA_Model(test_input)\n",
    "\n",
    "print(f\"test_output.shape is {test_output.shape}\")\n",
    "print(f\"test_output is {test_output}\")"
   ]
  },
  {
   "cell_type": "markdown",
   "metadata": {},
   "source": [
    "### with extra input"
   ]
  },
  {
   "cell_type": "code",
   "execution_count": 5,
   "metadata": {},
   "outputs": [
    {
     "name": "stdout",
     "output_type": "stream",
     "text": [
      "test_output.shape is torch.Size([8, 1])\n",
      "test_output is tensor([[ 0.1008],\n",
      "        [-1.2657],\n",
      "        [ 0.3189],\n",
      "        [-0.2440],\n",
      "        [-0.2132],\n",
      "        [-0.5041],\n",
      "        [-0.1070],\n",
      "        [-0.1223]], grad_fn=<AddmmBackward0>)\n"
     ]
    }
   ],
   "source": [
    "# print(f\"test_input.shape is {test_input.shape}\")\n",
    "## n_inputs: n_fields\n",
    "## in_shape: emb_dim\n",
    "context_input = torch.randn(8, 10)\n",
    "(bz, ex_input_dim) = context_input.shape\n",
    "\n",
    "(bz, seq_length, dim) = test_input.shape\n",
    "hidden_units = 10\n",
    "\n",
    "GMHA_Model = GeneralMultiHeadAttnModel(in_shape=dim, hidden_units=hidden_units, projection_in_shape=seq_length*hidden_units+ex_input_dim, heads=5)\n",
    "test_output = GMHA_Model(inputs=test_input, extra_input=context_input)\n",
    "\n",
    "print(f\"test_output.shape is {test_output.shape}\")\n",
    "print(f\"test_output is {test_output}\")"
   ]
  },
  {
   "cell_type": "code",
   "execution_count": null,
   "metadata": {},
   "outputs": [],
   "source": []
  }
 ],
 "metadata": {
  "kernelspec": {
   "display_name": "Python 3",
   "language": "python",
   "name": "python3"
  },
  "language_info": {
   "codemirror_mode": {
    "name": "ipython",
    "version": 3
   },
   "file_extension": ".py",
   "mimetype": "text/x-python",
   "name": "python",
   "nbconvert_exporter": "python",
   "pygments_lexer": "ipython3",
   "version": "3.10.4"
  }
 },
 "nbformat": 4,
 "nbformat_minor": 2
}
