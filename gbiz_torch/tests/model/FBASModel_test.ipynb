{
 "cells": [
  {
   "cell_type": "code",
   "execution_count": 1,
   "metadata": {},
   "outputs": [],
   "source": [
    "import sys\n",
    "sys.path.append(\"../../../\")"
   ]
  },
  {
   "cell_type": "code",
   "execution_count": 2,
   "metadata": {},
   "outputs": [],
   "source": [
    "import torch \n",
    "from gbiz_torch.model import FBASModel"
   ]
  },
  {
   "cell_type": "code",
   "execution_count": 3,
   "metadata": {},
   "outputs": [],
   "source": [
    "user_feature = torch.randn(8, 5)\n",
    "seq_input = torch.randn(8, 3, 4)\n",
    "item_feature = torch.randn(8, 5)\n",
    "\n",
    "test_input = [user_feature, seq_input, item_feature]"
   ]
  },
  {
   "cell_type": "markdown",
   "metadata": {},
   "source": [
    "### without extra input"
   ]
  },
  {
   "cell_type": "code",
   "execution_count": 4,
   "metadata": {},
   "outputs": [
    {
     "name": "stdout",
     "output_type": "stream",
     "text": [
      "torch.Size([8, 1])\n",
      "test_output is tensor([[ 0.0235],\n",
      "        [ 0.5248],\n",
      "        [ 0.4188],\n",
      "        [ 1.0378],\n",
      "        [-0.4271],\n",
      "        [ 0.0214],\n",
      "        [ 0.3256],\n",
      "        [ 0.3195]], grad_fn=<AddmmBackward0>)\n"
     ]
    }
   ],
   "source": [
    "(bz, dim1) = user_feature.shape \n",
    "(bz, seq_length, dim2) = seq_input.shape \n",
    "(bz, dim3) = item_feature.shape \n",
    "\n",
    "\n",
    "FBAS_Model = FBASModel(in_shape_list=[dim1, dim2, dim3], projection_in_shape=dim1+dim2+dim3)\n",
    "\n",
    "test_output = FBAS_Model(test_input)\n",
    "\n",
    "print(test_output.shape)\n",
    "print(f\"test_output is {test_output}\")"
   ]
  },
  {
   "cell_type": "markdown",
   "metadata": {},
   "source": [
    "### with extra input"
   ]
  },
  {
   "cell_type": "code",
   "execution_count": 7,
   "metadata": {},
   "outputs": [
    {
     "name": "stdout",
     "output_type": "stream",
     "text": [
      "torch.Size([8, 1])\n",
      "test_output is tensor([[-0.0141],\n",
      "        [ 0.5069],\n",
      "        [ 0.5903],\n",
      "        [ 0.4749],\n",
      "        [ 0.8910],\n",
      "        [ 1.1636],\n",
      "        [-0.1524],\n",
      "        [ 0.0842]], grad_fn=<AddmmBackward0>)\n"
     ]
    }
   ],
   "source": [
    "extra_input = torch.randn(8,5)\n",
    "(bz, ex_dim) = extra_input.shape\n",
    "(bz, dim1) = user_feature.shape \n",
    "(bz, seq_length, dim2) = seq_input.shape \n",
    "(bz, dim3) = item_feature.shape \n",
    "\n",
    "projection_in_shape = dim1+dim2+dim3+ex_dim\n",
    "\n",
    "\n",
    "FBAS_Model = FBASModel(in_shape_list=[dim1, dim2, dim3], projection_in_shape=projection_in_shape)\n",
    "\n",
    "test_output = FBAS_Model(test_input, extra_input)\n",
    "\n",
    "print(test_output.shape)\n",
    "print(f\"test_output is {test_output}\")\n"
   ]
  },
  {
   "cell_type": "code",
   "execution_count": 8,
   "metadata": {},
   "outputs": [
    {
     "data": {
      "text/plain": [
       "FBASModel(\n",
       "  (field_wise_inter_layer): FineSeqLayer(\n",
       "    (linear_layers): ModuleList(\n",
       "      (0): Linear(in_features=5, out_features=4, bias=True)\n",
       "      (1): Linear(in_features=5, out_features=4, bias=True)\n",
       "    )\n",
       "    (ln_hid_layers): ModuleList(\n",
       "      (0): LayerNorm((4,), eps=1e-05, elementwise_affine=True)\n",
       "      (1): LayerNorm((4,), eps=1e-05, elementwise_affine=True)\n",
       "    )\n",
       "    (drop_path): Dropout(p=0.1, inplace=False)\n",
       "  )\n",
       "  (sequence_agg_layer): WeightedSeqAggLayer()\n",
       "  (projection_layer): MaskNetModel(\n",
       "    (mask_block_layer): ModuleList(\n",
       "      (0): MaskBlockLayer(\n",
       "        (se_layer): ModuleList(\n",
       "          (0): Linear(in_features=19, out_features=32, bias=True)\n",
       "          (1): Linear(in_features=32, out_features=19, bias=True)\n",
       "        )\n",
       "        (ln_emb_layer): LayerNorm((19,), eps=1e-05, elementwise_affine=True)\n",
       "        (ln_hid_layer): LayerNorm((19,), eps=1e-05, elementwise_affine=True)\n",
       "      )\n",
       "    )\n",
       "    (dnn_layer): DNNLayer(\n",
       "      (linear_layers): ModuleList(\n",
       "        (0): Linear(in_features=19, out_features=8, bias=True)\n",
       "        (1): Linear(in_features=8, out_features=1, bias=True)\n",
       "      )\n",
       "      (act_layers): ModuleList(\n",
       "        (0): ReLU()\n",
       "        (1): ReLU()\n",
       "      )\n",
       "    )\n",
       "  )\n",
       ")"
      ]
     },
     "execution_count": 8,
     "metadata": {},
     "output_type": "execute_result"
    }
   ],
   "source": [
    "FBAS_Model"
   ]
  },
  {
   "cell_type": "code",
   "execution_count": null,
   "metadata": {},
   "outputs": [],
   "source": []
  }
 ],
 "metadata": {
  "kernelspec": {
   "display_name": "Python 3",
   "language": "python",
   "name": "python3"
  },
  "language_info": {
   "codemirror_mode": {
    "name": "ipython",
    "version": 3
   },
   "file_extension": ".py",
   "mimetype": "text/x-python",
   "name": "python",
   "nbconvert_exporter": "python",
   "pygments_lexer": "ipython3",
   "version": "3.10.4"
  }
 },
 "nbformat": 4,
 "nbformat_minor": 2
}
