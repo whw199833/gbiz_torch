{
 "cells": [
  {
   "cell_type": "code",
   "execution_count": 1,
   "metadata": {},
   "outputs": [],
   "source": [
    "import sys\n",
    "sys.path.append(\"../../../\")"
   ]
  },
  {
   "cell_type": "code",
   "execution_count": 2,
   "metadata": {},
   "outputs": [],
   "source": [
    "import torch \n",
    "import torch.nn as nn\n",
    "from gbiz_torch.layer import CrossLayer"
   ]
  },
  {
   "cell_type": "code",
   "execution_count": 3,
   "metadata": {},
   "outputs": [],
   "source": [
    "test_input = torch.randn(4, 5)\n",
    "# padding_idx = 0\n",
    "# embedding = nn.Embedding(10, 3, padding_idx=padding_idx)\n",
    "# seq_emb_input = embedding(test_input)"
   ]
  },
  {
   "cell_type": "code",
   "execution_count": 4,
   "metadata": {},
   "outputs": [
    {
     "name": "stdout",
     "output_type": "stream",
     "text": [
      "test_input.shape is torch.Size([4, 5])\n",
      "test_output.shape is torch.Size([4, 5])\n",
      "test_output is tensor([[-5.1504e-03,  1.2023e-03, -6.5524e-04, -6.3793e-03,  2.4384e-03],\n",
      "        [-5.5336e-01,  9.3075e-01, -5.7733e-01,  5.3075e-01, -9.6286e-02],\n",
      "        [-5.4886e-04, -3.1075e-01,  2.9305e-01, -4.7668e-01,  3.5222e-02],\n",
      "        [-9.4976e-01,  5.9320e+00,  5.4670e+00,  3.4483e+00,  2.5617e+00]],\n",
      "       grad_fn=<SumBackward1>)\n"
     ]
    }
   ],
   "source": [
    "print(f\"test_input.shape is {test_input.shape}\")\n",
    "Cross_layer = CrossLayer(in_shape=test_input.shape[-1], n_layers=3)\n",
    "\n",
    "test_output = Cross_layer(test_input)\n",
    "\n",
    "print(f\"test_output.shape is {test_output.shape}\")\n",
    "print(f\"test_output is {test_output}\")"
   ]
  },
  {
   "cell_type": "code",
   "execution_count": 5,
   "metadata": {},
   "outputs": [
    {
     "data": {
      "text/plain": [
       "CrossLayer()"
      ]
     },
     "execution_count": 5,
     "metadata": {},
     "output_type": "execute_result"
    }
   ],
   "source": [
    "Cross_layer"
   ]
  },
  {
   "cell_type": "code",
   "execution_count": null,
   "metadata": {},
   "outputs": [],
   "source": []
  }
 ],
 "metadata": {
  "kernelspec": {
   "display_name": "Python 3",
   "language": "python",
   "name": "python3"
  },
  "language_info": {
   "codemirror_mode": {
    "name": "ipython",
    "version": 3
   },
   "file_extension": ".py",
   "mimetype": "text/x-python",
   "name": "python",
   "nbconvert_exporter": "python",
   "pygments_lexer": "ipython3",
   "version": "3.10.4"
  }
 },
 "nbformat": 4,
 "nbformat_minor": 2
}
