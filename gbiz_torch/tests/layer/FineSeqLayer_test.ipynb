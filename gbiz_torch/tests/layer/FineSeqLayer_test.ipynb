{
 "cells": [
  {
   "cell_type": "code",
   "execution_count": 1,
   "metadata": {},
   "outputs": [],
   "source": [
    "import sys\n",
    "sys.path.append(\"../../../\")"
   ]
  },
  {
   "cell_type": "code",
   "execution_count": 2,
   "metadata": {},
   "outputs": [],
   "source": [
    "import torch \n",
    "import torch.nn as nn\n",
    "from gbiz_torch.layer import FineSeqLayer"
   ]
  },
  {
   "cell_type": "code",
   "execution_count": 4,
   "metadata": {},
   "outputs": [],
   "source": [
    "test_input = torch.randint(0, 3, (8, 3))\n",
    "# padding_idx = 0\n",
    "embedding = nn.Embedding(3, 5)\n",
    "seq_emb_input = embedding(test_input)\n",
    "\n",
    "item_input = torch.randn(8, 10)\n",
    "test_input = [seq_emb_input, item_input]"
   ]
  },
  {
   "cell_type": "code",
   "execution_count": 5,
   "metadata": {},
   "outputs": [
    {
     "name": "stdout",
     "output_type": "stream",
     "text": [
      "test_output.shape is torch.Size([8, 3, 5])\n",
      "test_output is tensor([[[-1.1762, -0.4489, -0.6743,  1.5477,  0.7517],\n",
      "         [-1.1762, -0.4489, -0.6743,  1.5477,  0.7517],\n",
      "         [ 0.5580, -1.8158,  0.0571,  0.0228,  1.1780]],\n",
      "\n",
      "        [[ 0.2193, -1.2396, -0.1974, -0.5390,  1.7567],\n",
      "         [-1.1762, -0.4489, -0.6743,  1.5477,  0.7517],\n",
      "         [ 0.5580, -1.8158,  0.0571,  0.0228,  1.1780]],\n",
      "\n",
      "        [[ 0.2193, -1.2396, -0.1974, -0.5390,  1.7567],\n",
      "         [ 0.2193, -1.2396, -0.1974, -0.5390,  1.7567],\n",
      "         [ 0.2193, -1.2396, -0.1974, -0.5390,  1.7567]],\n",
      "\n",
      "        [[-1.1762, -0.4489, -0.6743,  1.5477,  0.7517],\n",
      "         [ 0.2193, -1.2396, -0.1974, -0.5390,  1.7567],\n",
      "         [ 0.2193, -1.2396, -0.1974, -0.5390,  1.7567]],\n",
      "\n",
      "        [[ 0.2193, -1.2396, -0.1974, -0.5390,  1.7567],\n",
      "         [ 0.2193, -1.2396, -0.1974, -0.5390,  1.7567],\n",
      "         [-1.1762, -0.4489, -0.6743,  1.5477,  0.7517]],\n",
      "\n",
      "        [[ 0.2193, -1.2396, -0.1974, -0.5390,  1.7567],\n",
      "         [ 0.2193, -1.2396, -0.1974, -0.5390,  1.7567],\n",
      "         [ 0.5580, -1.8158,  0.0571,  0.0228,  1.1780]],\n",
      "\n",
      "        [[-1.1762, -0.4489, -0.6743,  1.5477,  0.7517],\n",
      "         [ 0.5580, -1.8158,  0.0571,  0.0228,  1.1780],\n",
      "         [ 0.5580, -1.8158,  0.0571,  0.0228,  1.1780]],\n",
      "\n",
      "        [[ 0.2193, -1.2396, -0.1974, -0.5390,  1.7567],\n",
      "         [ 0.2193, -1.2396, -0.1974, -0.5390,  1.7567],\n",
      "         [ 0.2193, -1.2396, -0.1974, -0.5390,  1.7567]]],\n",
      "       grad_fn=<NativeLayerNormBackward0>)\n"
     ]
    }
   ],
   "source": [
    "# print(f\"test_input.shape is {test_input.shape}\")\n",
    "\n",
    "in_shape_list = [seq_emb_input.shape[-1], item_input.shape[-1]]\n",
    "\n",
    "FS_layer = FineSeqLayer(in_shape_list=in_shape_list)\n",
    "\n",
    "test_output = FS_layer(test_input)\n",
    "\n",
    "print(f\"test_output.shape is {test_output.shape}\")\n",
    "print(f\"test_output is {test_output}\")"
   ]
  },
  {
   "cell_type": "code",
   "execution_count": 5,
   "metadata": {},
   "outputs": [
    {
     "data": {
      "text/plain": [
       "CrossLayer()"
      ]
     },
     "execution_count": 5,
     "metadata": {},
     "output_type": "execute_result"
    }
   ],
   "source": [
    "Cross_layer"
   ]
  },
  {
   "cell_type": "code",
   "execution_count": null,
   "metadata": {},
   "outputs": [],
   "source": []
  }
 ],
 "metadata": {
  "kernelspec": {
   "display_name": "Python 3",
   "language": "python",
   "name": "python3"
  },
  "language_info": {
   "codemirror_mode": {
    "name": "ipython",
    "version": 3
   },
   "file_extension": ".py",
   "mimetype": "text/x-python",
   "name": "python",
   "nbconvert_exporter": "python",
   "pygments_lexer": "ipython3",
   "version": "3.10.4"
  }
 },
 "nbformat": 4,
 "nbformat_minor": 2
}
