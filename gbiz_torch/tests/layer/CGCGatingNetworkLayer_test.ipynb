{
 "cells": [
  {
   "cell_type": "code",
   "execution_count": 1,
   "metadata": {},
   "outputs": [],
   "source": [
    "import sys\n",
    "sys.path.append(\"../../../\")"
   ]
  },
  {
   "cell_type": "code",
   "execution_count": 2,
   "metadata": {},
   "outputs": [],
   "source": [
    "import torch \n",
    "from gbiz_torch.layer import CGCGatingNetworkLayer"
   ]
  },
  {
   "cell_type": "code",
   "execution_count": 5,
   "metadata": {},
   "outputs": [
    {
     "data": {
      "text/plain": [
       "(torch.Size([8, 3, 10]), torch.Size([8, 2, 10]), torch.Size([8, 10]))"
      ]
     },
     "execution_count": 5,
     "metadata": {},
     "output_type": "execute_result"
    }
   ],
   "source": [
    "expert1_output = torch.unsqueeze(torch.randn(8, 10), dim=1)\n",
    "expert2_output = torch.unsqueeze(torch.randn(8, 10), dim=1)\n",
    "expert3_output = torch.unsqueeze(torch.randn(8, 10), dim=1)\n",
    "\n",
    "expert4_output = torch.unsqueeze(torch.randn(8, 10), dim=1)\n",
    "expert5_output = torch.unsqueeze(torch.randn(8, 10), dim=1)\n",
    "\n",
    "task_expert_input = torch.cat((expert1_output, expert2_output, expert3_output), dim=1)\n",
    "shared_expert_input = torch.cat((expert4_output, expert5_output), dim=1)\n",
    "input = torch.mean(torch.cat((expert1_output, expert2_output, expert3_output, expert4_output, expert5_output), dim=1), dim=1)\n",
    "\n",
    "task_expert_input.shape, shared_expert_input.shape, input.shape"
   ]
  },
  {
   "cell_type": "code",
   "execution_count": 7,
   "metadata": {},
   "outputs": [
    {
     "name": "stdout",
     "output_type": "stream",
     "text": [
      "torch.Size([8, 10])\n",
      "test_output is tensor([[ 0.9281,  0.2867, -0.3682,  0.0142, -0.1300,  1.3689, -0.1914,  0.2355,\n",
      "          0.7008,  0.9477],\n",
      "        [ 0.0137, -0.3089, -0.3505, -0.2182,  0.2189,  0.0740,  0.6224, -0.1007,\n",
      "         -0.3469,  0.1336],\n",
      "        [-0.3654, -1.1915,  0.3218,  0.5643, -0.6873,  0.1893,  0.3290,  0.1481,\n",
      "         -0.0914, -0.1537],\n",
      "        [ 0.3952,  0.0794,  0.5215, -0.7486, -0.2473,  0.7362, -0.0214, -0.2865,\n",
      "          0.8428,  0.0967],\n",
      "        [ 0.6680, -0.2862,  0.5973,  0.8008, -0.4826, -0.0819,  0.7280,  0.2539,\n",
      "          0.7880, -0.5304],\n",
      "        [-0.2320, -0.2033,  0.8058,  0.0522,  0.0351, -0.0124,  0.1014, -0.3095,\n",
      "          0.8628, -0.5951],\n",
      "        [-0.6526, -0.7680,  0.2755, -0.2728, -1.1993, -0.1264,  0.1981,  0.1548,\n",
      "          0.0387,  0.5438],\n",
      "        [ 0.0417,  0.4403,  0.0124,  0.1722, -0.2548, -0.2873, -0.1059,  0.6061,\n",
      "         -0.1727,  0.4932]], grad_fn=<SqueezeBackward1>)\n"
     ]
    }
   ],
   "source": [
    "test_input = (task_expert_input, shared_expert_input, input)\n",
    "CGCGN_layer = CGCGatingNetworkLayer(in_shape=test_input[-1].shape[-1], total_experts=5)\n",
    "\n",
    "test_output = CGCGN_layer(test_input)\n",
    "\n",
    "print(test_output.shape)\n",
    "print(f\"test_output is {test_output}\")"
   ]
  },
  {
   "cell_type": "code",
   "execution_count": 8,
   "metadata": {},
   "outputs": [
    {
     "data": {
      "text/plain": [
       "gbiz_algo_torch.layer.multimodality.CGCGatingNetworkLayer"
      ]
     },
     "execution_count": 8,
     "metadata": {},
     "output_type": "execute_result"
    }
   ],
   "source": [
    "CGCGatingNetworkLayer"
   ]
  }
 ],
 "metadata": {
  "kernelspec": {
   "display_name": "Python 3",
   "language": "python",
   "name": "python3"
  },
  "language_info": {
   "codemirror_mode": {
    "name": "ipython",
    "version": 3
   },
   "file_extension": ".py",
   "mimetype": "text/x-python",
   "name": "python",
   "nbconvert_exporter": "python",
   "pygments_lexer": "ipython3",
   "version": "3.10.4"
  }
 },
 "nbformat": 4,
 "nbformat_minor": 2
}
