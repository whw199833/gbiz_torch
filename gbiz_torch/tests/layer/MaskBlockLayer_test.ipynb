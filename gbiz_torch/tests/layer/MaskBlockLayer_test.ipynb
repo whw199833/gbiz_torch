{
 "cells": [
  {
   "cell_type": "code",
   "execution_count": 1,
   "metadata": {},
   "outputs": [],
   "source": [
    "import sys\n",
    "sys.path.append(\"../../../\")"
   ]
  },
  {
   "cell_type": "code",
   "execution_count": 2,
   "metadata": {},
   "outputs": [],
   "source": [
    "import torch \n",
    "import torch.nn as nn\n",
    "from gbiz_torch.layer import MaskBlockLayer"
   ]
  },
  {
   "cell_type": "code",
   "execution_count": 8,
   "metadata": {},
   "outputs": [],
   "source": [
    "input_a = torch.randint(0, 3, (8, 10))\n",
    "get_emb = nn.Embedding(3, 5)\n",
    "input_seq = get_emb(input_a)\n",
    "input_item = torch.randn(8, 6)\n",
    "avg_past_item = torch.randn(8, 8)"
   ]
  },
  {
   "cell_type": "code",
   "execution_count": 10,
   "metadata": {},
   "outputs": [
    {
     "name": "stdout",
     "output_type": "stream",
     "text": [
      "torch.Size([8, 10, 5])\n"
     ]
    }
   ],
   "source": [
    "test_input = (input_seq, input_item)\n",
    "# print(f\"test_input is {test_input}\")\n",
    "MB_layer = MaskBlockLayer(in_shape_list=[test_input[0].shape[-1], test_input[1].shape[-1]])\n",
    "test_output = MB_layer(test_input)\n",
    "\n",
    "print(test_output.shape)\n",
    "# print(f\"test_output is {test_output}\")"
   ]
  },
  {
   "cell_type": "code",
   "execution_count": 11,
   "metadata": {},
   "outputs": [
    {
     "name": "stdout",
     "output_type": "stream",
     "text": [
      "torch.Size([8, 8])\n"
     ]
    }
   ],
   "source": [
    "test_input = (avg_past_item, input_item)\n",
    "# print(f\"test_input is {test_input}\")\n",
    "MB_layer = MaskBlockLayer(in_shape_list=[test_input[0].shape[-1], test_input[1].shape[-1]])\n",
    "test_output = MB_layer(test_input)\n",
    "\n",
    "print(test_output.shape)"
   ]
  },
  {
   "cell_type": "code",
   "execution_count": 12,
   "metadata": {},
   "outputs": [
    {
     "data": {
      "text/plain": [
       "MaskBlockLayer(\n",
       "  (se_layer): ModuleList(\n",
       "    (0): Linear(in_features=6, out_features=32, bias=True)\n",
       "    (1): Linear(in_features=32, out_features=8, bias=True)\n",
       "  )\n",
       "  (ln_emb_layer): LayerNorm((8,), eps=1e-05, elementwise_affine=True)\n",
       "  (ln_hid_layer): LayerNorm((8,), eps=1e-05, elementwise_affine=True)\n",
       ")"
      ]
     },
     "execution_count": 12,
     "metadata": {},
     "output_type": "execute_result"
    }
   ],
   "source": [
    "MB_layer"
   ]
  },
  {
   "cell_type": "code",
   "execution_count": null,
   "metadata": {},
   "outputs": [],
   "source": []
  }
 ],
 "metadata": {
  "kernelspec": {
   "display_name": "Python 3",
   "language": "python",
   "name": "python3"
  },
  "language_info": {
   "codemirror_mode": {
    "name": "ipython",
    "version": 3
   },
   "file_extension": ".py",
   "mimetype": "text/x-python",
   "name": "python",
   "nbconvert_exporter": "python",
   "pygments_lexer": "ipython3",
   "version": "3.10.4"
  }
 },
 "nbformat": 4,
 "nbformat_minor": 2
}
