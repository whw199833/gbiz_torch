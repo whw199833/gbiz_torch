{
 "cells": [
  {
   "cell_type": "code",
   "execution_count": 1,
   "metadata": {},
   "outputs": [],
   "source": [
    "import sys\n",
    "sys.path.append(\"../../../\")"
   ]
  },
  {
   "cell_type": "code",
   "execution_count": 2,
   "metadata": {},
   "outputs": [],
   "source": [
    "import torch \n",
    "import torch.nn as nn\n",
    "from gbiz_torch.layer import DCAPLayer"
   ]
  },
  {
   "cell_type": "code",
   "execution_count": 3,
   "metadata": {},
   "outputs": [
    {
     "data": {
      "text/plain": [
       "torch.Size([8, 5, 16])"
      ]
     },
     "execution_count": 3,
     "metadata": {},
     "output_type": "execute_result"
    }
   ],
   "source": [
    "test_input = torch.randint(0, 3, (8, 5))\n",
    "get_emb = nn.Embedding(3, 16)\n",
    "seq_input = get_emb(test_input)\n",
    "seq_input.shape"
   ]
  },
  {
   "cell_type": "markdown",
   "metadata": {},
   "source": [
    "### without mask"
   ]
  },
  {
   "cell_type": "code",
   "execution_count": 12,
   "metadata": {},
   "outputs": [
    {
     "name": "stdout",
     "output_type": "stream",
     "text": [
      "test_output.shape is torch.Size([8, 3])\n",
      "test_output is tensor([[-0.0479,  0.0090,  0.0029],\n",
      "        [ 0.0150, -0.0799, -0.2059],\n",
      "        [ 0.0236, -0.3082, -0.4154],\n",
      "        [-0.2795, -0.1141, -0.1116],\n",
      "        [-0.0809, -0.0809, -0.1123],\n",
      "        [-0.2470, -0.1008, -0.1530],\n",
      "        [-0.1671,  0.0128,  0.0169],\n",
      "        [ 0.0099, -0.1293, -0.2022]], grad_fn=<CatBackward0>)\n"
     ]
    }
   ],
   "source": [
    "DCAP_layer = DCAPLayer(fields=3, in_shape=seq_input.shape[-1])\n",
    "\n",
    "test_output = DCAP_layer(seq_input)\n",
    "\n",
    "print(f\"test_output.shape is {test_output.shape}\")\n",
    "print(f\"test_output is {test_output}\")"
   ]
  },
  {
   "cell_type": "code",
   "execution_count": 5,
   "metadata": {},
   "outputs": [
    {
     "data": {
      "text/plain": [
       "DCAPLayer(\n",
       "  (mha_layers): ModuleList(\n",
       "    (0): MultiHeadAttentionLayer(\n",
       "      (linear_layers): ModuleList(\n",
       "        (0): Linear(in_features=16, out_features=16, bias=True)\n",
       "        (1): Linear(in_features=16, out_features=16, bias=True)\n",
       "        (2): Linear(in_features=16, out_features=16, bias=True)\n",
       "        (3): Linear(in_features=16, out_features=16, bias=True)\n",
       "      )\n",
       "      (attnlayer): SelfAttentionLayer(\n",
       "        (dropout): Dropout(p=0.1, inplace=False)\n",
       "      )\n",
       "    )\n",
       "  )\n",
       "  (pooling_layers): ModuleList(\n",
       "    (0): AvgPool1d(kernel_size=(1,), stride=(1,), padding=(0,))\n",
       "  )\n",
       ")"
      ]
     },
     "execution_count": 5,
     "metadata": {},
     "output_type": "execute_result"
    }
   ],
   "source": [
    "DCAP_layer"
   ]
  },
  {
   "cell_type": "code",
   "execution_count": null,
   "metadata": {},
   "outputs": [],
   "source": []
  }
 ],
 "metadata": {
  "kernelspec": {
   "display_name": "Python 3",
   "language": "python",
   "name": "python3"
  },
  "language_info": {
   "codemirror_mode": {
    "name": "ipython",
    "version": 3
   },
   "file_extension": ".py",
   "mimetype": "text/x-python",
   "name": "python",
   "nbconvert_exporter": "python",
   "pygments_lexer": "ipython3",
   "version": "3.10.4"
  }
 },
 "nbformat": 4,
 "nbformat_minor": 2
}
