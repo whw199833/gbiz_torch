{
 "cells": [
  {
   "cell_type": "code",
   "execution_count": 1,
   "metadata": {},
   "outputs": [],
   "source": [
    "import sys\n",
    "sys.path.append(\"../../../\")"
   ]
  },
  {
   "cell_type": "code",
   "execution_count": 4,
   "metadata": {},
   "outputs": [],
   "source": [
    "import torch \n",
    "import torch.nn as nn \n",
    "from gbiz_torch.layer import ParallelDNNLayer"
   ]
  },
  {
   "cell_type": "code",
   "execution_count": 11,
   "metadata": {},
   "outputs": [
    {
     "name": "stdout",
     "output_type": "stream",
     "text": [
      "test_input is torch.Size([4, 5])\n",
      "torch.Size([4, 3, 2])\n",
      "test_output is tensor([[[0.0000, 0.0000],\n",
      "         [0.0000, 0.0327],\n",
      "         [0.0511, 0.0000]],\n",
      "\n",
      "        [[0.0407, 0.0510],\n",
      "         [0.0449, 0.0448],\n",
      "         [0.2364, 0.1489]],\n",
      "\n",
      "        [[0.0009, 0.0026],\n",
      "         [0.0000, 0.0000],\n",
      "         [0.0761, 0.0800]],\n",
      "\n",
      "        [[0.0041, 0.0033],\n",
      "         [0.0048, 0.0237],\n",
      "         [0.0694, 0.0755]]], grad_fn=<ReluBackward0>)\n"
     ]
    }
   ],
   "source": [
    "test_input = torch.randn(4, 5)\n",
    "# get_emb = nn.Embedding(3, 4)\n",
    "# seq_input = get_emb(input)\n",
    "print(f\"test_input is {test_input.shape}\")\n",
    "PDNN_layer = ParallelDNNLayer(in_shape=test_input.shape[-1], hidden_units=[10, 8, 2], n_experts=3)\n",
    "\n",
    "test_output = PDNN_layer(test_input)\n",
    "\n",
    "print(test_output.shape)\n",
    "print(f\"test_output is {test_output}\")"
   ]
  },
  {
   "cell_type": "code",
   "execution_count": 12,
   "metadata": {},
   "outputs": [
    {
     "data": {
      "text/plain": [
       "ParallelDNNLayer()"
      ]
     },
     "execution_count": 12,
     "metadata": {},
     "output_type": "execute_result"
    }
   ],
   "source": [
    "PDNN_layer"
   ]
  },
  {
   "cell_type": "code",
   "execution_count": null,
   "metadata": {},
   "outputs": [],
   "source": []
  }
 ],
 "metadata": {
  "kernelspec": {
   "display_name": "Python 3",
   "language": "python",
   "name": "python3"
  },
  "language_info": {
   "codemirror_mode": {
    "name": "ipython",
    "version": 3
   },
   "file_extension": ".py",
   "mimetype": "text/x-python",
   "name": "python",
   "nbconvert_exporter": "python",
   "pygments_lexer": "ipython3",
   "version": "3.10.4"
  }
 },
 "nbformat": 4,
 "nbformat_minor": 2
}
