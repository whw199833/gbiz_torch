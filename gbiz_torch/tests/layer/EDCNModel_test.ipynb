{
 "cells": [
  {
   "cell_type": "code",
   "execution_count": 5,
   "metadata": {},
   "outputs": [],
   "source": [
    "import sys\n",
    "sys.path.append(\"../../../\")"
   ]
  },
  {
   "cell_type": "code",
   "execution_count": 6,
   "metadata": {},
   "outputs": [],
   "source": [
    "import torch \n",
    "from gbiz_torch.model import EDCNModel"
   ]
  },
  {
   "cell_type": "code",
   "execution_count": 7,
   "metadata": {},
   "outputs": [
    {
     "name": "stdout",
     "output_type": "stream",
     "text": [
      "torch.Size([8, 1])\n",
      "test_output is tensor([[ 3.7796],\n",
      "        [-0.5364],\n",
      "        [-0.0000],\n",
      "        [-0.0000],\n",
      "        [-0.5364],\n",
      "        [-0.0000],\n",
      "        [-0.5368],\n",
      "        [-0.0000]], grad_fn=<MulBackward0>)\n"
     ]
    }
   ],
   "source": [
    "test_input = torch.randn((8, 5))\n",
    "# print(f\"test_input is {test_input}\")\n",
    "EDCN_Model = EDCNModel(in_shape=test_input.shape[-1], dropout_rate=0.3, use_bn=True, l2_reg=0.9)\n",
    "\n",
    "test_output = EDCN_Model(test_input)\n",
    "\n",
    "print(test_output.shape)\n",
    "print(f\"test_output is {test_output}\")"
   ]
  },
  {
   "cell_type": "code",
   "execution_count": 8,
   "metadata": {},
   "outputs": [
    {
     "data": {
      "text/plain": [
       "EDCNModel(\n",
       "  (bridge_layer): BridgeLayer(\n",
       "    (deep_layers): ModuleList(\n",
       "      (0): Linear(in_features=5, out_features=5, bias=True)\n",
       "      (1): Linear(in_features=5, out_features=5, bias=True)\n",
       "    )\n",
       "  )\n",
       "  (dnn_layer): DNNLayer(\n",
       "    (linear_layers): ModuleList(\n",
       "      (0): Linear(in_features=5, out_features=4, bias=True)\n",
       "      (1): Linear(in_features=4, out_features=1, bias=True)\n",
       "    )\n",
       "    (act_layers): ModuleList(\n",
       "      (0): ReLU()\n",
       "      (1): ReLU()\n",
       "    )\n",
       "    (bn_layers): ModuleList(\n",
       "      (0): BatchNorm1d(4, eps=1e-05, momentum=0.1, affine=True, track_running_stats=True)\n",
       "      (1): BatchNorm1d(1, eps=1e-05, momentum=0.1, affine=True, track_running_stats=True)\n",
       "    )\n",
       "    (dropout_layers): ModuleList(\n",
       "      (0): Dropout(p=0.3, inplace=False)\n",
       "      (1): Dropout(p=0.3, inplace=False)\n",
       "    )\n",
       "  )\n",
       ")"
      ]
     },
     "execution_count": 8,
     "metadata": {},
     "output_type": "execute_result"
    }
   ],
   "source": [
    "EDCN_Model"
   ]
  },
  {
   "cell_type": "code",
   "execution_count": null,
   "metadata": {},
   "outputs": [],
   "source": []
  }
 ],
 "metadata": {
  "kernelspec": {
   "display_name": "Python 3",
   "language": "python",
   "name": "python3"
  },
  "language_info": {
   "codemirror_mode": {
    "name": "ipython",
    "version": 3
   },
   "file_extension": ".py",
   "mimetype": "text/x-python",
   "name": "python",
   "nbconvert_exporter": "python",
   "pygments_lexer": "ipython3",
   "version": "3.10.4"
  }
 },
 "nbformat": 4,
 "nbformat_minor": 2
}
