{
 "cells": [
  {
   "cell_type": "code",
   "execution_count": 3,
   "metadata": {},
   "outputs": [],
   "source": [
    "import torch \n",
    "import torch.nn as nn\n",
    "from gbiz_torch.layer import PositionalEncodingLayer"
   ]
  },
  {
   "cell_type": "code",
   "execution_count": 4,
   "metadata": {},
   "outputs": [
    {
     "data": {
      "text/plain": [
       "torch.Size([8, 5, 4])"
      ]
     },
     "execution_count": 4,
     "metadata": {},
     "output_type": "execute_result"
    }
   ],
   "source": [
    "test_input = torch.randint(0, 10, (8, 5))\n",
    "padding_idx = 0\n",
    "embedding = nn.Embedding(10, 4, padding_idx=padding_idx)\n",
    "seq_emb_input = embedding(test_input)\n",
    "seq_emb_input.shape"
   ]
  },
  {
   "cell_type": "code",
   "execution_count": 5,
   "metadata": {},
   "outputs": [
    {
     "name": "stdout",
     "output_type": "stream",
     "text": [
      "test_input.shape is torch.Size([8, 5])\n",
      "signal  torch.Size([8, 5, 4])\n",
      "output  torch.Size([8, 5, 4])\n",
      "test_output.shape is torch.Size([8, 5, 4])\n",
      "test_output is tensor([[[-8.3522e-01, -3.5970e-02,  5.1777e-01,  1.7710e+00],\n",
      "         [ 8.4147e-01,  1.0000e-04,  5.4030e-01,  1.0000e+00],\n",
      "         [ 9.0930e-01,  2.0000e-04, -4.1615e-01,  1.0000e+00],\n",
      "         [-6.9410e-01, -3.5670e-02, -1.4722e+00,  1.7710e+00],\n",
      "         [ 5.5631e-02,  5.4415e-01, -7.4541e-01,  1.7425e+00]],\n",
      "\n",
      "        [[ 1.2076e+00,  1.3203e+00,  5.4169e-03,  3.9550e-01],\n",
      "         [ 2.0357e+00,  1.2915e+00,  6.7093e-02, -2.4705e-01],\n",
      "         [ 7.4078e-02, -3.5770e-02, -8.9837e-01,  1.7710e+00],\n",
      "         [-8.9425e-01,  3.7357e-01, -1.1548e+00,  2.5000e+00],\n",
      "         [ 4.3740e-01,  1.2918e+00, -1.1269e+00, -2.4705e-01]],\n",
      "\n",
      "        [[-1.8031e+00, -1.1025e+00, -2.1718e+00,  1.4397e+00],\n",
      "         [ 8.4147e-01,  1.0000e-04,  5.4030e-01,  1.0000e+00],\n",
      "         [ 2.1035e+00,  1.2916e+00, -8.8936e-01, -2.4705e-01],\n",
      "         [ 2.6472e-01, -4.1680e-01, -8.8036e-01,  1.0599e+00],\n",
      "         [ 5.5631e-02,  5.4415e-01, -7.4541e-01,  1.7425e+00]],\n",
      "\n",
      "        [[-1.0354e+00,  3.7327e-01,  8.3522e-01,  2.5000e+00],\n",
      "         [ 2.0357e+00,  1.2915e+00,  6.7093e-02, -2.4705e-01],\n",
      "         [ 1.0329e+00, -4.1690e-01, -3.0651e-01,  1.0599e+00],\n",
      "         [ 1.4112e-01,  3.0000e-04, -9.8999e-01,  1.0000e+00],\n",
      "         [-7.5680e-01,  4.0000e-04, -6.5364e-01,  1.0000e+00]],\n",
      "\n",
      "        [[ 1.2076e+00,  1.3203e+00,  5.4169e-03,  3.9550e-01],\n",
      "         [ 2.0490e+00,  1.3204e+00, -4.5428e-01,  3.9550e-01],\n",
      "         [-8.9385e-01, -1.1023e+00, -3.5879e+00,  1.4397e+00],\n",
      "         [ 1.0884e+00,  3.9062e-01, -4.6269e-01,  1.2120e+00],\n",
      "         [-7.5680e-01,  4.0000e-04, -6.5364e-01,  1.0000e+00]],\n",
      "\n",
      "        [[ 1.2360e-01, -4.1710e-01,  1.1096e+00,  1.0599e+00],\n",
      "         [ 2.0357e+00,  1.2915e+00,  6.7093e-02, -2.4705e-01],\n",
      "         [ 2.1035e+00,  1.2916e+00, -8.8936e-01, -2.4705e-01],\n",
      "         [ 2.6472e-01, -4.1680e-01, -8.8036e-01,  1.0599e+00],\n",
      "         [ 4.3740e-01,  1.2918e+00, -1.1269e+00, -2.4705e-01]],\n",
      "\n",
      "        [[ 1.1942e+00,  1.2914e+00,  5.2679e-01, -2.4705e-01],\n",
      "         [-1.9390e-01,  3.7337e-01,  3.7552e-01,  2.5000e+00],\n",
      "         [-8.9385e-01, -1.1023e+00, -3.5879e+00,  1.4397e+00],\n",
      "         [ 9.5355e-01,  5.4405e-01, -1.0818e+00,  1.7425e+00],\n",
      "         [-1.7922e+00,  3.7367e-01, -8.1843e-01,  2.5000e+00]],\n",
      "\n",
      "        [[ 8.1243e-01,  5.4375e-01,  9.0823e-01,  1.7425e+00],\n",
      "         [ 2.0357e+00,  1.2915e+00,  6.7093e-02, -2.4705e-01],\n",
      "         [ 2.1035e+00,  1.2916e+00, -8.8936e-01, -2.4705e-01],\n",
      "         [ 1.0884e+00,  3.9062e-01, -4.6269e-01,  1.2120e+00],\n",
      "         [ 4.3740e-01,  1.2918e+00, -1.1269e+00, -2.4705e-01]]],\n",
      "       grad_fn=<AddBackward0>)\n"
     ]
    }
   ],
   "source": [
    "# print(f\"test_input.shape is {test_input.shape}\")\n",
    "PE_layer = PositionalEncodingLayer(input_length=5, in_shape=4)\n",
    "test_output = PE_layer(seq_emb_input)\n",
    "\n",
    "print(f\"test_output.shape is {test_output.shape}\")\n",
    "print(f\"test_output is {test_output}\")"
   ]
  },
  {
   "cell_type": "code",
   "execution_count": 7,
   "metadata": {},
   "outputs": [
    {
     "name": "stdout",
     "output_type": "stream",
     "text": [
      "test_input.shape is torch.Size([8, 5])\n",
      "test_output.shape is torch.Size([1, 5, 4])\n",
      "test_output is tensor([[[ 0.0000e+00,  0.0000e+00,  1.0000e+00,  1.0000e+00],\n",
      "         [ 8.4147e-01,  1.0000e-04,  5.4030e-01,  1.0000e+00],\n",
      "         [ 9.0930e-01,  2.0000e-04, -4.1615e-01,  1.0000e+00],\n",
      "         [ 1.4112e-01,  3.0000e-04, -9.8999e-01,  1.0000e+00],\n",
      "         [-7.5680e-01,  4.0000e-04, -6.5364e-01,  1.0000e+00]]])\n"
     ]
    }
   ],
   "source": [
    "print(f\"test_input.shape is {test_input.shape}\")\n",
    "get_PE_layer = PositionalEncodingLayer(input_length=5, in_shape=4, add_pos=False)\n",
    "test_output = get_PE_layer(seq_emb_input)\n",
    "\n",
    "print(f\"test_output.shape is {test_output.shape}\")\n",
    "print(f\"test_output is {test_output}\")"
   ]
  },
  {
   "cell_type": "code",
   "execution_count": null,
   "metadata": {},
   "outputs": [],
   "source": []
  }
 ],
 "metadata": {
  "kernelspec": {
   "display_name": "Python 3",
   "language": "python",
   "name": "python3"
  },
  "language_info": {
   "codemirror_mode": {
    "name": "ipython",
    "version": 3
   },
   "file_extension": ".py",
   "mimetype": "text/x-python",
   "name": "python",
   "nbconvert_exporter": "python",
   "pygments_lexer": "ipython3",
   "version": "3.10.4"
  }
 },
 "nbformat": 4,
 "nbformat_minor": 2
}
