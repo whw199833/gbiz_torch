{
 "cells": [
  {
   "cell_type": "code",
   "execution_count": 3,
   "metadata": {},
   "outputs": [],
   "source": [
    "import torch \n",
    "import torch.nn as nn\n",
    "from gbiz_torch.layer import CrossStitchLayer"
   ]
  },
  {
   "cell_type": "code",
   "execution_count": 4,
   "metadata": {},
   "outputs": [
    {
     "name": "stdout",
     "output_type": "stream",
     "text": [
      "test_input is [tensor([[-0.3117, -0.8204,  0.0791, -0.3302, -0.4038],\n",
      "        [ 1.1711,  1.0279,  1.1407, -0.8717,  1.0632],\n",
      "        [-0.2508, -0.1813,  0.6137,  0.4353,  1.5981],\n",
      "        [ 0.1162, -0.9408, -1.1473,  1.1942,  0.0861]]), tensor([[-0.3187, -0.1348, -0.8215,  1.4535, -0.4068],\n",
      "        [-0.0138,  1.5481, -0.0449,  1.4095,  0.8823],\n",
      "        [ 0.3736,  0.1956, -0.7782, -0.4228, -0.6050],\n",
      "        [ 0.6049,  0.9881,  0.2905,  0.4539, -0.6719]]), tensor([[-0.4557,  0.1716, -0.7017,  0.5777,  0.5028],\n",
      "        [-2.0210,  0.3544,  1.3916,  0.4058, -1.5059],\n",
      "        [ 0.3546,  1.0424, -0.7396, -0.3714,  0.9666],\n",
      "        [-0.0887,  0.4568, -0.9667, -0.1188,  0.7443]]), tensor([[ 1.1832,  0.0836, -0.7804,  0.3507, -1.1973],\n",
      "        [-0.0603, -0.9021, -0.5469, -0.9187, -1.1788],\n",
      "        [ 0.7004, -0.5829, -1.3896,  0.9599, -1.7770],\n",
      "        [-0.8329,  0.4711, -0.2270, -0.6038,  0.4068]]), tensor([[-2.0491, -1.0936,  0.4757,  0.4002, -1.2535],\n",
      "        [ 0.2272,  1.6549, -0.5261,  0.0494, -1.0643],\n",
      "        [-0.0613,  0.1209,  0.9826, -1.2233,  2.5936],\n",
      "        [ 1.7345, -0.0195, -0.7374, -0.0028,  0.6299]])]\n"
     ]
    }
   ],
   "source": [
    "test_input = []\n",
    "in_shape_list = []\n",
    "for i in range(5):\n",
    "    tmp = torch.randn((4, 5))\n",
    "    test_input.append(tmp)\n",
    "    in_shape_list.append(tmp.shape[-1])\n",
    "\n",
    "print(f\"test_input is {test_input}\")"
   ]
  },
  {
   "cell_type": "code",
   "execution_count": 5,
   "metadata": {},
   "outputs": [
    {
     "name": "stdout",
     "output_type": "stream",
     "text": [
      "cross_stitch_output  torch.Size([4, 25])\n",
      "test_output is [tensor([[-0.3117, -0.8204,  0.0791, -0.3302, -0.4038],\n",
      "        [ 1.1711,  1.0279,  1.1407, -0.8717,  1.0632],\n",
      "        [-0.2508, -0.1813,  0.6137,  0.4353,  1.5981],\n",
      "        [ 0.1162, -0.9408, -1.1473,  1.1942,  0.0861]],\n",
      "       grad_fn=<ReshapeAliasBackward0>), tensor([[-0.3187, -0.1348, -0.8215,  1.4535, -0.4068],\n",
      "        [-0.0138,  1.5481, -0.0449,  1.4095,  0.8823],\n",
      "        [ 0.3736,  0.1956, -0.7782, -0.4228, -0.6050],\n",
      "        [ 0.6049,  0.9881,  0.2905,  0.4539, -0.6719]],\n",
      "       grad_fn=<ReshapeAliasBackward0>), tensor([[-0.4557,  0.1716, -0.7017,  0.5777,  0.5028],\n",
      "        [-2.0210,  0.3544,  1.3916,  0.4058, -1.5059],\n",
      "        [ 0.3546,  1.0424, -0.7396, -0.3714,  0.9666],\n",
      "        [-0.0887,  0.4568, -0.9667, -0.1188,  0.7443]],\n",
      "       grad_fn=<ReshapeAliasBackward0>), tensor([[ 1.1832,  0.0836, -0.7804,  0.3507, -1.1973],\n",
      "        [-0.0603, -0.9021, -0.5469, -0.9187, -1.1788],\n",
      "        [ 0.7004, -0.5829, -1.3896,  0.9599, -1.7770],\n",
      "        [-0.8329,  0.4711, -0.2270, -0.6038,  0.4068]],\n",
      "       grad_fn=<ReshapeAliasBackward0>), tensor([[-2.0491, -1.0936,  0.4757,  0.4002, -1.2535],\n",
      "        [ 0.2272,  1.6549, -0.5261,  0.0494, -1.0643],\n",
      "        [-0.0613,  0.1209,  0.9826, -1.2233,  2.5936],\n",
      "        [ 1.7345, -0.0195, -0.7374, -0.0028,  0.6299]],\n",
      "       grad_fn=<ReshapeAliasBackward0>)]\n"
     ]
    }
   ],
   "source": [
    "CrossStitch_layer = CrossStitchLayer(in_shape_list=in_shape_list)\n",
    "\n",
    "test_output = CrossStitch_layer(test_input)\n",
    "\n",
    "# print(f\"test_output.shape is {test_output.shape}\")\n",
    "print(f\"test_output is {test_output}\")"
   ]
  },
  {
   "cell_type": "code",
   "execution_count": 6,
   "metadata": {},
   "outputs": [
    {
     "data": {
      "text/plain": [
       "CrossStitchLayer()"
      ]
     },
     "execution_count": 6,
     "metadata": {},
     "output_type": "execute_result"
    }
   ],
   "source": [
    "CrossStitch_layer"
   ]
  },
  {
   "cell_type": "code",
   "execution_count": 9,
   "metadata": {},
   "outputs": [
    {
     "data": {
      "text/plain": [
       "torch.Size([5, 4, 5])"
      ]
     },
     "execution_count": 9,
     "metadata": {},
     "output_type": "execute_result"
    }
   ],
   "source": [
    "torch.stack(test_output).shape"
   ]
  },
  {
   "cell_type": "code",
   "execution_count": null,
   "metadata": {},
   "outputs": [],
   "source": []
  }
 ],
 "metadata": {
  "kernelspec": {
   "display_name": "Python 3",
   "language": "python",
   "name": "python3"
  },
  "language_info": {
   "codemirror_mode": {
    "name": "ipython",
    "version": 3
   },
   "file_extension": ".py",
   "mimetype": "text/x-python",
   "name": "python",
   "nbconvert_exporter": "python",
   "pygments_lexer": "ipython3",
   "version": "3.10.4"
  }
 },
 "nbformat": 4,
 "nbformat_minor": 2
}
