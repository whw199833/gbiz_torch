{
 "cells": [
  {
   "cell_type": "code",
   "execution_count": 2,
   "metadata": {},
   "outputs": [],
   "source": [
    "import torch \n",
    "import torch.nn as nn\n",
    "from gbiz_torch.layer import FieldWiseBiInterationLayer"
   ]
  },
  {
   "cell_type": "code",
   "execution_count": 3,
   "metadata": {},
   "outputs": [],
   "source": [
    "test_input_1 = torch.randint(0, 2, (8, 3))\n",
    "test_input_2 = torch.randint(0, 3, (8, 5))\n",
    "test_input_3 = torch.randint(0, 4, (8, 4))\n",
    "test_input_4 = torch.randint(0, 5, (8, 4))\n",
    "# padding_idx = 0\n",
    "embedding = nn.Embedding(10, 6)\n",
    "emb_input1 = embedding(test_input_1)\n",
    "emb_input2 = embedding(test_input_2)\n",
    "emb_input3 = embedding(test_input_3)\n",
    "emb_input4 = embedding(test_input_4)\n",
    "test_input = [emb_input1, emb_input2, emb_input3, emb_input4]"
   ]
  },
  {
   "cell_type": "code",
   "execution_count": 4,
   "metadata": {},
   "outputs": [
    {
     "name": "stdout",
     "output_type": "stream",
     "text": [
      "test_output.shape is torch.Size([8, 6])\n",
      "test_output is tensor([[-5.7398e+00,  2.1504e+01, -2.5585e-01, -1.3359e+01, -2.0455e+00,\n",
      "         -1.1898e+01],\n",
      "        [ 3.1805e+00, -1.3893e+00, -1.7375e+00, -1.2048e+01,  2.4333e-01,\n",
      "          1.5981e+00],\n",
      "        [ 4.9126e+00,  1.3074e+01,  3.2382e-02,  1.5239e+01, -6.1085e+00,\n",
      "          5.4496e+00],\n",
      "        [-1.9590e+00,  4.9231e-01,  1.4209e+00, -4.7801e+00,  2.9378e+00,\n",
      "         -3.4811e+00],\n",
      "        [-2.5390e+00, -6.4266e+00,  5.8273e-02, -5.2391e+00, -7.3434e+00,\n",
      "          7.2561e+00],\n",
      "        [-3.9235e+00,  1.6337e+01, -8.0399e+00, -4.5642e+01, -4.1004e+01,\n",
      "          4.2538e+00],\n",
      "        [-1.0551e+01, -2.7610e+01, -2.5683e+01, -3.1830e+01, -1.1327e+01,\n",
      "          1.3991e+01],\n",
      "        [ 1.3055e+01,  2.1516e+00,  1.9014e+01,  3.2214e+01,  2.4439e+01,\n",
      "          1.3767e+01]], grad_fn=<AddBackward0>)\n"
     ]
    }
   ],
   "source": [
    "# print(f\"test_input.shape is {test_input.shape}\")\n",
    "## n_inputs: n_fields\n",
    "## in_shape: emb_dim\n",
    "n_inputs = len(test_input)\n",
    "in_shape = test_input[0].shape[-1]\n",
    "\n",
    "FWBI_layer = FieldWiseBiInterationLayer(n_inputs=n_inputs, in_shape=in_shape, use_bias=True)\n",
    "test_output = FWBI_layer(test_input)\n",
    "\n",
    "print(f\"test_output.shape is {test_output.shape}\")\n",
    "print(f\"test_output is {test_output}\")"
   ]
  },
  {
   "cell_type": "code",
   "execution_count": null,
   "metadata": {},
   "outputs": [],
   "source": []
  }
 ],
 "metadata": {
  "kernelspec": {
   "display_name": "Python 3",
   "language": "python",
   "name": "python3"
  },
  "language_info": {
   "codemirror_mode": {
    "name": "ipython",
    "version": 3
   },
   "file_extension": ".py",
   "mimetype": "text/x-python",
   "name": "python",
   "nbconvert_exporter": "python",
   "pygments_lexer": "ipython3",
   "version": "3.10.4"
  }
 },
 "nbformat": 4,
 "nbformat_minor": 2
}
