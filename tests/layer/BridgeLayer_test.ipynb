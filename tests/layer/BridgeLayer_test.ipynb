{
 "cells": [
  {
   "cell_type": "code",
   "execution_count": 2,
   "metadata": {},
   "outputs": [],
   "source": [
    "import torch \n",
    "import torch.nn as nn\n",
    "from gbiz_torch.layer import BridgeLayer"
   ]
  },
  {
   "cell_type": "code",
   "execution_count": 12,
   "metadata": {},
   "outputs": [],
   "source": [
    "test_input = torch.randn(8, 6)"
   ]
  },
  {
   "cell_type": "code",
   "execution_count": 13,
   "metadata": {},
   "outputs": [
    {
     "name": "stdout",
     "output_type": "stream",
     "text": [
      "test_output.shape is torch.Size([8, 6])\n",
      "test_output is tensor([[-2.7257e-05, -0.0000e+00, -9.4183e-05, -0.0000e+00,  0.0000e+00,\n",
      "         -2.9702e-05],\n",
      "        [-3.9260e+00, -0.0000e+00, -0.0000e+00, -9.2676e-01,  1.9278e+02,\n",
      "          0.0000e+00],\n",
      "        [-3.2024e-06,  0.0000e+00,  4.4076e-08,  0.0000e+00,  0.0000e+00,\n",
      "          5.1373e-07],\n",
      "        [ 4.5063e-04, -0.0000e+00,  3.4450e-04, -0.0000e+00,  0.0000e+00,\n",
      "          4.5469e-04],\n",
      "        [-6.0472e-03,  0.0000e+00, -3.1226e-02,  0.0000e+00, -0.0000e+00,\n",
      "         -2.0810e-03],\n",
      "        [ 5.3939e-05, -0.0000e+00, -3.2312e-05, -0.0000e+00,  0.0000e+00,\n",
      "          4.0969e-05],\n",
      "        [-3.6286e-07, -0.0000e+00,  8.2490e-08, -0.0000e+00, -0.0000e+00,\n",
      "         -1.8647e-07],\n",
      "        [ 1.8663e-02,  0.0000e+00,  1.0123e-02, -0.0000e+00,  0.0000e+00,\n",
      "         -6.3439e-03]], grad_fn=<SqueezeBackward1>)\n"
     ]
    }
   ],
   "source": [
    "BL_layer = BridgeLayer(in_shape=test_input.shape[-1], n_layers=5)\n",
    "\n",
    "test_output = BL_layer(test_input)\n",
    "\n",
    "print(f\"test_output.shape is {test_output.shape}\")\n",
    "print(f\"test_output is {test_output}\")"
   ]
  },
  {
   "cell_type": "code",
   "execution_count": 5,
   "metadata": {},
   "outputs": [
    {
     "data": {
      "text/plain": [
       "CrossLayer()"
      ]
     },
     "execution_count": 5,
     "metadata": {},
     "output_type": "execute_result"
    }
   ],
   "source": [
    "Cross_layer"
   ]
  },
  {
   "cell_type": "code",
   "execution_count": null,
   "metadata": {},
   "outputs": [],
   "source": []
  }
 ],
 "metadata": {
  "kernelspec": {
   "display_name": "Python 3",
   "language": "python",
   "name": "python3"
  },
  "language_info": {
   "codemirror_mode": {
    "name": "ipython",
    "version": 3
   },
   "file_extension": ".py",
   "mimetype": "text/x-python",
   "name": "python",
   "nbconvert_exporter": "python",
   "pygments_lexer": "ipython3",
   "version": "3.10.4"
  }
 },
 "nbformat": 4,
 "nbformat_minor": 2
}
