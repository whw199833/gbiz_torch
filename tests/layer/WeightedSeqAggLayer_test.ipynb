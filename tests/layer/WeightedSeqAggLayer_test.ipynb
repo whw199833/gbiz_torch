{
 "cells": [
  {
   "cell_type": "code",
   "execution_count": 2,
   "metadata": {},
   "outputs": [],
   "source": [
    "import torch \n",
    "import torch.nn as nn\n",
    "from gbiz_torch.layer import WeightedSeqAggLayer"
   ]
  },
  {
   "cell_type": "markdown",
   "metadata": {},
   "source": [
    "### 单seq输入："
   ]
  },
  {
   "cell_type": "code",
   "execution_count": 4,
   "metadata": {},
   "outputs": [
    {
     "name": "stdout",
     "output_type": "stream",
     "text": [
      "attn.shape is torch.Size([8, 10, 1])\n",
      "torch.Size([8, 5])\n"
     ]
    }
   ],
   "source": [
    "input_a = torch.randint(0, 3, (8, 10))\n",
    "get_emb = nn.Embedding(3, 5)\n",
    "input_seq = get_emb(input_a)\n",
    "\n",
    "# print(f\"test_input is {test_input}\")\n",
    "WSA_layer = WeightedSeqAggLayer(in_shape_list=[input_seq.shape[-1]], n_inputs=1)\n",
    "test_output = WSA_layer(input_seq)\n",
    "\n",
    "print(test_output.shape)\n",
    "# print(f\"test_output is {test_output}\")"
   ]
  },
  {
   "cell_type": "markdown",
   "metadata": {},
   "source": [
    "### 双输入："
   ]
  },
  {
   "cell_type": "code",
   "execution_count": 12,
   "metadata": {},
   "outputs": [
    {
     "name": "stdout",
     "output_type": "stream",
     "text": [
      "attn.shape is torch.Size([8, 10, 1])\n",
      "torch.Size([8, 5])\n"
     ]
    }
   ],
   "source": [
    "# print(f\"test_input is {test_input}\")\n",
    "input_a = torch.randint(0, 3, (8, 10))\n",
    "get_emb = nn.Embedding(3, 5)\n",
    "input_seq = get_emb(input_a)\n",
    "\n",
    "input_item_emb = torch.randn(8, 3)\n",
    "test_input = (input_seq, input_item_emb)\n",
    "\n",
    "# mask_input=None\n",
    "mask_input = torch.randint(0, 2, (8, 10))\n",
    "\n",
    "WSA_layer = WeightedSeqAggLayer(in_shape_list=[test_input[0].shape[-1], test_input[1].shape[-1]], n_inputs=2)\n",
    "test_output = WSA_layer(test_input, mask=mask_input)\n",
    "\n",
    "print(test_output.shape)\n",
    "# print(f\"test_output is {test_output}\")"
   ]
  },
  {
   "cell_type": "code",
   "execution_count": 7,
   "metadata": {},
   "outputs": [
    {
     "data": {
      "text/plain": [
       "gbiz_algo_torch.layer.spatial.WeightedSeqAggLayer"
      ]
     },
     "execution_count": 7,
     "metadata": {},
     "output_type": "execute_result"
    }
   ],
   "source": [
    "WeightedSeqAggLayer"
   ]
  },
  {
   "cell_type": "code",
   "execution_count": null,
   "metadata": {},
   "outputs": [],
   "source": []
  }
 ],
 "metadata": {
  "kernelspec": {
   "display_name": "Python 3",
   "language": "python",
   "name": "python3"
  },
  "language_info": {
   "codemirror_mode": {
    "name": "ipython",
    "version": 3
   },
   "file_extension": ".py",
   "mimetype": "text/x-python",
   "name": "python",
   "nbconvert_exporter": "python",
   "pygments_lexer": "ipython3",
   "version": "3.10.4"
  }
 },
 "nbformat": 4,
 "nbformat_minor": 2
}
