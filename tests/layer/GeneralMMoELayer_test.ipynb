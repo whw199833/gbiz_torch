{
 "cells": [
  {
   "cell_type": "code",
   "execution_count": 3,
   "metadata": {},
   "outputs": [],
   "source": [
    "import torch \n",
    "import torch.nn as nn\n",
    "from gbiz_torch.layer import GeneralMMoELayer"
   ]
  },
  {
   "cell_type": "code",
   "execution_count": 7,
   "metadata": {},
   "outputs": [],
   "source": [
    "shared_inputs = torch.randn(4, 10)\n",
    "expert_inputs = torch.randn(4, 5, 20)\n",
    "\n",
    "test_input = [shared_inputs, expert_inputs]"
   ]
  },
  {
   "cell_type": "code",
   "execution_count": 9,
   "metadata": {},
   "outputs": [
    {
     "name": "stdout",
     "output_type": "stream",
     "text": [
      "gate_output  torch.Size([4, 20, 3])\n",
      "test_output is [tensor([[ 0.1278, -0.1220, -0.0284, -0.0590,  0.0796],\n",
      "        [-0.1641, -0.1824,  0.2250,  0.2616,  0.2412],\n",
      "        [ 0.1540,  0.1458,  0.2039, -0.1238,  0.2182],\n",
      "        [ 0.0103, -0.1877, -0.4252,  0.0349,  0.2906]],\n",
      "       grad_fn=<SelectBackward0>), tensor([[ 0.0484,  0.0952, -0.1017, -0.0097, -0.1420],\n",
      "        [-0.0755, -0.1684,  0.1961,  0.4134,  0.3437],\n",
      "        [-0.0620, -0.0432,  0.1450, -0.0289,  0.2424],\n",
      "        [ 0.1697, -0.1503, -0.2641, -0.2741,  0.1443]],\n",
      "       grad_fn=<SelectBackward0>), tensor([[-0.1124, -0.2367, -0.1122,  0.0231,  0.0881],\n",
      "        [-0.0547, -0.1010,  0.2047,  0.4159,  0.2450],\n",
      "        [ 0.1082,  0.0962,  0.0333, -0.1239,  0.2838],\n",
      "        [ 0.2620, -0.3595, -0.1757, -0.2303,  0.3189]],\n",
      "       grad_fn=<SelectBackward0>)]\n"
     ]
    }
   ],
   "source": [
    "gmmoe_layer = GeneralMMoELayer(\n",
    "    shared_in_shape=test_input[0].shape[-1], \n",
    "    expert_in_shape=test_input[1].shape[-1],\n",
    "    num_experts=test_input[1].shape[-1],\n",
    "    num_tasks=3\n",
    "    )\n",
    "\n",
    "test_output = gmmoe_layer(test_input)\n",
    "\n",
    "# print(f\"test_output.shape is {test_output.shape}\")\n",
    "print(f\"test_output is {test_output}\")"
   ]
  },
  {
   "cell_type": "code",
   "execution_count": 10,
   "metadata": {},
   "outputs": [
    {
     "data": {
      "text/plain": [
       "gbiz_algo_torch.layer.core.GeneralMMoELayer"
      ]
     },
     "execution_count": 10,
     "metadata": {},
     "output_type": "execute_result"
    }
   ],
   "source": [
    "GeneralMMoELayer"
   ]
  },
  {
   "cell_type": "code",
   "execution_count": 14,
   "metadata": {},
   "outputs": [
    {
     "data": {
      "text/plain": [
       "torch.Size([3, 4, 5])"
      ]
     },
     "execution_count": 14,
     "metadata": {},
     "output_type": "execute_result"
    }
   ],
   "source": [
    "combined_out = torch.stack(test_output)\n",
    "combined_out.shape"
   ]
  },
  {
   "cell_type": "code",
   "execution_count": 16,
   "metadata": {},
   "outputs": [
    {
     "data": {
      "text/plain": [
       "torch.Size([4, 3, 5])"
      ]
     },
     "execution_count": 16,
     "metadata": {},
     "output_type": "execute_result"
    }
   ],
   "source": [
    "combined_out = combined_out.permute((1, 0, 2))\n",
    "combined_out.shape"
   ]
  },
  {
   "cell_type": "code",
   "execution_count": null,
   "metadata": {},
   "outputs": [],
   "source": []
  }
 ],
 "metadata": {
  "kernelspec": {
   "display_name": "Python 3",
   "language": "python",
   "name": "python3"
  },
  "language_info": {
   "codemirror_mode": {
    "name": "ipython",
    "version": 3
   },
   "file_extension": ".py",
   "mimetype": "text/x-python",
   "name": "python",
   "nbconvert_exporter": "python",
   "pygments_lexer": "ipython3",
   "version": "3.10.4"
  }
 },
 "nbformat": 4,
 "nbformat_minor": 2
}
