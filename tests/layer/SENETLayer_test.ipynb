{
 "cells": [
  {
   "cell_type": "code",
   "execution_count": 32,
   "metadata": {},
   "outputs": [],
   "source": [
    "import torch \n",
    "from gbiz_torch.layer import SENETLayer"
   ]
  },
  {
   "cell_type": "code",
   "execution_count": 33,
   "metadata": {},
   "outputs": [
    {
     "data": {
      "text/plain": [
       "torch.Size([8, 2, 5])"
      ]
     },
     "execution_count": 33,
     "metadata": {},
     "output_type": "execute_result"
    }
   ],
   "source": [
    "test_input1 = torch.unsqueeze(torch.randn((8, 5)), 1)\n",
    "test_input2 = torch.unsqueeze(torch.randn((8, 5)), 1)\n",
    "test_input = torch.cat([test_input1, test_input2], dim=1)\n",
    "test_input.shape"
   ]
  },
  {
   "cell_type": "code",
   "execution_count": 34,
   "metadata": {},
   "outputs": [
    {
     "data": {
      "text/plain": [
       "torch.Size([8, 2, 1])"
      ]
     },
     "execution_count": 34,
     "metadata": {},
     "output_type": "execute_result"
    }
   ],
   "source": [
    "torch.mean(test_input, dim=-1, keepdim=True).shape"
   ]
  },
  {
   "cell_type": "code",
   "execution_count": 35,
   "metadata": {},
   "outputs": [
    {
     "name": "stdout",
     "output_type": "stream",
     "text": [
      "test_input.shape is torch.Size([8, 2, 5])\n",
      "test_output.shape is torch.Size([8, 2, 5])\n",
      "test_output is tensor([[[-7.2913e-01, -3.9257e-01, -3.2344e+00, -8.1344e-02, -8.6473e-01],\n",
      "         [ 0.0000e+00, -0.0000e+00, -0.0000e+00,  0.0000e+00, -0.0000e+00]],\n",
      "\n",
      "        [[ 9.9191e-04, -2.1385e-03, -2.3208e-04,  2.4528e-03,  3.6463e-04],\n",
      "         [ 1.2671e-04,  7.9073e-04,  1.3387e-04,  1.7714e-04, -2.7227e-04]],\n",
      "\n",
      "        [[ 2.1390e-02,  2.4221e-02, -1.8064e-02, -3.0213e-02,  3.2536e-02],\n",
      "         [-1.4143e-02, -7.8362e-03,  1.3464e-03,  1.1420e-02, -6.5923e-03]],\n",
      "\n",
      "        [[-4.1699e+00, -1.3904e+00, -4.6156e+00, -1.5473e+00,  3.4758e+00],\n",
      "         [-0.0000e+00, -0.0000e+00,  0.0000e+00, -0.0000e+00, -0.0000e+00]],\n",
      "\n",
      "        [[-4.1186e-03,  3.0105e-02,  2.6402e-02,  6.6017e-02,  9.7236e-03],\n",
      "         [-2.0126e-02, -1.4338e-02,  1.9341e-02,  2.0170e-02, -9.9305e-03]],\n",
      "\n",
      "        [[-8.1049e-02,  2.3786e-01, -1.1634e-01,  1.6310e-01, -4.4475e-02],\n",
      "         [-0.0000e+00, -0.0000e+00, -0.0000e+00,  0.0000e+00,  0.0000e+00]],\n",
      "\n",
      "        [[ 9.3002e-02,  1.7008e-01,  1.0058e-02, -2.5646e-01, -1.1423e-02],\n",
      "         [ 0.0000e+00, -0.0000e+00, -0.0000e+00,  0.0000e+00, -0.0000e+00]],\n",
      "\n",
      "        [[-3.0122e-04,  7.3804e-03,  1.1874e-02, -8.9047e-03,  1.2942e-03],\n",
      "         [ 5.1613e-03,  6.7569e-03,  1.8762e-03, -4.4750e-03, -5.7063e-03]]],\n",
      "       grad_fn=<MulBackward0>)\n"
     ]
    }
   ],
   "source": [
    "\n",
    "print(f\"test_input.shape is {test_input.shape}\")\n",
    "sene_layer = SENETLayer(fields=2, reduction_ratio=1)\n",
    "test_output = sene_layer(test_input)\n",
    "\n",
    "print(f\"test_output.shape is {test_output.shape}\")\n",
    "print(f\"test_output is {test_output}\")"
   ]
  },
  {
   "cell_type": "code",
   "execution_count": 36,
   "metadata": {},
   "outputs": [
    {
     "data": {
      "text/plain": [
       "SENETLayer()"
      ]
     },
     "execution_count": 36,
     "metadata": {},
     "output_type": "execute_result"
    }
   ],
   "source": [
    "sene_layer"
   ]
  },
  {
   "cell_type": "code",
   "execution_count": null,
   "metadata": {},
   "outputs": [],
   "source": []
  }
 ],
 "metadata": {
  "kernelspec": {
   "display_name": "Python 3",
   "language": "python",
   "name": "python3"
  },
  "language_info": {
   "codemirror_mode": {
    "name": "ipython",
    "version": 3
   },
   "file_extension": ".py",
   "mimetype": "text/x-python",
   "name": "python",
   "nbconvert_exporter": "python",
   "pygments_lexer": "ipython3",
   "version": "3.10.4"
  }
 },
 "nbformat": 4,
 "nbformat_minor": 2
}
