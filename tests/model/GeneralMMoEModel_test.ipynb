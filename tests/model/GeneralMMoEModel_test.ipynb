{
 "cells": [
  {
   "cell_type": "code",
   "execution_count": 2,
   "metadata": {},
   "outputs": [],
   "source": [
    "import torch \n",
    "from gbiz_torch.model import GeneralMMoEModel"
   ]
  },
  {
   "cell_type": "code",
   "execution_count": 6,
   "metadata": {},
   "outputs": [
    {
     "name": "stdout",
     "output_type": "stream",
     "text": [
      "test_input.shape is torch.Size([8, 5])\n",
      "gate_output  torch.Size([8, 3, 3])\n",
      "test_output is [tensor([[0.5467],\n",
      "        [0.4940],\n",
      "        [0.2555],\n",
      "        [0.5434],\n",
      "        [0.5643],\n",
      "        [0.5015],\n",
      "        [0.4692],\n",
      "        [0.5276]], grad_fn=<ReluBackward0>), tensor([[0.3268],\n",
      "        [0.3427],\n",
      "        [0.3206],\n",
      "        [0.3195],\n",
      "        [0.3178],\n",
      "        [0.3393],\n",
      "        [0.3440],\n",
      "        [0.3315]], grad_fn=<ReluBackward0>), tensor([[0.6840],\n",
      "        [0.6770],\n",
      "        [0.8201],\n",
      "        [0.6876],\n",
      "        [0.6880],\n",
      "        [0.6796],\n",
      "        [0.6877],\n",
      "        [0.6818]], grad_fn=<ReluBackward0>)]\n"
     ]
    }
   ],
   "source": [
    "test_input = torch.randn((8, 5))\n",
    "print(f\"test_input.shape is {test_input.shape}\")\n",
    "\n",
    "(bz, dim) = test_input.shape\n",
    "GMMOE_Model = GeneralMMoEModel(in_shape=dim, sharing_hidden_units=[10, 8], experts_hidden_units=[[2], [4, 2], [8, 2]], task_hidden_units=[[1], [2, 1], [1]])\n",
    "\n",
    "test_output = GMMOE_Model(test_input)\n",
    "\n",
    "# print(test_output.shape)\n",
    "print(f\"test_output is {test_output}\")"
   ]
  },
  {
   "cell_type": "code",
   "execution_count": 7,
   "metadata": {},
   "outputs": [
    {
     "data": {
      "text/plain": [
       "GeneralMMoEModel(\n",
       "  (gmmoe_layer): GeneralMMoELayer()\n",
       "  (sharing_layer): DNNLayer(\n",
       "    (linear_layers): ModuleList(\n",
       "      (0): Linear(in_features=5, out_features=10, bias=True)\n",
       "      (1): Linear(in_features=10, out_features=8, bias=True)\n",
       "    )\n",
       "    (act_layers): ModuleList(\n",
       "      (0): ReLU()\n",
       "      (1): ReLU()\n",
       "    )\n",
       "  )\n",
       "  (expert_layers): ModuleList(\n",
       "    (0): DNNLayer(\n",
       "      (linear_layers): ModuleList(\n",
       "        (0): Linear(in_features=8, out_features=2, bias=True)\n",
       "      )\n",
       "      (act_layers): ModuleList(\n",
       "        (0): ReLU()\n",
       "      )\n",
       "    )\n",
       "    (1): DNNLayer(\n",
       "      (linear_layers): ModuleList(\n",
       "        (0): Linear(in_features=8, out_features=4, bias=True)\n",
       "        (1): Linear(in_features=4, out_features=2, bias=True)\n",
       "      )\n",
       "      (act_layers): ModuleList(\n",
       "        (0): ReLU()\n",
       "        (1): ReLU()\n",
       "      )\n",
       "    )\n",
       "    (2): DNNLayer(\n",
       "      (linear_layers): ModuleList(\n",
       "        (0): Linear(in_features=8, out_features=8, bias=True)\n",
       "        (1): Linear(in_features=8, out_features=2, bias=True)\n",
       "      )\n",
       "      (act_layers): ModuleList(\n",
       "        (0): ReLU()\n",
       "        (1): ReLU()\n",
       "      )\n",
       "    )\n",
       "  )\n",
       "  (task_layers): ModuleList(\n",
       "    (0): DNNLayer(\n",
       "      (linear_layers): ModuleList(\n",
       "        (0): Linear(in_features=2, out_features=1, bias=True)\n",
       "      )\n",
       "      (act_layers): ModuleList(\n",
       "        (0): ReLU()\n",
       "      )\n",
       "    )\n",
       "    (1): DNNLayer(\n",
       "      (linear_layers): ModuleList(\n",
       "        (0): Linear(in_features=2, out_features=2, bias=True)\n",
       "        (1): Linear(in_features=2, out_features=1, bias=True)\n",
       "      )\n",
       "      (act_layers): ModuleList(\n",
       "        (0): ReLU()\n",
       "        (1): ReLU()\n",
       "      )\n",
       "    )\n",
       "    (2): DNNLayer(\n",
       "      (linear_layers): ModuleList(\n",
       "        (0): Linear(in_features=2, out_features=1, bias=True)\n",
       "      )\n",
       "      (act_layers): ModuleList(\n",
       "        (0): ReLU()\n",
       "      )\n",
       "    )\n",
       "  )\n",
       ")"
      ]
     },
     "execution_count": 7,
     "metadata": {},
     "output_type": "execute_result"
    }
   ],
   "source": [
    "GMMOE_Model"
   ]
  },
  {
   "cell_type": "code",
   "execution_count": null,
   "metadata": {},
   "outputs": [],
   "source": []
  }
 ],
 "metadata": {
  "kernelspec": {
   "display_name": "Python 3",
   "language": "python",
   "name": "python3"
  },
  "language_info": {
   "codemirror_mode": {
    "name": "ipython",
    "version": 3
   },
   "file_extension": ".py",
   "mimetype": "text/x-python",
   "name": "python",
   "nbconvert_exporter": "python",
   "pygments_lexer": "ipython3",
   "version": "3.10.4"
  }
 },
 "nbformat": 4,
 "nbformat_minor": 2
}
