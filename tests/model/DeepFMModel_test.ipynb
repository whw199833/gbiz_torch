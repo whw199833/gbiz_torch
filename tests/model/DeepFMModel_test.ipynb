{
 "cells": [
  {
   "cell_type": "code",
   "execution_count": 2,
   "metadata": {},
   "outputs": [],
   "source": [
    "import torch \n",
    "import torch.nn as nn\n",
    "from gbiz_torch.model import DeepFMModel"
   ]
  },
  {
   "cell_type": "code",
   "execution_count": 3,
   "metadata": {},
   "outputs": [
    {
     "data": {
      "text/plain": [
       "torch.Size([8, 3, 5])"
      ]
     },
     "execution_count": 3,
     "metadata": {},
     "output_type": "execute_result"
    }
   ],
   "source": [
    "test_1 = torch.randn(8, 1, 5)\n",
    "test_2 = torch.randn(8, 1, 5)\n",
    "test_3 = torch.randn(8, 1, 5)\n",
    "\n",
    "test_input = torch.cat([test_1, test_2, test_3], dim=1)\n",
    "test_input.shape"
   ]
  },
  {
   "cell_type": "markdown",
   "metadata": {},
   "source": [
    "### keep_fm_dim"
   ]
  },
  {
   "cell_type": "code",
   "execution_count": 4,
   "metadata": {},
   "outputs": [
    {
     "name": "stdout",
     "output_type": "stream",
     "text": [
      "test_input.shape is torch.Size([8, 3, 5])\n",
      "test_output.shape is torch.Size([8, 6])\n",
      "test_output is tensor([[ 0.3343, -1.6227,  3.4026, -0.9116, -0.9780,  0.0000],\n",
      "        [ 4.3470,  0.4635, -1.8521, -4.8237,  0.2455,  0.0000],\n",
      "        [ 0.4630, -0.5267,  0.3790, -1.1132, -1.4503,  0.0359],\n",
      "        [10.7738,  2.7326, -0.6533, -0.5838, -2.8045,  0.0000],\n",
      "        [-0.3449,  1.7069,  1.7193,  2.2627, -5.3259,  0.0000],\n",
      "        [ 1.2508,  8.1871, -0.1497, -1.2032,  0.6966,  0.1316],\n",
      "        [ 1.3901,  0.2159,  0.3362, -1.5457, -1.8982,  1.2462],\n",
      "        [ 6.8507,  1.5897,  0.1635,  4.7843,  4.1784,  0.1519]],\n",
      "       grad_fn=<CatBackward0>)\n"
     ]
    }
   ],
   "source": [
    "print(f\"test_input.shape is {test_input.shape}\")\n",
    "DeepFM_Model = DeepFMModel(keep_fm_dim=True, in_shape=test_input.shape[1]*test_input.shape[2], hidden_units=[10, 4, 1])\n",
    "\n",
    "test_output = DeepFM_Model(test_input)\n",
    "\n",
    "print(f\"test_output.shape is {test_output.shape}\")\n",
    "print(f\"test_output is {test_output}\")"
   ]
  },
  {
   "cell_type": "markdown",
   "metadata": {},
   "source": [
    "### do not keep fm dim"
   ]
  },
  {
   "cell_type": "code",
   "execution_count": 5,
   "metadata": {},
   "outputs": [
    {
     "name": "stdout",
     "output_type": "stream",
     "text": [
      "test_input.shape is torch.Size([8, 3, 5])\n",
      "test_output.shape is torch.Size([8, 2])\n",
      "test_output is tensor([[ 2.2448e-01,  1.3888e-04],\n",
      "        [-1.6198e+00,  2.3737e-01],\n",
      "        [-2.2482e+00,  3.5227e-01],\n",
      "        [ 9.4648e+00,  2.6714e-01],\n",
      "        [ 1.8155e-02,  0.0000e+00],\n",
      "        [ 8.7815e+00,  3.7596e-01],\n",
      "        [-1.5016e+00,  0.0000e+00],\n",
      "        [ 1.7567e+01,  0.0000e+00]], grad_fn=<CatBackward0>)\n"
     ]
    }
   ],
   "source": [
    "print(f\"test_input.shape is {test_input.shape}\")\n",
    "DeepFM_Model = DeepFMModel(keep_fm_dim=False, in_shape=test_input.shape[1]*test_input.shape[2], hidden_units=[10, 4, 1])\n",
    "\n",
    "test_output = DeepFM_Model(test_input)\n",
    "\n",
    "print(f\"test_output.shape is {test_output.shape}\")\n",
    "print(f\"test_output is {test_output}\")"
   ]
  },
  {
   "cell_type": "code",
   "execution_count": 6,
   "metadata": {},
   "outputs": [
    {
     "data": {
      "text/plain": [
       "gbiz_algo_torch.model.deepfm.DeepFMModel"
      ]
     },
     "execution_count": 6,
     "metadata": {},
     "output_type": "execute_result"
    }
   ],
   "source": [
    "DeepFMModel"
   ]
  },
  {
   "cell_type": "code",
   "execution_count": null,
   "metadata": {},
   "outputs": [],
   "source": []
  }
 ],
 "metadata": {
  "kernelspec": {
   "display_name": "Python 3",
   "language": "python",
   "name": "python3"
  },
  "language_info": {
   "codemirror_mode": {
    "name": "ipython",
    "version": 3
   },
   "file_extension": ".py",
   "mimetype": "text/x-python",
   "name": "python",
   "nbconvert_exporter": "python",
   "pygments_lexer": "ipython3",
   "version": "3.10.4"
  }
 },
 "nbformat": 4,
 "nbformat_minor": 2
}
