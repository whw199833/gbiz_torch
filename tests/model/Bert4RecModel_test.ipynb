{
 "cells": [
  {
   "cell_type": "code",
   "execution_count": 2,
   "metadata": {},
   "outputs": [],
   "source": [
    "import torch \n",
    "import torch.nn as nn\n",
    "import torch.nn.functional as F\n",
    "from gbiz_torch.model import Bert4RecModel"
   ]
  },
  {
   "cell_type": "code",
   "execution_count": 3,
   "metadata": {},
   "outputs": [
    {
     "data": {
      "text/plain": [
       "torch.Size([8, 3, 6])"
      ]
     },
     "execution_count": 3,
     "metadata": {},
     "output_type": "execute_result"
    }
   ],
   "source": [
    "test_input = torch.randint(0, 2, (8, 3))\n",
    "# padding_idx = 0\n",
    "embedding = nn.Embedding(2, 6)\n",
    "test_input = embedding(test_input)\n",
    "test_input.shape"
   ]
  },
  {
   "cell_type": "markdown",
   "metadata": {},
   "source": [
    "### without context emb"
   ]
  },
  {
   "cell_type": "code",
   "execution_count": 4,
   "metadata": {},
   "outputs": [
    {
     "name": "stdout",
     "output_type": "stream",
     "text": [
      "test_output.shape is torch.Size([8, 1])\n",
      "test_output is tensor([[1.5207],\n",
      "        [1.1248],\n",
      "        [1.5207],\n",
      "        [1.9357],\n",
      "        [2.5999],\n",
      "        [1.5207],\n",
      "        [2.5999],\n",
      "        [2.5999]], grad_fn=<AddmmBackward0>)\n"
     ]
    }
   ],
   "source": [
    "# print(f\"test_input.shape is {test_input.shape}\")\n",
    "## n_inputs: n_fields\n",
    "## in_shape: emb_dim\n",
    "(bz, length, dim)= test_input.shape\n",
    "\n",
    "Bert4Rec_Model = Bert4RecModel(in_shape=dim, hidden_units=dim, heads=2, input_length=3, projection_in_shape=length*dim)\n",
    "test_output = Bert4Rec_Model(test_input)\n",
    "\n",
    "print(f\"test_output.shape is {test_output.shape}\")\n",
    "print(f\"test_output is {test_output}\")"
   ]
  },
  {
   "cell_type": "markdown",
   "metadata": {},
   "source": [
    "### with context emb"
   ]
  },
  {
   "cell_type": "code",
   "execution_count": 5,
   "metadata": {},
   "outputs": [
    {
     "name": "stdout",
     "output_type": "stream",
     "text": [
      "test_output.shape is torch.Size([8, 1])\n",
      "test_output is tensor([[-0.0122],\n",
      "        [-0.1026],\n",
      "        [ 0.1674],\n",
      "        [ 0.8923],\n",
      "        [ 0.1093],\n",
      "        [ 0.1245],\n",
      "        [ 0.0801],\n",
      "        [ 0.1445]], grad_fn=<AddmmBackward0>)\n"
     ]
    }
   ],
   "source": [
    "# print(f\"test_input.shape is {test_input.shape}\")\n",
    "## n_inputs: n_fields\n",
    "## in_shape: emb_dim\n",
    "\n",
    "context_input = torch.randn(8, 5)\n",
    "(bz, length, dim) = test_input.shape\n",
    "(bz_c, dim_c) = context_input.shape\n",
    "\n",
    "\n",
    "\n",
    "Bert4Rec_Model = Bert4RecModel(in_shape=dim, hidden_units=dim, heads=2, input_length=3, projection_in_shape=length*dim+dim_c)\n",
    "test_output = Bert4Rec_Model(inputs=test_input, extra_input=context_input)\n",
    "\n",
    "print(f\"test_output.shape is {test_output.shape}\")\n",
    "print(f\"test_output is {test_output}\")"
   ]
  },
  {
   "cell_type": "code",
   "execution_count": null,
   "metadata": {},
   "outputs": [],
   "source": []
  }
 ],
 "metadata": {
  "kernelspec": {
   "display_name": "Python 3",
   "language": "python",
   "name": "python3"
  },
  "language_info": {
   "codemirror_mode": {
    "name": "ipython",
    "version": 3
   },
   "file_extension": ".py",
   "mimetype": "text/x-python",
   "name": "python",
   "nbconvert_exporter": "python",
   "pygments_lexer": "ipython3",
   "version": "3.10.4"
  }
 },
 "nbformat": 4,
 "nbformat_minor": 2
}
