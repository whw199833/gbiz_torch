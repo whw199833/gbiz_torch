{
 "cells": [
  {
   "cell_type": "code",
   "execution_count": 2,
   "metadata": {},
   "outputs": [],
   "source": [
    "import torch \n",
    "import torch.nn as nn\n",
    "import torch.nn.functional as F\n",
    "from gbiz_torch.model import GRU4RecModel"
   ]
  },
  {
   "cell_type": "code",
   "execution_count": 3,
   "metadata": {},
   "outputs": [
    {
     "data": {
      "text/plain": [
       "torch.Size([8, 3, 6])"
      ]
     },
     "execution_count": 3,
     "metadata": {},
     "output_type": "execute_result"
    }
   ],
   "source": [
    "test_input = torch.randint(0, 4, (8, 3))\n",
    "# padding_idx = 0\n",
    "embedding = nn.Embedding(4, 6)\n",
    "test_input = embedding(test_input)\n",
    "test_input.shape"
   ]
  },
  {
   "cell_type": "markdown",
   "metadata": {},
   "source": [
    "### without context emb"
   ]
  },
  {
   "cell_type": "code",
   "execution_count": 4,
   "metadata": {},
   "outputs": [
    {
     "name": "stdout",
     "output_type": "stream",
     "text": [
      "test_output.shape is torch.Size([8, 1])\n",
      "test_output is tensor([[-0.6562],\n",
      "        [-0.6098],\n",
      "        [-1.2522],\n",
      "        [-1.4294],\n",
      "        [-1.1401],\n",
      "        [-1.0083],\n",
      "        [-1.0874],\n",
      "        [-0.7586]], grad_fn=<AddmmBackward0>)\n"
     ]
    },
    {
     "name": "stderr",
     "output_type": "stream",
     "text": [
      "/Library/Frameworks/Python.framework/Versions/3.10/lib/python3.10/site-packages/torch/nn/functional.py:1949: UserWarning: nn.functional.tanh is deprecated. Use torch.tanh instead.\n",
      "  warnings.warn(\"nn.functional.tanh is deprecated. Use torch.tanh instead.\")\n"
     ]
    }
   ],
   "source": [
    "# print(f\"test_input.shape is {test_input.shape}\")\n",
    "## n_inputs: n_fields\n",
    "## in_shape: emb_dim\n",
    "(bz, length, dim)= test_input.shape\n",
    "rnn_out = dim//2\n",
    "projection_in_shape = rnn_out*length\n",
    "\n",
    "GRU4Rec_Model = GRU4RecModel(in_shape=dim, rnn_unit=rnn_out, projection_in_shape=projection_in_shape)\n",
    "test_output = GRU4Rec_Model(test_input)\n",
    "\n",
    "print(f\"test_output.shape is {test_output.shape}\")\n",
    "print(f\"test_output is {test_output}\")"
   ]
  },
  {
   "cell_type": "markdown",
   "metadata": {},
   "source": [
    "### with context emb"
   ]
  },
  {
   "cell_type": "code",
   "execution_count": 5,
   "metadata": {},
   "outputs": [
    {
     "name": "stdout",
     "output_type": "stream",
     "text": [
      "test_output.shape is torch.Size([8, 1])\n",
      "test_output is tensor([[ 0.3212],\n",
      "        [ 0.3601],\n",
      "        [ 1.0478],\n",
      "        [ 0.2260],\n",
      "        [ 0.6733],\n",
      "        [-0.2709],\n",
      "        [ 0.5594],\n",
      "        [ 0.0626]], grad_fn=<AddmmBackward0>)\n"
     ]
    }
   ],
   "source": [
    "# print(f\"test_input.shape is {test_input.shape}\")\n",
    "## n_inputs: n_fields\n",
    "## in_shape: emb_dim\n",
    "\n",
    "context_input = torch.randn(8, 5)\n",
    "(bz, length, dim) = test_input.shape\n",
    "(bz_c, dim_c) = context_input.shape\n",
    "\n",
    "rnn_out = dim//2\n",
    "projection_in_shape = rnn_out*length+dim_c\n",
    "\n",
    "\n",
    "GRU4Rec_Model = GRU4RecModel(in_shape=dim, rnn_unit=rnn_out, projection_in_shape=projection_in_shape)\n",
    "test_output = GRU4Rec_Model(inputs=test_input, extra_input=context_input)\n",
    "\n",
    "print(f\"test_output.shape is {test_output.shape}\")\n",
    "print(f\"test_output is {test_output}\")"
   ]
  },
  {
   "cell_type": "code",
   "execution_count": null,
   "metadata": {},
   "outputs": [],
   "source": []
  }
 ],
 "metadata": {
  "kernelspec": {
   "display_name": "Python 3",
   "language": "python",
   "name": "python3"
  },
  "language_info": {
   "codemirror_mode": {
    "name": "ipython",
    "version": 3
   },
   "file_extension": ".py",
   "mimetype": "text/x-python",
   "name": "python",
   "nbconvert_exporter": "python",
   "pygments_lexer": "ipython3",
   "version": "3.10.4"
  }
 },
 "nbformat": 4,
 "nbformat_minor": 2
}
