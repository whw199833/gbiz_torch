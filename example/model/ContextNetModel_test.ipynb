{
 "cells": [
  {
   "cell_type": "code",
   "execution_count": 3,
   "metadata": {},
   "outputs": [],
   "source": [
    "import torch \n",
    "import torch.nn as nn\n",
    "from gbiz_torch.model import ContextNetModel"
   ]
  },
  {
   "cell_type": "code",
   "execution_count": 4,
   "metadata": {},
   "outputs": [],
   "source": [
    "test_input1 = torch.randn((8, 1, 3))\n",
    "test_input2 = torch.randn((8, 1, 3))\n",
    "test_input3 = torch.randn((8, 1, 3))\n",
    "test_input = torch.cat([test_input1, test_input2, test_input3], dim=1)"
   ]
  },
  {
   "cell_type": "markdown",
   "metadata": {},
   "source": [
    "### without extra input"
   ]
  },
  {
   "cell_type": "code",
   "execution_count": 5,
   "metadata": {},
   "outputs": [
    {
     "name": "stdout",
     "output_type": "stream",
     "text": [
      "torch.Size([8, 1])\n"
     ]
    }
   ],
   "source": [
    "# print(f\"test_input is {test_input}\")\n",
    "(bz, field_num, dim) = test_input.shape\n",
    "projection_in_shape=field_num*dim\n",
    "fields=field_num\n",
    "in_shape=dim\n",
    "\n",
    "ContextNet_Model = ContextNetModel(fields=fields, in_shape=in_shape, projection_in_shape=projection_in_shape)\n",
    "test_output = ContextNet_Model(test_input)\n",
    "\n",
    "print(test_output.shape)\n",
    "# print(f\"test_output is {test_output}\")"
   ]
  },
  {
   "cell_type": "markdown",
   "metadata": {},
   "source": [
    "### with extra input"
   ]
  },
  {
   "cell_type": "code",
   "execution_count": 6,
   "metadata": {},
   "outputs": [
    {
     "name": "stdout",
     "output_type": "stream",
     "text": [
      "torch.Size([8, 1])\n"
     ]
    }
   ],
   "source": [
    "# print(f\"test_input is {test_input}\")\n",
    "extra_input = torch.randn(8, 2)\n",
    "(bz, ex_dim) = extra_input.shape\n",
    "\n",
    "(bz, field_num, dim) = test_input.shape\n",
    "projection_in_shape=field_num*dim+ex_dim\n",
    "fields=field_num\n",
    "in_shape=dim\n",
    "\n",
    "ContextNet_Model = ContextNetModel(fields=fields, in_shape=in_shape, projection_in_shape=projection_in_shape)\n",
    "test_output = ContextNet_Model(test_input,extra_input)\n",
    "\n",
    "print(test_output.shape)\n",
    "# print(f\"test_output is {test_output}\")"
   ]
  },
  {
   "cell_type": "code",
   "execution_count": 7,
   "metadata": {},
   "outputs": [
    {
     "data": {
      "text/plain": [
       "ContextNetModel(\n",
       "  (contextnet_block_layer): ContextNetBlockLayer(\n",
       "    (excite_layer): Linear(in_features=3, out_features=32, bias=True)\n",
       "    (se_layer): Linear(in_features=96, out_features=9, bias=True)\n",
       "    (contextnet_layers): ModuleList(\n",
       "      (0): Linear(in_features=3, out_features=3, bias=True)\n",
       "    )\n",
       "    (ln_layers): ModuleList(\n",
       "      (0): LayerNorm((3,), eps=1e-05, elementwise_affine=True)\n",
       "    )\n",
       "  )\n",
       "  (dnn_layer): DNNLayer(\n",
       "    (linear_layers): ModuleList(\n",
       "      (0): Linear(in_features=11, out_features=4, bias=True)\n",
       "      (1): Linear(in_features=4, out_features=1, bias=True)\n",
       "    )\n",
       "    (act_layers): ModuleList(\n",
       "      (0): ReLU()\n",
       "      (1): ReLU()\n",
       "    )\n",
       "  )\n",
       ")"
      ]
     },
     "execution_count": 7,
     "metadata": {},
     "output_type": "execute_result"
    }
   ],
   "source": [
    "ContextNet_Model"
   ]
  },
  {
   "cell_type": "code",
   "execution_count": null,
   "metadata": {},
   "outputs": [],
   "source": []
  }
 ],
 "metadata": {
  "kernelspec": {
   "display_name": "Python 3",
   "language": "python",
   "name": "python3"
  },
  "language_info": {
   "codemirror_mode": {
    "name": "ipython",
    "version": 3
   },
   "file_extension": ".py",
   "mimetype": "text/x-python",
   "name": "python",
   "nbconvert_exporter": "python",
   "pygments_lexer": "ipython3",
   "version": "3.10.4"
  }
 },
 "nbformat": 4,
 "nbformat_minor": 2
}
