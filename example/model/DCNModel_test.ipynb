{
 "cells": [
  {
   "cell_type": "code",
   "execution_count": 2,
   "metadata": {},
   "outputs": [],
   "source": [
    "import torch \n",
    "import torch.nn as nn\n",
    "from gbiz_torch.model import DCNModel"
   ]
  },
  {
   "cell_type": "code",
   "execution_count": 3,
   "metadata": {},
   "outputs": [],
   "source": [
    "test_input = torch.randn(4, 5)\n",
    "# padding_idx = 0\n",
    "# embedding = nn.Embedding(10, 3, padding_idx=padding_idx)\n",
    "# seq_emb_input = embedding(test_input)"
   ]
  },
  {
   "cell_type": "code",
   "execution_count": 4,
   "metadata": {},
   "outputs": [
    {
     "name": "stdout",
     "output_type": "stream",
     "text": [
      "test_input.shape is torch.Size([4, 5])\n",
      "test_output.shape is torch.Size([4, 6])\n",
      "test_output is tensor([[ 0.3785, -1.2632,  0.5107,  1.9564, -0.9542,  0.4330],\n",
      "        [ 0.0268,  1.0357, -0.1228,  0.0037, -0.0668,  0.7166],\n",
      "        [-0.3796, -1.4413,  1.9274,  0.0448,  0.7597,  0.4330],\n",
      "        [-0.1311,  0.2007, -0.4301,  0.0983,  0.4881,  0.4330]],\n",
      "       grad_fn=<CatBackward0>)\n"
     ]
    }
   ],
   "source": [
    "print(f\"test_input.shape is {test_input.shape}\")\n",
    "\n",
    "(bz, dim) = test_input.shape\n",
    "DCN_model = DCNModel(in_shape=dim, hidden_units=[dim//2, 1])\n",
    "\n",
    "test_output = DCN_model(test_input)\n",
    "\n",
    "print(f\"test_output.shape is {test_output.shape}\")\n",
    "print(f\"test_output is {test_output}\")"
   ]
  },
  {
   "cell_type": "code",
   "execution_count": 5,
   "metadata": {},
   "outputs": [
    {
     "data": {
      "text/plain": [
       "CrossLayer()"
      ]
     },
     "execution_count": 5,
     "metadata": {},
     "output_type": "execute_result"
    }
   ],
   "source": [
    "Cross_layer"
   ]
  },
  {
   "cell_type": "code",
   "execution_count": null,
   "metadata": {},
   "outputs": [],
   "source": []
  }
 ],
 "metadata": {
  "kernelspec": {
   "display_name": "Python 3",
   "language": "python",
   "name": "python3"
  },
  "language_info": {
   "codemirror_mode": {
    "name": "ipython",
    "version": 3
   },
   "file_extension": ".py",
   "mimetype": "text/x-python",
   "name": "python",
   "nbconvert_exporter": "python",
   "pygments_lexer": "ipython3",
   "version": "3.10.4"
  }
 },
 "nbformat": 4,
 "nbformat_minor": 2
}
