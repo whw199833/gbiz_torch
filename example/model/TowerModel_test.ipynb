{
 "cells": [
  {
   "cell_type": "code",
   "execution_count": 2,
   "metadata": {},
   "outputs": [],
   "source": [
    "import torch \n",
    "from gbiz_torch.model import TowerModel"
   ]
  },
  {
   "cell_type": "code",
   "execution_count": 5,
   "metadata": {},
   "outputs": [
    {
     "name": "stdout",
     "output_type": "stream",
     "text": [
      "torch.Size([8, 1])\n",
      "test_output is tensor([[-0.0520],\n",
      "        [-0.0844],\n",
      "        [-0.0220],\n",
      "        [ 0.1068],\n",
      "        [ 0.0301],\n",
      "        [-0.0093],\n",
      "        [-0.0395],\n",
      "        [-0.0141]], grad_fn=<ReshapeAliasBackward0>)\n"
     ]
    }
   ],
   "source": [
    "user_input = torch.randn((8, 2))\n",
    "item_input = torch.randn((8, 3))\n",
    "test_input = [user_input, item_input]\n",
    "\n",
    "in_shape_list = [user_input.shape[-1], item_input.shape[-1]]\n",
    "\n",
    "Tower_Model = TowerModel(in_shape_list=in_shape_list, user_hidden_units=[10, 8, 2], item_hidden_units=[5, 2])\n",
    "\n",
    "test_output = Tower_Model(test_input)\n",
    "\n",
    "print(test_output.shape)\n",
    "print(f\"test_output is {test_output}\")"
   ]
  },
  {
   "cell_type": "code",
   "execution_count": 6,
   "metadata": {},
   "outputs": [
    {
     "data": {
      "text/plain": [
       "TowerModel(\n",
       "  (user_tower): DNNLayer(\n",
       "    (linear_layers): ModuleList(\n",
       "      (0): Linear(in_features=2, out_features=10, bias=True)\n",
       "      (1): Linear(in_features=10, out_features=8, bias=True)\n",
       "      (2): Linear(in_features=8, out_features=2, bias=True)\n",
       "    )\n",
       "    (act_layers): ModuleList(\n",
       "      (0): ReLU()\n",
       "      (1): ReLU()\n",
       "      (2): ReLU()\n",
       "    )\n",
       "  )\n",
       "  (item_tower): DNNLayer(\n",
       "    (linear_layers): ModuleList(\n",
       "      (0): Linear(in_features=3, out_features=5, bias=True)\n",
       "      (1): Linear(in_features=5, out_features=2, bias=True)\n",
       "    )\n",
       "    (act_layers): ModuleList(\n",
       "      (0): ReLU()\n",
       "      (1): ReLU()\n",
       "    )\n",
       "  )\n",
       "  (user_last_layer): Linear(in_features=8, out_features=2, bias=True)\n",
       "  (item_last_layer): Linear(in_features=5, out_features=2, bias=True)\n",
       ")"
      ]
     },
     "execution_count": 6,
     "metadata": {},
     "output_type": "execute_result"
    }
   ],
   "source": [
    "Tower_Model"
   ]
  },
  {
   "cell_type": "code",
   "execution_count": null,
   "metadata": {},
   "outputs": [],
   "source": []
  }
 ],
 "metadata": {
  "kernelspec": {
   "display_name": "Python 3",
   "language": "python",
   "name": "python3"
  },
  "language_info": {
   "codemirror_mode": {
    "name": "ipython",
    "version": 3
   },
   "file_extension": ".py",
   "mimetype": "text/x-python",
   "name": "python",
   "nbconvert_exporter": "python",
   "pygments_lexer": "ipython3",
   "version": "3.10.4"
  }
 },
 "nbformat": 4,
 "nbformat_minor": 2
}
