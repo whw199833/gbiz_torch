{
 "cells": [
  {
   "cell_type": "code",
   "execution_count": 3,
   "metadata": {},
   "outputs": [],
   "source": [
    "import torch \n",
    "import torch.nn as nn\n",
    "from gbiz_torch.model import CrossSharingModel"
   ]
  },
  {
   "cell_type": "code",
   "execution_count": 4,
   "metadata": {},
   "outputs": [],
   "source": [
    "test_input = torch.randn(4, 5)\n",
    "# padding_idx = 0\n",
    "# embedding = nn.Embedding(10, 3, padding_idx=padding_idx)\n",
    "# seq_emb_input = embedding(test_input)"
   ]
  },
  {
   "cell_type": "code",
   "execution_count": 5,
   "metadata": {},
   "outputs": [
    {
     "name": "stdout",
     "output_type": "stream",
     "text": [
      "test_input.shape is torch.Size([4, 5])\n",
      "test_output.shape is 2\n",
      "test_output is [tensor([[ 0.1117],\n",
      "        [ 0.0178],\n",
      "        [-0.0393],\n",
      "        [ 0.1298]], grad_fn=<AddmmBackward0>), tensor([[ 0.1478, -0.2280],\n",
      "        [ 0.1461,  0.1555],\n",
      "        [-0.2865,  0.8435],\n",
      "        [ 0.3293,  0.0317]], grad_fn=<AddmmBackward0>)]\n"
     ]
    }
   ],
   "source": [
    "print(f\"test_input.shape is {test_input.shape}\")\n",
    "\n",
    "(bz, dim) = test_input.shape\n",
    "CSMTL_model = CrossSharingModel(in_shape=dim, dcn_hidden_units=[dim//2], task_hidden_units=[[1], [2]])\n",
    "\n",
    "test_output = CSMTL_model(test_input)\n",
    "\n",
    "print(f\"test_output.shape is {len(test_output)}\")\n",
    "print(f\"test_output is {test_output}\")"
   ]
  },
  {
   "cell_type": "code",
   "execution_count": 6,
   "metadata": {},
   "outputs": [
    {
     "data": {
      "text/plain": [
       "gbiz_torch.model.cross_sharing_mtl.CrossSharingModel"
      ]
     },
     "execution_count": 6,
     "metadata": {},
     "output_type": "execute_result"
    }
   ],
   "source": [
    "CrossSharingModel"
   ]
  },
  {
   "cell_type": "code",
   "execution_count": null,
   "metadata": {},
   "outputs": [],
   "source": []
  }
 ],
 "metadata": {
  "kernelspec": {
   "display_name": "Python 3",
   "language": "python",
   "name": "python3"
  },
  "language_info": {
   "codemirror_mode": {
    "name": "ipython",
    "version": 3
   },
   "file_extension": ".py",
   "mimetype": "text/x-python",
   "name": "python",
   "nbconvert_exporter": "python",
   "pygments_lexer": "ipython3",
   "version": "3.10.4"
  }
 },
 "nbformat": 4,
 "nbformat_minor": 2
}
