{
 "cells": [
  {
   "cell_type": "code",
   "execution_count": 4,
   "metadata": {},
   "outputs": [],
   "source": [
    "import torch \n",
    "from gbiz_torch.model import HardSharingModel"
   ]
  },
  {
   "cell_type": "code",
   "execution_count": 7,
   "metadata": {},
   "outputs": [
    {
     "name": "stdout",
     "output_type": "stream",
     "text": [
      "test_output is [tensor([[0.],\n",
      "        [0.],\n",
      "        [0.],\n",
      "        [0.],\n",
      "        [0.],\n",
      "        [0.],\n",
      "        [0.],\n",
      "        [0.]], grad_fn=<ReluBackward0>), tensor([[0.1765, 0.3307],\n",
      "        [0.3084, 0.3801],\n",
      "        [0.3204, 0.4510],\n",
      "        [0.0000, 0.6112],\n",
      "        [0.2911, 0.6339],\n",
      "        [0.2390, 0.2742],\n",
      "        [0.0290, 0.3131],\n",
      "        [0.2667, 0.4840]], grad_fn=<ReluBackward0>), tensor([[0.3174],\n",
      "        [0.1912],\n",
      "        [0.1776],\n",
      "        [0.3560],\n",
      "        [0.2556],\n",
      "        [0.1341],\n",
      "        [0.2718],\n",
      "        [0.5605]], grad_fn=<ReluBackward0>)]\n"
     ]
    }
   ],
   "source": [
    "test_input = torch.randn((8, 5))\n",
    "# print(f\"test_input is {test_input}\")\n",
    "HDS_layer = HardSharingModel(in_shape=test_input.shape[-1], sharing_hidden_units=[100, 50], task_hidden_units=[[10,1], [5,2], [20,1]])\n",
    "\n",
    "test_output = HDS_layer(test_input)\n",
    "\n",
    "# print(test_output.shape)\n",
    "print(f\"test_output is {test_output}\")"
   ]
  },
  {
   "cell_type": "code",
   "execution_count": 8,
   "metadata": {},
   "outputs": [
    {
     "data": {
      "text/plain": [
       "gbiz_torch.model.hard_sharing_mtl.HardSharingModel"
      ]
     },
     "execution_count": 8,
     "metadata": {},
     "output_type": "execute_result"
    }
   ],
   "source": [
    "HardSharingModel"
   ]
  },
  {
   "cell_type": "code",
   "execution_count": null,
   "metadata": {},
   "outputs": [],
   "source": []
  }
 ],
 "metadata": {
  "kernelspec": {
   "display_name": "Python 3",
   "language": "python",
   "name": "python3"
  },
  "language_info": {
   "codemirror_mode": {
    "name": "ipython",
    "version": 3
   },
   "file_extension": ".py",
   "mimetype": "text/x-python",
   "name": "python",
   "nbconvert_exporter": "python",
   "pygments_lexer": "ipython3",
   "version": "3.10.4"
  }
 },
 "nbformat": 4,
 "nbformat_minor": 2
}
