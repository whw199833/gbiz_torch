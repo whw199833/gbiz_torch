{
 "cells": [
  {
   "cell_type": "code",
   "execution_count": 7,
   "metadata": {},
   "outputs": [],
   "source": [
    "import torch \n",
    "from gbiz_torch.model import WndModel"
   ]
  },
  {
   "cell_type": "code",
   "execution_count": 5,
   "metadata": {},
   "outputs": [
    {
     "name": "stdout",
     "output_type": "stream",
     "text": [
      "deep_input is tensor([[ 2.0484, -0.0416,  0.3026, -1.5507, -1.0895],\n",
      "        [-0.5526,  1.2749,  0.9918, -0.1760, -0.3472],\n",
      "        [ 0.6037,  1.5880,  1.3555, -0.8756, -0.3496],\n",
      "        [ 0.0106, -1.2303, -0.0875, -0.5469,  0.1071],\n",
      "        [ 1.4726,  1.2914,  1.3885,  0.0776, -0.2793],\n",
      "        [ 0.1830, -0.7436,  1.2426,  0.3430,  0.8333],\n",
      "        [ 0.3931, -1.9420,  0.9897,  1.3671, -0.1130],\n",
      "        [-1.1202, -2.1053,  0.4377, -1.1692, -0.7578]])\n",
      "torch.Size([8, 12])\n",
      "test_output is tensor([[ 0.0000,  0.0000,  1.5677, -0.4439, -0.5804,  0.1625,  0.7263, -1.8861,\n",
      "         -0.5324,  0.2741,  1.1224, -0.0367],\n",
      "        [ 1.3476,  0.0000,  0.8437,  0.7637, -1.1559,  0.3442,  0.7046,  1.2815,\n",
      "          0.1830,  1.0517, -1.7332, -0.6965],\n",
      "        [ 0.0000,  0.0000, -0.3803, -0.8101, -0.3630,  1.0648, -3.4411,  0.6475,\n",
      "          2.2213, -0.9175,  0.1496, -0.8679],\n",
      "        [ 0.0000,  0.0000,  1.0994,  0.8847, -0.6335,  0.1371, -0.7466,  0.2000,\n",
      "          0.8166,  1.0165, -1.2822, -0.2947],\n",
      "        [ 0.0000,  0.0000,  1.6158, -0.7200, -0.0368,  2.5386,  0.0045,  0.4874,\n",
      "         -1.4081, -1.2113, -0.1229,  0.1926],\n",
      "        [ 1.8900,  2.1856,  0.0426, -0.0571,  0.0771,  0.8670,  0.4273,  0.3284,\n",
      "         -0.2847,  1.8231,  0.1100,  1.7459],\n",
      "        [ 0.0000,  0.7834, -0.2113,  1.1020,  1.1534,  1.4476,  3.2305, -0.0188,\n",
      "         -0.3062, -0.0390, -0.2410,  0.6311],\n",
      "        [ 0.0000,  0.0000, -1.3216,  0.8800, -0.1279, -0.2810, -0.2525,  0.4986,\n",
      "          0.9968, -1.4609,  2.3161,  0.7799]], grad_fn=<CatBackward0>)\n"
     ]
    }
   ],
   "source": [
    "deep_input = torch.randn((8, 5))\n",
    "wide_input = torch.randn((8, 10))\n",
    "print(f\"deep_input is {deep_input}\")\n",
    "dnn_layer = WndModel(in_shape=deep_input.shape[-1], hidden_units=[10, 8, 2], use_bn=True, l2_reg=0.9)\n",
    "\n",
    "test_output = dnn_layer(deep_input, extra_input=wide_input)\n",
    "\n",
    "print(test_output.shape)\n",
    "print(f\"test_output is {test_output}\")"
   ]
  },
  {
   "cell_type": "code",
   "execution_count": 12,
   "metadata": {},
   "outputs": [
    {
     "data": {
      "text/plain": [
       "DNNLayer(\n",
       "  (linear_layers): ModuleList(\n",
       "    (0): Linear(in_features=5, out_features=10, bias=True)\n",
       "    (1): Linear(in_features=10, out_features=8, bias=True)\n",
       "    (2): Linear(in_features=8, out_features=1, bias=True)\n",
       "  )\n",
       "  (act_layers): ModuleList(\n",
       "    (0): LeakyReLU(negative_slope=0.01)\n",
       "    (1): LeakyReLU(negative_slope=0.01)\n",
       "    (2): LeakyReLU(negative_slope=0.01)\n",
       "  )\n",
       "  (bn_layers): ModuleList(\n",
       "    (0): BatchNorm1d(10, eps=1e-05, momentum=0.1, affine=True, track_running_stats=True)\n",
       "    (1): BatchNorm1d(8, eps=1e-05, momentum=0.1, affine=True, track_running_stats=True)\n",
       "    (2): BatchNorm1d(1, eps=1e-05, momentum=0.1, affine=True, track_running_stats=True)\n",
       "  )\n",
       "  (dropout_layers): ModuleList(\n",
       "    (0): Dropout(p=0.3, inplace=False)\n",
       "    (1): Dropout(p=0.3, inplace=False)\n",
       "    (2): Dropout(p=0.3, inplace=False)\n",
       "  )\n",
       ")"
      ]
     },
     "execution_count": 12,
     "metadata": {},
     "output_type": "execute_result"
    }
   ],
   "source": [
    "dnn_layer"
   ]
  },
  {
   "cell_type": "code",
   "execution_count": null,
   "metadata": {},
   "outputs": [],
   "source": []
  }
 ],
 "metadata": {
  "kernelspec": {
   "display_name": "Python 3",
   "language": "python",
   "name": "python3"
  },
  "language_info": {
   "codemirror_mode": {
    "name": "ipython",
    "version": 3
   },
   "file_extension": ".py",
   "mimetype": "text/x-python",
   "name": "python",
   "nbconvert_exporter": "python",
   "pygments_lexer": "ipython3",
   "version": "3.10.4"
  }
 },
 "nbformat": 4,
 "nbformat_minor": 2
}
