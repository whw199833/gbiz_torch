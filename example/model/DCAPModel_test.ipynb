{
 "cells": [
  {
   "cell_type": "code",
   "execution_count": 8,
   "metadata": {},
   "outputs": [],
   "source": [
    "import torch \n",
    "import torch.nn as nn\n",
    "import numpy as np\n",
    "from gbiz_torch.model import DCAPModel"
   ]
  },
  {
   "cell_type": "markdown",
   "metadata": {},
   "source": [
    "### without extra input"
   ]
  },
  {
   "cell_type": "code",
   "execution_count": 9,
   "metadata": {},
   "outputs": [],
   "source": [
    "test_input = torch.randint(0, 3, (8, 5))\n",
    "get_emb = nn.Embedding(3, 16)\n",
    "test_input = get_emb(test_input)\n",
    "(bz, seq_length, dim) = test_input.shape\n"
   ]
  },
  {
   "cell_type": "code",
   "execution_count": 10,
   "metadata": {},
   "outputs": [
    {
     "name": "stdout",
     "output_type": "stream",
     "text": [
      "torch.Size([8, 1])\n",
      "test_output is tensor([[-0.5400],\n",
      "        [-1.0199],\n",
      "        [-0.8487],\n",
      "        [-0.8690],\n",
      "        [-1.0882],\n",
      "        [-1.3934],\n",
      "        [-0.9558],\n",
      "        [-0.0000]], grad_fn=<MulBackward0>)\n"
     ]
    }
   ],
   "source": [
    "fields = 4\n",
    "projection_in_shape = sum(np.arange(fields))\n",
    "\n",
    "DCAP_Model = DCAPModel(fields=fields, in_shape=dim, projection_in_shape=projection_in_shape)\n",
    "\n",
    "test_output = DCAP_Model(test_input)\n",
    "\n",
    "print(test_output.shape)\n",
    "print(f\"test_output is {test_output}\")"
   ]
  },
  {
   "cell_type": "markdown",
   "metadata": {},
   "source": [
    "### with extra input"
   ]
  },
  {
   "cell_type": "code",
   "execution_count": 14,
   "metadata": {},
   "outputs": [
    {
     "name": "stdout",
     "output_type": "stream",
     "text": [
      "torch.Size([8, 1])\n",
      "test_output is tensor([[0.9538],\n",
      "        [0.3843],\n",
      "        [0.5930],\n",
      "        [0.3825],\n",
      "        [0.6580],\n",
      "        [0.3253],\n",
      "        [0.4911],\n",
      "        [0.6401]], grad_fn=<MulBackward0>)\n"
     ]
    }
   ],
   "source": [
    "fields = 4\n",
    "extra_input = torch.randn(8,2)\n",
    "\n",
    "(bz, ex_dim) = extra_input.shape\n",
    "projection_in_shape = sum(np.arange(fields))+ex_dim\n",
    "\n",
    "\n",
    "DCAP_Model = DCAPModel(fields=fields, in_shape=dim, projection_in_shape=projection_in_shape)\n",
    "\n",
    "test_output = DCAP_Model(test_input, extra_input=extra_input)\n",
    "\n",
    "print(test_output.shape)\n",
    "print(f\"test_output is {test_output}\")"
   ]
  },
  {
   "cell_type": "code",
   "execution_count": 15,
   "metadata": {},
   "outputs": [
    {
     "data": {
      "text/plain": [
       "DCAPModel(\n",
       "  (dcap_layer): DCAPLayer(\n",
       "    (mha_layers): ModuleList(\n",
       "      (0): MultiHeadAttentionLayer(\n",
       "        (linear_layers): ModuleList(\n",
       "          (0): Linear(in_features=16, out_features=16, bias=True)\n",
       "          (1): Linear(in_features=16, out_features=16, bias=True)\n",
       "          (2): Linear(in_features=16, out_features=16, bias=True)\n",
       "          (3): Linear(in_features=16, out_features=16, bias=True)\n",
       "        )\n",
       "        (attnlayer): SelfAttentionLayer(\n",
       "          (dropout): Dropout(p=0.1, inplace=False)\n",
       "        )\n",
       "      )\n",
       "    )\n",
       "    (pooling_layers): ModuleList(\n",
       "      (0): AvgPool1d(kernel_size=(1,), stride=(1,), padding=(0,))\n",
       "    )\n",
       "  )\n",
       "  (dnn_layer): DNNLayer(\n",
       "    (linear_layers): ModuleList(\n",
       "      (0): Linear(in_features=8, out_features=4, bias=True)\n",
       "      (1): Linear(in_features=4, out_features=1, bias=True)\n",
       "    )\n",
       "    (act_layers): ModuleList(\n",
       "      (0): ReLU()\n",
       "      (1): ReLU()\n",
       "    )\n",
       "    (dropout_layers): ModuleList(\n",
       "      (0): Dropout(p=0.1, inplace=False)\n",
       "      (1): Dropout(p=0.1, inplace=False)\n",
       "    )\n",
       "  )\n",
       ")"
      ]
     },
     "execution_count": 15,
     "metadata": {},
     "output_type": "execute_result"
    }
   ],
   "source": [
    "DCAP_Model"
   ]
  },
  {
   "cell_type": "code",
   "execution_count": null,
   "metadata": {},
   "outputs": [],
   "source": []
  }
 ],
 "metadata": {
  "kernelspec": {
   "display_name": "Python 3",
   "language": "python",
   "name": "python3"
  },
  "language_info": {
   "codemirror_mode": {
    "name": "ipython",
    "version": 3
   },
   "file_extension": ".py",
   "mimetype": "text/x-python",
   "name": "python",
   "nbconvert_exporter": "python",
   "pygments_lexer": "ipython3",
   "version": "3.10.4"
  }
 },
 "nbformat": 4,
 "nbformat_minor": 2
}
