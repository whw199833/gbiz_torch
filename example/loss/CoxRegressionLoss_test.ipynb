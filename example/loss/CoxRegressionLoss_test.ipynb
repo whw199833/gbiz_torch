{
 "cells": [
  {
   "cell_type": "code",
   "execution_count": null,
   "metadata": {},
   "outputs": [],
   "source": [
    "import torch\n",
    "import gbiz_torch.loss import CoxRegressionLoss"
   ]
  },
  {
   "cell_type": "code",
   "execution_count": null,
   "metadata": {},
   "outputs": [],
   "source": [
    "labels = torch.randint(0, 2, (8, 1))\n",
    "predict = torch.randint(0, 100, (8, 1))/100\n",
    "\n",
    "cox_loss = CoxRegressionLoss()\n",
    "cox_loss(labels, predict)"
   ]
  },
  {
   "cell_type": "code",
   "execution_count": null,
   "metadata": {},
   "outputs": [],
   "source": []
  }
 ],
 "metadata": {
  "language_info": {
   "name": "python"
  }
 },
 "nbformat": 4,
 "nbformat_minor": 2
}
