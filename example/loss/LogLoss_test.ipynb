{
 "cells": [
  {
   "cell_type": "code",
   "execution_count": null,
   "metadata": {},
   "outputs": [],
   "source": [
    "import torch\n",
    "import gbiz_torch.loss import LogLoss"
   ]
  },
  {
   "cell_type": "code",
   "execution_count": null,
   "metadata": {},
   "outputs": [],
   "source": [
    "##test LogLoss\n",
    "\n",
    "labels = torch.randint(0, 5, (8, 1))\n",
    "predict = torch.randn((8, 5), requires_grad=True)\n",
    "\n",
    "Log_loss = LogLoss()\n",
    "Log_loss(labels, predict)"
   ]
  },
  {
   "cell_type": "code",
   "execution_count": null,
   "metadata": {},
   "outputs": [],
   "source": []
  }
 ],
 "metadata": {
  "language_info": {
   "name": "python"
  }
 },
 "nbformat": 4,
 "nbformat_minor": 2
}
