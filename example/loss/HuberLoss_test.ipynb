{
 "cells": [
  {
   "cell_type": "code",
   "execution_count": null,
   "metadata": {},
   "outputs": [],
   "source": [
    "import torch\n",
    "import gbiz_torch.loss import HuberLoss"
   ]
  },
  {
   "cell_type": "code",
   "execution_count": null,
   "metadata": {},
   "outputs": [],
   "source": [
    "##test HuberLoss\n",
    "\n",
    "labels = torch.randn(8, 5)\n",
    "predict = torch.randn(8, 5)\n",
    "\n",
    "Huber_Loss = HuberLoss()\n",
    "Huber_Loss(labels, predict)"
   ]
  },
  {
   "cell_type": "code",
   "execution_count": null,
   "metadata": {},
   "outputs": [],
   "source": []
  }
 ],
 "metadata": {
  "language_info": {
   "name": "python"
  }
 },
 "nbformat": 4,
 "nbformat_minor": 2
}
