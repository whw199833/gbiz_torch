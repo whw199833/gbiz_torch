{
 "cells": [
  {
   "cell_type": "code",
   "execution_count": null,
   "metadata": {},
   "outputs": [],
   "source": [
    "import torch\n",
    "import gbiz_torch.loss import MCCrossEntropy"
   ]
  },
  {
   "cell_type": "code",
   "execution_count": null,
   "metadata": {},
   "outputs": [],
   "source": [
    "##test MCCrossEntropy\n",
    "\n",
    "labels_d = torch.cat([torch.eye(5), torch.eye(5)], dim=0)\n",
    "predict = torch.randn((10, 5), requires_grad=True)\n",
    "\n",
    "MCCross_Entropy = MCCrossEntropy()\n",
    "MCCross_Entropy(labels_d, predict)"
   ]
  },
  {
   "cell_type": "code",
   "execution_count": null,
   "metadata": {},
   "outputs": [],
   "source": []
  }
 ],
 "metadata": {
  "language_info": {
   "name": "python"
  }
 },
 "nbformat": 4,
 "nbformat_minor": 2
}
