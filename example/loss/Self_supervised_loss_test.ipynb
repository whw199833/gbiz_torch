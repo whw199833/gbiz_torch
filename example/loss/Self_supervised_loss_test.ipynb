{
 "cells": [
  {
   "cell_type": "code",
   "execution_count": null,
   "metadata": {},
   "outputs": [],
   "source": [
    "import torch\n",
    "import gbiz_torch.loss import SupConLoss"
   ]
  },
  {
   "cell_type": "code",
   "execution_count": null,
   "metadata": {},
   "outputs": [],
   "source": [
    "test_input = torch.randn(16, 50)\n",
    "label = torch.randint(2, (16, 1))\n",
    "\n",
    "loss_func = SupConLoss()\n",
    "loss_func(features=test_input, labels=label)"
   ]
  },
  {
   "cell_type": "code",
   "execution_count": null,
   "metadata": {},
   "outputs": [],
   "source": [
    "test_mask = torch.randint(2, (16, 16))\n",
    "mask = test_mask + test_mask.T\n",
    "mask = mask - 2*torch.eye(16)\n",
    "mask = mask - torch.ones((16, 16))\n",
    "mask = mask>0\n",
    "\n",
    "loss_func(features=test_input, mask=mask)"
   ]
  }
 ],
 "metadata": {
  "language_info": {
   "name": "python"
  }
 },
 "nbformat": 4,
 "nbformat_minor": 2
}
