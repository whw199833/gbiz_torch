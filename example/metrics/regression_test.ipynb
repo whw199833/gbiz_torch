{
 "cells": [
  {
   "cell_type": "code",
   "execution_count": 2,
   "metadata": {},
   "outputs": [],
   "source": [
    "import torch\n",
    "from gbiz_torch.metrics import r2_score, MME"
   ]
  },
  {
   "cell_type": "code",
   "execution_count": 3,
   "metadata": {},
   "outputs": [],
   "source": [
    "### test r2_score\n",
    "y_pred = torch.randn(10, 1)\n",
    "y_label = torch.randint(0, 2, (10,))\n",
    "\n",
    "get_r2 = r2_score()\n",
    "get_r2(y_label, y_pred)"
   ]
  },
  {
   "cell_type": "code",
   "execution_count": null,
   "metadata": {},
   "outputs": [],
   "source": [
    "### test MME\n",
    "y_pred = torch.randn(10, 4)\n",
    "y_label = torch.randn(10, 4)\n",
    "\n",
    "get_mme = MME()\n",
    "get_mme(y_label, y_pred)"
   ]
  }
 ],
 "metadata": {
  "kernelspec": {
   "display_name": "Python 3",
   "language": "python",
   "name": "python3"
  },
  "language_info": {
   "codemirror_mode": {
    "name": "ipython",
    "version": 3
   },
   "file_extension": ".py",
   "mimetype": "text/x-python",
   "name": "python",
   "nbconvert_exporter": "python",
   "pygments_lexer": "ipython3",
   "version": "3.10.4"
  }
 },
 "nbformat": 4,
 "nbformat_minor": 2
}
