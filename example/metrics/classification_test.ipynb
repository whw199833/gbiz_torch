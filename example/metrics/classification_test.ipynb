{
 "cells": [
  {
   "cell_type": "code",
   "execution_count": 2,
   "metadata": {},
   "outputs": [],
   "source": [
    "from gbiz_torch.metrics import AUC, Confusion_Matrix, ACC_F1_score, Top_K_Acc, Multi_Class_RP"
   ]
  },
  {
   "cell_type": "code",
   "execution_count": 3,
   "metadata": {},
   "outputs": [],
   "source": [
    "## test AUC\n",
    "\n",
    "import torch\n",
    "# simulate a classification problem\n",
    "preds = torch.randn(10, 1)\n",
    "# target = torch.randn(10, 1)\n",
    "target = torch.randint(0,2, (10,))\n",
    "\n",
    "eval_auc = AUC()\n",
    "eval_auc(target, preds)"
   ]
  },
  {
   "cell_type": "code",
   "execution_count": null,
   "metadata": {},
   "outputs": [],
   "source": [
    "## test Confusion_Matrix\n",
    "\n",
    "import torch\n",
    "# simulate a classification problem\n",
    "preds = torch.randn(10, 3)\n",
    "pred_label = torch.argmax(preds, axis=1)\n",
    "\n",
    "# target = torch.randn(10, 1)\n",
    "target = torch.randint(0,3, (10,))\n",
    "\n",
    "\n",
    "C_matrix = Confusion_Matrix()\n",
    "C_matrix(pred_label, target)"
   ]
  },
  {
   "cell_type": "code",
   "execution_count": null,
   "metadata": {},
   "outputs": [],
   "source": [
    "## test F1\n",
    "\n",
    "import torch\n",
    "# simulate a classification problem\n",
    "preds = torch.randn(100, 4)\n",
    "pred_label = torch.argmax(preds, axis=1)\n",
    "\n",
    "# target = torch.randn(10, 1)\n",
    "target = torch.randint(0,4, (100,))\n",
    "\n",
    "\n",
    "f1_acc = ACC_F1_score()\n",
    "f1_acc(pred_label, target)"
   ]
  },
  {
   "cell_type": "code",
   "execution_count": null,
   "metadata": {},
   "outputs": [],
   "source": [
    "## test Top_K_Acc\n",
    "\n",
    "import torch\n",
    "# simulate a classification problem\n",
    "preds = torch.randn(100, 4)\n",
    "\n",
    "target = torch.randint(0,4, (100,))\n",
    "\n",
    "\n",
    "top_k_acc = Top_K_Acc(k=2)\n",
    "top_k_acc(target, preds)"
   ]
  },
  {
   "cell_type": "code",
   "execution_count": null,
   "metadata": {},
   "outputs": [],
   "source": [
    "## test Multi_Class_RP\n",
    "\n",
    "import torch\n",
    "# simulate a classification problem\n",
    "preds = torch.randn(10, 4)\n",
    "preds_labels = torch.argmax(preds, axis=-1)\n",
    "\n",
    "target = torch.randint(0,4, (10,))\n",
    "\n",
    "\n",
    "mc_rp = Multi_Class_RP()\n",
    "precision, recall, fbeta_score, support = mc_rp(target, preds_labels)\n",
    "print(f\"precision is {precision}\")\n",
    "print(f\"recall is {recall}\")\n",
    "print(f\"fbeta_score is {fbeta_score}\")\n",
    "print(f\"support is {support}\")"
   ]
  }
 ],
 "metadata": {
  "kernelspec": {
   "display_name": "Python 3",
   "language": "python",
   "name": "python3"
  },
  "language_info": {
   "codemirror_mode": {
    "name": "ipython",
    "version": 3
   },
   "file_extension": ".py",
   "mimetype": "text/x-python",
   "name": "python",
   "nbconvert_exporter": "python",
   "pygments_lexer": "ipython3",
   "version": "3.10.4"
  }
 },
 "nbformat": 4,
 "nbformat_minor": 2
}
