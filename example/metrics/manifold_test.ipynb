{
 "cells": [
  {
   "cell_type": "code",
   "execution_count": 2,
   "metadata": {},
   "outputs": [],
   "source": [
    "import torch\n",
    "from gbiz_torch.metrics import tsne, sp_emb"
   ]
  },
  {
   "cell_type": "code",
   "execution_count": 3,
   "metadata": {},
   "outputs": [],
   "source": [
    "# test tsne\n",
    "\n",
    "layer_out = torch.randn(10, 4096)\n",
    "\n",
    "get_tsne = tsne(n_components=3, learning_rate='auto', init='random', perplexity=3)\n",
    "get_tsne(layer_out)"
   ]
  },
  {
   "cell_type": "code",
   "execution_count": null,
   "metadata": {},
   "outputs": [],
   "source": [
    "# test sp_emb\n",
    "\n",
    "layer_out = torch.randn(10, 4096)\n",
    "\n",
    "get_tsne = tsne(n_components=3, learning_rate='auto', init='random', perplexity=3)\n",
    "get_tsne(layer_out)"
   ]
  }
 ],
 "metadata": {
  "kernelspec": {
   "display_name": "Python 3",
   "language": "python",
   "name": "python3"
  },
  "language_info": {
   "codemirror_mode": {
    "name": "ipython",
    "version": 3
   },
   "file_extension": ".py",
   "mimetype": "text/x-python",
   "name": "python",
   "nbconvert_exporter": "python",
   "pygments_lexer": "ipython3",
   "version": "3.10.4"
  }
 },
 "nbformat": 4,
 "nbformat_minor": 2
}
