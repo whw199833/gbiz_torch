{
 "cells": [
  {
   "cell_type": "code",
   "execution_count": 2,
   "metadata": {},
   "outputs": [],
   "source": [
    "import torch\n",
    "import torch.nn as nn\n",
    "import torch.nn.functional as F\n",
    "from gbiz_torch.layer import TransformerEncoderLayer, TransformerEncoder"
   ]
  },
  {
   "cell_type": "code",
   "execution_count": 3,
   "metadata": {},
   "outputs": [
    {
     "data": {
      "text/plain": [
       "torch.Size([8, 3, 6])"
      ]
     },
     "execution_count": 3,
     "metadata": {},
     "output_type": "execute_result"
    }
   ],
   "source": [
    "test_input = torch.randint(0, 2, (8, 3))\n",
    "# padding_idx = 0\n",
    "embedding = nn.Embedding(2, 6)\n",
    "test_input = embedding(test_input)\n",
    "test_input.shape"
   ]
  },
  {
   "cell_type": "code",
   "execution_count": 6,
   "metadata": {},
   "outputs": [
    {
     "name": "stdout",
     "output_type": "stream",
     "text": [
      "test_output.shape is torch.Size([8, 3, 6])\n",
      "test_output is tensor([[[-0.7783,  0.4308,  1.8518, -1.0653,  0.3040, -0.7430],\n",
      "         [ 1.0332,  0.5063,  0.5906, -0.4280,  0.3099, -2.0120],\n",
      "         [ 0.1226,  0.4623,  1.7120, -1.1381,  0.0814, -1.2403]],\n",
      "\n",
      "        [[ 0.2758, -0.4873, -0.5009,  2.0298, -1.1317, -0.1857],\n",
      "         [ 0.0134, -0.1294, -0.3636,  2.0863, -1.1254, -0.4814],\n",
      "         [ 0.2208, -0.5296, -0.2323,  2.0921, -0.9111, -0.6400]],\n",
      "\n",
      "        [[ 0.0545, -0.5280, -0.3711,  2.0760, -1.1219, -0.1096],\n",
      "         [ 0.5740, -0.5335, -0.5141,  1.9914, -0.7151, -0.8027],\n",
      "         [ 0.2372, -0.7829, -0.2813,  2.0992, -0.7695, -0.5026]],\n",
      "\n",
      "        [[ 0.4570, -0.0596, -0.9603,  1.9085, -1.0714, -0.2742],\n",
      "         [ 0.1644, -0.6538,  1.3084, -0.2712,  1.0696, -1.6174],\n",
      "         [ 0.4389, -0.4225, -0.5770,  2.0006, -1.0784, -0.3617]],\n",
      "\n",
      "        [[-0.3177, -0.5333, -0.3774,  2.1639, -0.8875, -0.0480],\n",
      "         [ 0.5525, -0.1921, -0.5126,  1.9101, -1.1962, -0.5616],\n",
      "         [ 0.3295, -0.4243, -0.4226,  2.0268, -1.1326, -0.3768]],\n",
      "\n",
      "        [[ 0.1415, -0.6846, -0.4517,  2.0723, -1.0038, -0.0737],\n",
      "         [ 0.6745, -0.3807, -0.4743,  1.9024, -1.0527, -0.6692],\n",
      "         [ 0.3295, -0.4243, -0.4226,  2.0268, -1.1326, -0.3768]],\n",
      "\n",
      "        [[ 0.4053,  0.9187,  0.9878, -1.3650,  0.4498, -1.3965],\n",
      "         [ 1.2290, -0.1707, -0.7670,  1.5028, -0.8513, -0.9427],\n",
      "         [ 0.1028,  0.3197,  1.7467, -0.9139,  0.1511, -1.4064]],\n",
      "\n",
      "        [[ 0.3482,  0.2912,  1.7346, -1.0682, -0.0238, -1.2820],\n",
      "         [ 0.9360, -1.1178, -0.1346,  1.5840, -0.1126, -1.1551],\n",
      "         [ 0.2541, -0.1931, -0.5883,  2.0224, -1.1623, -0.3329]]],\n",
      "       grad_fn=<NativeLayerNormBackward0>)\n"
     ]
    }
   ],
   "source": [
    "# print(f\"test_input.shape is {test_input.shape}\")\n",
    "## n_inputs: n_fields\n",
    "## in_shape: emb_dim\n",
    "\n",
    "TEL_layer = TransformerEncoderLayer(in_shape=6, intermediate_size=12, hidden_units=6, heads=3)\n",
    "test_output = TEL_layer(test_input)\n",
    "\n",
    "print(f\"test_output.shape is {test_output.shape}\")\n",
    "print(f\"test_output is {test_output}\")"
   ]
  },
  {
   "cell_type": "code",
   "execution_count": 7,
   "metadata": {},
   "outputs": [
    {
     "name": "stdout",
     "output_type": "stream",
     "text": [
      "test_output.shape is torch.Size([8, 3, 6])\n",
      "test_output is tensor([[[-1.2676, -1.2681,  0.7100, -0.2699,  1.1262,  0.9694],\n",
      "         [-1.1481, -0.4481,  1.7867,  0.7982, -0.2088, -0.7799],\n",
      "         [-1.1184, -1.1208,  0.4980,  1.4930,  0.8258, -0.5777]],\n",
      "\n",
      "        [[-0.9582, -0.9536, -0.0826, -0.2829,  0.2749,  2.0025],\n",
      "         [-0.9745,  0.8672,  0.9633,  1.0570, -1.4166, -0.4965],\n",
      "         [-0.9868, -0.7259, -1.1338,  1.3123,  0.3702,  1.1639]],\n",
      "\n",
      "        [[-1.1904, -0.7524, -0.4421, -0.1780,  0.7787,  1.7842],\n",
      "         [ 0.5383, -0.8185,  1.5728,  0.7264, -1.0227, -0.9963],\n",
      "         [-1.2984, -0.7661, -0.4100,  0.8782, -0.0719,  1.6681]],\n",
      "\n",
      "        [[-0.7114,  1.1175,  1.1597,  0.5677, -0.6780, -1.4555],\n",
      "         [-1.6198, -1.0428,  0.6912,  0.5188,  0.2330,  1.2196],\n",
      "         [-1.2358, -0.4425, -1.0396,  0.2525,  1.4487,  1.0168]],\n",
      "\n",
      "        [[-0.6013, -0.2633,  0.0625, -0.8355,  2.1466, -0.5090],\n",
      "         [ 0.2557, -1.5559,  1.6652, -0.4671,  0.5596, -0.4575],\n",
      "         [-1.7570, -0.6506, -0.2154,  1.1078,  0.5733,  0.9419]],\n",
      "\n",
      "        [[-1.7590, -0.5268,  0.4395,  0.9729,  1.1808, -0.3074],\n",
      "         [-0.3832, -1.2417,  0.9127,  1.6674, -0.8254, -0.1298],\n",
      "         [-1.7391, -0.7568, -0.1049,  1.1306,  0.8631,  0.6070]],\n",
      "\n",
      "        [[ 0.0066, -1.2760,  0.5779, -1.0935,  1.6827,  0.1022],\n",
      "         [-1.6843, -0.7632,  1.4708,  0.0842,  0.5244,  0.3681],\n",
      "         [-0.5306, -0.3853, -0.8693, -0.8516,  0.7648,  1.8719]],\n",
      "\n",
      "        [[-0.8020, -1.1895,  0.3948, -0.5222,  1.8559,  0.2630],\n",
      "         [-0.7191, -0.9912,  1.7900,  0.7951, -0.0622, -0.8126],\n",
      "         [-1.6145, -0.7589,  0.1827,  0.9911,  1.3355, -0.1359]]],\n",
      "       grad_fn=<NativeLayerNormBackward0>)\n"
     ]
    }
   ],
   "source": [
    "TE = TransformerEncoder(in_shape=6, n_layers=10,intermediate_size=12, hidden_units=6, heads=3)\n",
    "test_output = TE(test_input)\n",
    "\n",
    "print(f\"test_output.shape is {test_output.shape}\")\n",
    "print(f\"test_output is {test_output}\")"
   ]
  },
  {
   "cell_type": "code",
   "execution_count": null,
   "metadata": {},
   "outputs": [],
   "source": []
  }
 ],
 "metadata": {
  "kernelspec": {
   "display_name": "Python 3",
   "language": "python",
   "name": "python3"
  },
  "language_info": {
   "codemirror_mode": {
    "name": "ipython",
    "version": 3
   },
   "file_extension": ".py",
   "mimetype": "text/x-python",
   "name": "python",
   "nbconvert_exporter": "python",
   "pygments_lexer": "ipython3",
   "version": "3.10.4"
  }
 },
 "nbformat": 4,
 "nbformat_minor": 2
}
