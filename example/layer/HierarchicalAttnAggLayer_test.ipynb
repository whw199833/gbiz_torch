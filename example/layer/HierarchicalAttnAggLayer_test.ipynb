{
 "cells": [
  {
   "cell_type": "code",
   "execution_count": 46,
   "metadata": {},
   "outputs": [],
   "source": [
    "import torch \n",
    "import torch.nn as nn\n",
    "import torch.nn.functional as F\n",
    "from gbiz_torch.layer import HierarchicalAttnAggLayer"
   ]
  },
  {
   "cell_type": "code",
   "execution_count": 49,
   "metadata": {},
   "outputs": [
    {
     "data": {
      "text/plain": [
       "torch.Size([8, 3, 6])"
      ]
     },
     "execution_count": 49,
     "metadata": {},
     "output_type": "execute_result"
    }
   ],
   "source": [
    "test_input = torch.randint(0, 2, (8, 3))\n",
    "# padding_idx = 0\n",
    "embedding = nn.Embedding(2, 6)\n",
    "test_input = embedding(test_input)\n",
    "test_input.shape"
   ]
  },
  {
   "cell_type": "code",
   "execution_count": 50,
   "metadata": {},
   "outputs": [
    {
     "name": "stdout",
     "output_type": "stream",
     "text": [
      "test_output.shape is torch.Size([8, 6])\n",
      "test_output is tensor([[ 4.9103, -0.2262,  0.8511, -0.2207,  3.1789,  0.1640],\n",
      "        [ 4.9103, -0.2262,  0.8511, -0.2207,  3.1789,  0.1640],\n",
      "        [ 0.3888, -0.1527,  2.8794,  0.1815,  0.5700,  0.9954],\n",
      "        [ 0.3888, -0.1527,  2.8794,  0.1815,  0.5700,  0.9954],\n",
      "        [-0.2198, -0.0212,  3.6665,  0.6146,  0.0689,  1.4266],\n",
      "        [ 4.9103, -0.2262,  0.8511, -0.2207,  3.1789,  0.1640],\n",
      "        [ 0.3888, -0.1527,  2.8794,  0.1815,  0.5700,  0.9954],\n",
      "        [ 1.7320, -0.2258,  1.8138, -0.1172,  1.4588,  0.5403]],\n",
      "       grad_fn=<SqueezeBackward1>)\n"
     ]
    }
   ],
   "source": [
    "# print(f\"test_input.shape is {test_input.shape}\")\n",
    "## n_inputs: n_fields\n",
    "## in_shape: emb_dim\n",
    "\n",
    "HAA_layer = HierarchicalAttnAggLayer(in_shape=6, n_layers=3)\n",
    "test_output = HAA_layer(test_input)\n",
    "\n",
    "print(f\"test_output.shape is {test_output.shape}\")\n",
    "print(f\"test_output is {test_output}\")"
   ]
  },
  {
   "cell_type": "code",
   "execution_count": null,
   "metadata": {},
   "outputs": [],
   "source": []
  }
 ],
 "metadata": {
  "kernelspec": {
   "display_name": "Python 3",
   "language": "python",
   "name": "python3"
  },
  "language_info": {
   "codemirror_mode": {
    "name": "ipython",
    "version": 3
   },
   "file_extension": ".py",
   "mimetype": "text/x-python",
   "name": "python",
   "nbconvert_exporter": "python",
   "pygments_lexer": "ipython3",
   "version": "3.10.4"
  }
 },
 "nbformat": 4,
 "nbformat_minor": 2
}
