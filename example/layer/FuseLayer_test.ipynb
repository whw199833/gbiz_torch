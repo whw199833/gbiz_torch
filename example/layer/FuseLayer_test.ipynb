{
 "cells": [
  {
   "cell_type": "code",
   "execution_count": 2,
   "metadata": {},
   "outputs": [],
   "source": [
    "import torch \n",
    "import torch.nn as nn\n",
    "import torch.nn.functional as F\n",
    "from gbiz_torch.layer import FuseLayer"
   ]
  },
  {
   "cell_type": "code",
   "execution_count": 3,
   "metadata": {},
   "outputs": [
    {
     "data": {
      "text/plain": [
       "torch.Size([8, 3, 6])"
      ]
     },
     "execution_count": 3,
     "metadata": {},
     "output_type": "execute_result"
    }
   ],
   "source": [
    "test_input1 = torch.randint(0, 2, (8, 3))\n",
    "# padding_idx = 0\n",
    "embedding = nn.Embedding(2, 6)\n",
    "test_input1 = embedding(test_input1)\n",
    "test_input1.shape"
   ]
  },
  {
   "cell_type": "code",
   "execution_count": 10,
   "metadata": {},
   "outputs": [
    {
     "data": {
      "text/plain": [
       "torch.Size([8, 1, 6])"
      ]
     },
     "execution_count": 10,
     "metadata": {},
     "output_type": "execute_result"
    }
   ],
   "source": [
    "test_input2 = torch.randint(0, 2, (8, 1))\n",
    "# padding_idx = 0\n",
    "embedding = nn.Embedding(2, 6)\n",
    "test_input2 = embedding(test_input2)\n",
    "# test_input2 = torch.squeeze(test_input2, dim=1)\n",
    "test_input2.shape"
   ]
  },
  {
   "cell_type": "code",
   "execution_count": 11,
   "metadata": {},
   "outputs": [
    {
     "name": "stdout",
     "output_type": "stream",
     "text": [
      "input_a torch.Size([8, 3, 6]), input_b torch.Size([8, 1, 6])\n",
      "features  torch.Size([8, 3, 24])\n",
      "score  torch.Size([8, 3, 12])\n",
      "score  torch.Size([8, 1, 3])\n",
      "test_output.shape is torch.Size([8, 6])\n",
      "test_output is tensor([[ 4.0335e+00, -4.4911e+00, -1.7842e+00, -7.2741e-01,  9.5252e+00,\n",
      "          4.2874e+00],\n",
      "        [ 3.3926e-02, -8.8911e-02, -2.5576e-02, -3.0380e-02,  2.1815e-01,\n",
      "          1.1242e-01],\n",
      "        [ 3.6390e-01, -2.5497e-01, -1.2993e-01,  5.6383e-03,  4.5389e-01,\n",
      "          1.6253e-01],\n",
      "        [ 9.2071e+00, -6.4512e+00, -3.2874e+00,  1.4266e-01,  1.1484e+01,\n",
      "          4.1122e+00],\n",
      "        [ 9.2071e+00, -6.4512e+00, -3.2874e+00,  1.4266e-01,  1.1484e+01,\n",
      "          4.1122e+00],\n",
      "        [ 3.6390e-01, -2.5497e-01, -1.2993e-01,  5.6383e-03,  4.5389e-01,\n",
      "          1.6253e-01],\n",
      "        [ 2.0780e-01, -1.7798e-01, -8.0886e-02, -1.2144e-02,  3.4660e-01,\n",
      "          1.4116e-01],\n",
      "        [ 2.0444e-01, -1.7429e-01, -7.9411e-02, -1.1562e-02,  3.3881e-01,\n",
      "          1.3767e-01]], grad_fn=<SqueezeBackward1>)\n"
     ]
    }
   ],
   "source": [
    "# print(f\"test_input.shape is {test_input.shape}\")\n",
    "## n_inputs: n_fields\n",
    "## in_shape: emb_dim\n",
    "\n",
    "test_input = [test_input1, test_input2]\n",
    "\n",
    "FS_layer = FuseLayer(in_shape=6, input_length=3, hidden_units=[12])\n",
    "test_output = FS_layer(test_input)\n",
    "\n",
    "print(f\"test_output.shape is {test_output.shape}\")\n",
    "print(f\"test_output is {test_output}\")"
   ]
  },
  {
   "cell_type": "code",
   "execution_count": null,
   "metadata": {},
   "outputs": [],
   "source": []
  }
 ],
 "metadata": {
  "kernelspec": {
   "display_name": "Python 3",
   "language": "python",
   "name": "python3"
  },
  "language_info": {
   "codemirror_mode": {
    "name": "ipython",
    "version": 3
   },
   "file_extension": ".py",
   "mimetype": "text/x-python",
   "name": "python",
   "nbconvert_exporter": "python",
   "pygments_lexer": "ipython3",
   "version": "3.10.4"
  }
 },
 "nbformat": 4,
 "nbformat_minor": 2
}
