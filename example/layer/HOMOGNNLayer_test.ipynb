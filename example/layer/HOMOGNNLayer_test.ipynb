{
 "cells": [
  {
   "cell_type": "code",
   "execution_count": 1,
   "metadata": {},
   "outputs": [],
   "source": [
    "import torch\n",
    "import torch.nn as nn\n",
    "from torch_geometric.data import Data\n",
    "from torch_geometric.utils import train_test_split_edges\n",
    "from gbiz_torch.layer import HOMOGNNLayer"
   ]
  },
  {
   "cell_type": "code",
   "execution_count": 2,
   "metadata": {},
   "outputs": [
    {
     "name": "stderr",
     "output_type": "stream",
     "text": [
      "c:\\Users\\admin\\AppData\\Local\\Programs\\Python\\Python311\\Lib\\site-packages\\torch_geometric\\deprecation.py:26: UserWarning: 'train_test_split_edges' is deprecated, use 'transforms.RandomLinkSplit' instead\n",
      "  warnings.warn(out)\n"
     ]
    }
   ],
   "source": [
    "## test gnn based model or layer\n",
    "\n",
    "node_data = torch.randn(128, 10)\n",
    "edge_data = torch.randint(0, 128, (2, 1000))\n",
    "\n",
    "learn_data = Data(x=node_data, edge_index=edge_data)\n",
    "learn_data = train_test_split_edges(learn_data)"
   ]
  },
  {
   "cell_type": "code",
   "execution_count": null,
   "metadata": {},
   "outputs": [],
   "source": [
    "in_channel = learn_data.x.shape[-1]\n",
    "test_gnn = HOMOGNNLayer(in_channel=in_channel, gtype='ARMAConv', heads=1, hidden_channel_list=[2*in_channel, in_channel//2])\n",
    "\n",
    "test_inputs = [learn_data.x, learn_data.train_pos_edge_index]\n",
    "test_gnn(test_inputs).shape"
   ]
  }
 ],
 "metadata": {
  "kernelspec": {
   "display_name": "Python 3",
   "language": "python",
   "name": "python3"
  },
  "language_info": {
   "codemirror_mode": {
    "name": "ipython",
    "version": 3
   },
   "file_extension": ".py",
   "mimetype": "text/x-python",
   "name": "python",
   "nbconvert_exporter": "python",
   "pygments_lexer": "ipython3",
   "version": "3.11.3"
  }
 },
 "nbformat": 4,
 "nbformat_minor": 2
}
