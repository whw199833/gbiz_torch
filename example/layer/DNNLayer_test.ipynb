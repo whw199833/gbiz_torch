{
 "cells": [
  {
   "cell_type": "code",
   "execution_count": 10,
   "metadata": {},
   "outputs": [],
   "source": [
    "import torch \n",
    "from gbiz_torch.layer import DNNLayer"
   ]
  },
  {
   "cell_type": "code",
   "execution_count": 11,
   "metadata": {},
   "outputs": [
    {
     "name": "stdout",
     "output_type": "stream",
     "text": [
      "test_input is tensor([[-0.0828,  0.6709,  1.6570,  0.0685,  1.3386],\n",
      "        [-1.0894, -0.2801,  1.0738,  0.2038, -0.3648],\n",
      "        [ 0.4094,  1.0263,  0.2071,  0.4989, -0.7659],\n",
      "        [ 0.3862,  0.9924,  0.2170, -0.2447,  0.7207],\n",
      "        [-0.1023,  0.0680, -1.4977, -0.4742, -1.4245],\n",
      "        [ 0.2062,  0.6752,  1.0049, -0.3949,  0.1926],\n",
      "        [-2.1579, -0.1749, -0.6920,  1.1264, -0.6249],\n",
      "        [ 0.4740,  1.3189, -0.8061, -0.2437, -1.6577],\n",
      "        [ 1.3288,  0.0323,  0.0600, -0.1586,  0.3771],\n",
      "        [-0.6446,  0.7673, -0.5710, -0.1790,  0.4055],\n",
      "        [ 0.8320,  0.3505,  1.0846, -1.7102, -0.6273],\n",
      "        [-0.0182,  0.4496, -1.7834,  0.3908, -0.0690],\n",
      "        [ 0.0947, -0.2650,  0.5024,  1.1743, -1.6458],\n",
      "        [-0.6766,  0.4417,  0.3633, -0.3405, -0.6205],\n",
      "        [-1.1032, -1.2899, -0.6350,  0.1669, -0.5507],\n",
      "        [-0.2649, -0.7017,  1.1049, -0.2625, -0.2276]])\n",
      "torch.Size([16, 1])\n",
      "test_output is tensor([[ 1.3678],\n",
      "        [ 0.0720],\n",
      "        [ 0.0000],\n",
      "        [-0.0000],\n",
      "        [-0.0018],\n",
      "        [-0.0097],\n",
      "        [ 0.0000],\n",
      "        [-0.0105],\n",
      "        [-0.0046],\n",
      "        [ 1.6656],\n",
      "        [ 0.0000],\n",
      "        [-0.0083],\n",
      "        [-0.0264],\n",
      "        [-0.0040],\n",
      "        [-0.0056],\n",
      "        [-0.0000]], grad_fn=<MulBackward0>)\n"
     ]
    }
   ],
   "source": [
    "test_input = torch.randn((16, 5))\n",
    "print(f\"test_input is {test_input}\")\n",
    "dnn_layer = DNNLayer(in_shape=test_input.shape[-1], hidden_units=[10, 8, 1], activation='leaky_relu', dropout_rate=0.3, use_bn=True, l2_reg=0.9)\n",
    "\n",
    "test_output = dnn_layer(test_input)\n",
    "\n",
    "print(test_output.shape)\n",
    "print(f\"test_output is {test_output}\")"
   ]
  },
  {
   "cell_type": "code",
   "execution_count": 12,
   "metadata": {},
   "outputs": [
    {
     "data": {
      "text/plain": [
       "DNNLayer(\n",
       "  (linear_layers): ModuleList(\n",
       "    (0): Linear(in_features=5, out_features=10, bias=True)\n",
       "    (1): Linear(in_features=10, out_features=8, bias=True)\n",
       "    (2): Linear(in_features=8, out_features=1, bias=True)\n",
       "  )\n",
       "  (act_layers): ModuleList(\n",
       "    (0): LeakyReLU(negative_slope=0.01)\n",
       "    (1): LeakyReLU(negative_slope=0.01)\n",
       "    (2): LeakyReLU(negative_slope=0.01)\n",
       "  )\n",
       "  (bn_layers): ModuleList(\n",
       "    (0): BatchNorm1d(10, eps=1e-05, momentum=0.1, affine=True, track_running_stats=True)\n",
       "    (1): BatchNorm1d(8, eps=1e-05, momentum=0.1, affine=True, track_running_stats=True)\n",
       "    (2): BatchNorm1d(1, eps=1e-05, momentum=0.1, affine=True, track_running_stats=True)\n",
       "  )\n",
       "  (dropout_layers): ModuleList(\n",
       "    (0): Dropout(p=0.3, inplace=False)\n",
       "    (1): Dropout(p=0.3, inplace=False)\n",
       "    (2): Dropout(p=0.3, inplace=False)\n",
       "  )\n",
       ")"
      ]
     },
     "execution_count": 12,
     "metadata": {},
     "output_type": "execute_result"
    }
   ],
   "source": [
    "dnn_layer"
   ]
  },
  {
   "cell_type": "code",
   "execution_count": null,
   "metadata": {},
   "outputs": [],
   "source": []
  }
 ],
 "metadata": {
  "kernelspec": {
   "display_name": "Python 3",
   "language": "python",
   "name": "python3"
  },
  "language_info": {
   "codemirror_mode": {
    "name": "ipython",
    "version": 3
   },
   "file_extension": ".py",
   "mimetype": "text/x-python",
   "name": "python",
   "nbconvert_exporter": "python",
   "pygments_lexer": "ipython3",
   "version": "3.10.4"
  }
 },
 "nbformat": 4,
 "nbformat_minor": 2
}
