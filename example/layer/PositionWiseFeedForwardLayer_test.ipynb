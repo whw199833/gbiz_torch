{
 "cells": [
  {
   "cell_type": "code",
   "execution_count": 4,
   "metadata": {},
   "outputs": [],
   "source": [
    "import torch \n",
    "import torch.nn as nn\n",
    "import torch.nn.functional as F\n",
    "from gbiz_torch.layer import PositionWiseFeedForwardLayer"
   ]
  },
  {
   "cell_type": "code",
   "execution_count": 5,
   "metadata": {},
   "outputs": [
    {
     "data": {
      "text/plain": [
       "torch.Size([8, 3, 6])"
      ]
     },
     "execution_count": 5,
     "metadata": {},
     "output_type": "execute_result"
    }
   ],
   "source": [
    "test_input = torch.randint(0, 2, (8, 3))\n",
    "# padding_idx = 0\n",
    "embedding = nn.Embedding(2, 6)\n",
    "test_input = embedding(test_input)\n",
    "test_input.shape"
   ]
  },
  {
   "cell_type": "code",
   "execution_count": 7,
   "metadata": {},
   "outputs": [
    {
     "name": "stdout",
     "output_type": "stream",
     "text": [
      "test_output.shape is torch.Size([8, 3, 2])\n",
      "test_output is tensor([[[ 0.5464,  0.0862],\n",
      "         [ 0.5464,  0.0862],\n",
      "         [ 0.5464,  0.0862]],\n",
      "\n",
      "        [[ 0.5464,  0.0862],\n",
      "         [-0.3041,  0.4590],\n",
      "         [ 0.5464,  0.0862]],\n",
      "\n",
      "        [[-0.3041,  0.4590],\n",
      "         [-0.3041,  0.4590],\n",
      "         [-0.3041,  0.4590]],\n",
      "\n",
      "        [[ 0.5464,  0.0862],\n",
      "         [-0.3041,  0.4590],\n",
      "         [-0.3041,  0.4590]],\n",
      "\n",
      "        [[ 0.5464,  0.0862],\n",
      "         [-0.3041,  0.4590],\n",
      "         [ 0.5464,  0.0862]],\n",
      "\n",
      "        [[ 0.5464,  0.0862],\n",
      "         [-0.3041,  0.4590],\n",
      "         [ 0.5464,  0.0862]],\n",
      "\n",
      "        [[ 0.5464,  0.0862],\n",
      "         [-0.3041,  0.4590],\n",
      "         [-0.3041,  0.4590]],\n",
      "\n",
      "        [[-0.3041,  0.4590],\n",
      "         [-0.3041,  0.4590],\n",
      "         [ 0.5464,  0.0862]]], grad_fn=<ViewBackward0>)\n"
     ]
    }
   ],
   "source": [
    "# print(f\"test_input.shape is {test_input.shape}\")\n",
    "## n_inputs: n_fields\n",
    "## in_shape: emb_dim\n",
    "\n",
    "PWF_layer = PositionWiseFeedForwardLayer(in_shape=6, intermediate_size=12, hidden_units=2)\n",
    "test_output = PWF_layer(test_input)\n",
    "\n",
    "print(f\"test_output.shape is {test_output.shape}\")\n",
    "print(f\"test_output is {test_output}\")"
   ]
  },
  {
   "cell_type": "code",
   "execution_count": null,
   "metadata": {},
   "outputs": [],
   "source": []
  }
 ],
 "metadata": {
  "kernelspec": {
   "display_name": "Python 3",
   "language": "python",
   "name": "python3"
  },
  "language_info": {
   "codemirror_mode": {
    "name": "ipython",
    "version": 3
   },
   "file_extension": ".py",
   "mimetype": "text/x-python",
   "name": "python",
   "nbconvert_exporter": "python",
   "pygments_lexer": "ipython3",
   "version": "3.10.4"
  }
 },
 "nbformat": 4,
 "nbformat_minor": 2
}
