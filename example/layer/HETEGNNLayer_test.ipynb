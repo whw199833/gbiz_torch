{
 "cells": [
  {
   "cell_type": "code",
   "execution_count": 1,
   "metadata": {},
   "outputs": [],
   "source": [
    "import torch\n",
    "import torch.nn as nn\n",
    "from torch_geometric.data import Data\n",
    "from torch_geometric.utils import train_test_split_edges\n",
    "from gbiz_torch.layer import HETEGNNLayer"
   ]
  },
  {
   "cell_type": "code",
   "execution_count": 2,
   "metadata": {},
   "outputs": [
    {
     "name": "stderr",
     "output_type": "stream",
     "text": [
      "c:\\Users\\admin\\AppData\\Local\\Programs\\Python\\Python311\\Lib\\site-packages\\torch_geometric\\deprecation.py:26: UserWarning: 'train_test_split_edges' is deprecated, use 'transforms.RandomLinkSplit' instead\n",
      "  warnings.warn(out)\n"
     ]
    }
   ],
   "source": [
    "## test hetegnn based model or layer\n",
    "from torch_geometric.data import HeteroData\n",
    "import torch\n",
    "\n",
    "data = HeteroData()\n",
    "data['paper'].x = torch.randn(10, 5)\n",
    "data['author'].x = torch.randn(4, 15)\n",
    "data['conference'].x = torch.randn(3, 20)\n",
    "\n",
    "author_t = torch.randint(0, 4, (15,))\n",
    "paper_t = torch.randint(0, 10, (15,))\n",
    "data['author', 'paper'].edge_index = torch.stack([author_t, paper_t])\n",
    "data['paper', 'author'].edge_index = torch.stack([paper_t, author_t])\n",
    "\n",
    "paper_t = torch.arange(10)\n",
    "conference_t = torch.randint(0, 2, (10,))\n",
    "\n",
    "data['paper', 'conference'].edge_index = torch.stack([paper_t, conference_t])\n",
    "data['paper', 'cites', 'paper'].edge_index = torch.randint(0, 10, (2, 10))"
   ]
  },
  {
   "cell_type": "code",
   "execution_count": null,
   "metadata": {},
   "outputs": [],
   "source": [
    "test_gnn = HETEGNNLayer(data.node_types, data.metadata(), gtype='HANConv', hidden_channels=10, out_channels=5, num_heads=2, num_layers=3)\n",
    "\n",
    "test_gnn(data.x_dict, data.edge_index_dict)"
   ]
  }
 ],
 "metadata": {
  "kernelspec": {
   "display_name": "Python 3",
   "language": "python",
   "name": "python3"
  },
  "language_info": {
   "codemirror_mode": {
    "name": "ipython",
    "version": 3
   },
   "file_extension": ".py",
   "mimetype": "text/x-python",
   "name": "python",
   "nbconvert_exporter": "python",
   "pygments_lexer": "ipython3",
   "version": "3.11.3"
  }
 },
 "nbformat": 4,
 "nbformat_minor": 2
}
